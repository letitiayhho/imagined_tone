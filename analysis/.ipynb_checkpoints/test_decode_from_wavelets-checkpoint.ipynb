{
 "cells": [
  {
   "cell_type": "code",
   "execution_count": 1,
   "id": "c199e130",
   "metadata": {},
   "outputs": [],
   "source": [
    "import gc\n",
    "import sys\n",
    "import mne\n",
    "import numpy as np\n",
    "import pandas as pd\n",
    "\n",
    "import matplotlib.pyplot as plt\n",
    "from typing import Tuple, Iterator\n",
    "from mne_bids import BIDSPath, read_raw_bids, print_dir_tree\n",
    "from mne.time_frequency import tfr_morlet\n",
    "from bids import BIDSLayout\n",
    "\n",
    "from sklearn.pipeline import make_pipeline\n",
    "from sklearn import preprocessing\n",
    "from sklearn.preprocessing import StandardScaler\n",
    "from sklearn.linear_model import LogisticRegression\n",
    "from mne.decoding import SlidingEstimator, cross_val_multiscore"
   ]
  },
  {
   "cell_type": "code",
   "execution_count": 2,
   "id": "969735b7",
   "metadata": {},
   "outputs": [],
   "source": [
    "BIDS_ROOT = '../data/bids'\n",
    "FIGS_ROOT = '../figs'\n",
    "STIM_FREQS = np.array([50, 100, 150, 200, 250])\n",
    "np.random.seed(0)"
   ]
  },
  {
   "cell_type": "code",
   "execution_count": 3,
   "id": "3deac7c5",
   "metadata": {},
   "outputs": [
    {
     "name": "stdout",
     "output_type": "stream",
     "text": [
      "---------- Load data ----------\n",
      "Reading /project2/hcn1/imagined_tone/data/bids/derivatives/preprocessing/sub-17/sub-17_task-imagine_run-1_desc-clean_epo.fif.gz ...\n",
      "    Found the data of interest:\n",
      "        t =    -500.00 ...     500.00 ms\n",
      "        0 CTF compensation matrices available\n",
      "0 bad epochs dropped\n",
      "Not setting metadata\n",
      "573 matching events found\n",
      "No baseline correction applied\n",
      "0 projection items activated\n"
     ]
    }
   ],
   "source": [
    "print(\"---------- Load data ----------\")\n",
    "fpath = '/project2/hcn1/imagined_tone/data/bids/derivatives/preprocessing/sub-17/sub-17_task-imagine_run-1_desc-clean_epo.fif.gz'\n",
    "epochs = mne.read_epochs(fpath)"
   ]
  },
  {
   "cell_type": "code",
   "execution_count": 11,
   "id": "444ecdad",
   "metadata": {},
   "outputs": [
    {
     "name": "stdout",
     "output_type": "stream",
     "text": [
      "---------- Separate into heard and imagined epochs objects ----------\n"
     ]
    }
   ],
   "source": [
    "print(\"---------- Separate into heard and imagined epochs objects ----------\")\n",
    "epochs_heard = epochs['11', '12']\n",
    "events_heard = epochs_heard.events\n",
    "epochs_imagined = epochs['21', '22']\n",
    "events_imagined = epochs_imagined.events"
   ]
  },
  {
   "cell_type": "code",
   "execution_count": 12,
   "id": "521ec5b4",
   "metadata": {},
   "outputs": [
    {
     "name": "stdout",
     "output_type": "stream",
     "text": [
      "---------- Create event label dicts ----------\n",
      "{'11': 10001, '12': 10002}\n",
      "{'21': 10003, '22': 10004}\n"
     ]
    }
   ],
   "source": [
    "# Check event id tags and create label dict for decoder\n",
    "print(\"---------- Create event label dicts ----------\")\n",
    "print(epochs_heard.event_id)\n",
    "label_dict_heard = {10001 : 0, 10002 : 1}\n",
    "print(epochs_imagined.event_id)\n",
    "label_dict_imagined = {10003 : 0, 10004 : 1}"
   ]
  },
  {
   "cell_type": "code",
   "execution_count": 9,
   "id": "679b2eba",
   "metadata": {},
   "outputs": [
    {
     "name": "stdout",
     "output_type": "stream",
     "text": [
      "---------- Compute power ----------\n",
      "Not setting metadata\n",
      "n_windows: 1667\n",
      "(456, 310, 1667)\n",
      "Not setting metadata\n",
      "n_windows: 1667\n",
      "(117, 310, 1667)\n"
     ]
    }
   ],
   "source": [
    "print(\"---------- Compute power ----------\")\n",
    "n_cycles = STIM_FREQS / 7 # different number of cycle per frequency\n",
    "                           # higher constant, fewer windows, maybe?\n",
    "    \n",
    "# For epochs heard\n",
    "power_heard = tfr_morlet(epochs_heard,\n",
    "                   freqs = STIM_FREQS,\n",
    "                   n_cycles = n_cycles,\n",
    "                   use_fft = True,\n",
    "                   return_itc = False,\n",
    "                   decim = 3,\n",
    "                   n_jobs = 1,\n",
    "                   average = False)\n",
    "power_heard = np.log10(power_heard)\n",
    "\n",
    "# Get some information\n",
    "n_epochs = np.shape(power_heard)[0]\n",
    "n_channels = np.shape(power_heard)[1]\n",
    "n_freqs = np.shape(power_heard)[2]\n",
    "n_windows = np.shape(power_heard)[3]\n",
    "print(\"n_windows: \" + str(n_windows))\n",
    "\n",
    "# Reshape for classifier\n",
    "X_heard = power_heard.reshape((n_epochs, n_freqs * n_channels, n_windows)) # Set order to preserve epoch order\n",
    "print(np.shape(X_heard))\n",
    "\n",
    "# Repeat for epochs_imagined\n",
    "power_imagined = tfr_morlet(epochs_imagined,\n",
    "                   freqs = STIM_FREQS,\n",
    "                   n_cycles = n_cycles,\n",
    "                   use_fft = True,\n",
    "                   return_itc = False,\n",
    "                   decim = 3,\n",
    "                   n_jobs = 1,\n",
    "                   average = False)\n",
    "power_imagined = np.log10(power_imagined)\n",
    "\n",
    "# Get some information\n",
    "n_epochs = np.shape(power_imagined)[0]\n",
    "n_channels = np.shape(power_imagined)[1]\n",
    "n_freqs = np.shape(power_imagined)[2]\n",
    "n_windows = np.shape(power_imagined)[3]\n",
    "print(\"n_windows: \" + str(n_windows))\n",
    "\n",
    "# Reshape for classifier\n",
    "X_imagined = power_imagined.reshape((n_epochs, n_freqs * n_channels, n_windows)) # Set order to preserve epoch order\n",
    "print(np.shape(X_imagined))"
   ]
  },
  {
   "cell_type": "code",
   "execution_count": 17,
   "id": "95126a02",
   "metadata": {},
   "outputs": [
    {
     "name": "stdout",
     "output_type": "stream",
     "text": [
      "---------- Create target array ----------\n",
      "y_heard: [1 1 1 1 0 0 0 1 1 1 1 0 0 0 1 1 1 1 0 0 0 0 0 0 0 0 0 0 0 0 1 1 1 1 1 0 0\n",
      " 0 0 0 0 0 0 0 0 0 0 0 0 0 0 1 1 1 1 0 0 0 1 1 1 1 1 1 1 1 1 1 1 1 1 1 1 1\n",
      " 1 1 0 0 0 0 1 1 1 1 1 1 1 0 0 0 0 1 1 1 0 0 0 0 1 1 1 1 1 1 1 1 0 0 0 0 1\n",
      " 1 1 1 1 1 1 1 1 1 1 1 1 1 1 1 1 1 1 1 1 1 1 1 1 1 1 1 1 1 1 1 1 1 1 1 0 0\n",
      " 0 0 0 0 0 1 1 1 1 0 0 0 1 1 1 1 0 0 1 1 1 1 0 0 0 0 0 0 0 0 0 0 0 1 1 1 1\n",
      " 1 1 1 1 1 1 1 1 1 1 1 1 1 1 1 1 1 1 1 1 1 0 0 0 0 1 1 1 1 1 1 1 1 1 1 1 1\n",
      " 0 0 0 0 0 0 0 0 0 0 1 1 1 1 1 1 1 1 1 1 1 1 0 0 0 0 0 0 0 0 1 1 1 0 0 0 0\n",
      " 0 0 0 0 0 0 0 0 1 1 1 1 1 1 1 1 1 1 1 1 1 1 1 1 0 0 0 0 1 1 1 1 1 1 1 0 0\n",
      " 0 0 1 1 1 1 1 1 1 1 0 0 0 0 0 0 0 0 0 0 0 0 0 0 0 0 1 1 1 1 0 0 0 0 0 0 0\n",
      " 0 0 0 0 0 1 1 1 1 1 1 1 1 1 1 1 1 0 0 0 0 1 1 1 1 0 0 0 1 1 1 1 0 0 0 0 1\n",
      " 1 1 1 1 1 1 1 1 1 1 1 0 0 0 0 0 0 0 0 0 0 0 0 0 0 0 0 1 1 1 1 0 0 0 0 1 1\n",
      " 1 1 0 0 0 0 0 0 0 0 1 1 1 1 0 0 0 0 1 1 1 1 1 1 1 1 0 0 0 0 0 0 0 0 1 1 1\n",
      " 1 1 1 1 0 0 0 0 1 1 1 1]\n",
      "y_heard: [1 0 1 0 1 0 0 0 1 1 0 0 0 0 1 0 1 1 1 1 1 0 1 1 0 1 0 1 1 0 1 1 1 1 1 1 1\n",
      " 1 1 0 0 1 0 1 0 1 0 0 0 1 1 1 1 1 1 0 1 1 1 0 0 0 1 1 1 0 0 1 0 0 0 1 1 1\n",
      " 1 0 1 0 1 1 0 0 0 0 0 1 0 0 0 1 1 0 1 0 1 0 1 1 1 0 0 0 0 1 0 1 0 0 1 0 1\n",
      " 0 0 1 1 0 1]\n"
     ]
    }
   ],
   "source": [
    "print(\"---------- Create target array ----------\")\n",
    "labels_heard = pd.Series(events_heard[:, 2])\n",
    "y_heard = labels_heard.replace(label_dict_heard)\n",
    "le = preprocessing.LabelEncoder()\n",
    "y_heard = le.fit_transform(y_heard)\n",
    "print(f'y_heard: {y_heard}')\n",
    "\n",
    "labels_imagined = pd.Series(events_imagined[:, 2])\n",
    "y_imagined = labels_imagined.replace(label_dict_imagined)\n",
    "le = preprocessing.LabelEncoder()\n",
    "y_imagined = le.fit_transform(y_imagined)\n",
    "print(f'y_heard: {y_imagined}')"
   ]
  },
  {
   "cell_type": "code",
   "execution_count": 18,
   "id": "6d05240f",
   "metadata": {},
   "outputs": [
    {
     "name": "stdout",
     "output_type": "stream",
     "text": [
      "---------- Decode ----------\n",
      "Creating sliding estimators\n",
      "Fit estimators\n"
     ]
    },
    {
     "data": {
      "application/vnd.jupyter.widget-view+json": {
       "model_id": "0f3a5fe2e22e451cbe638ea59597fbc5",
       "version_major": 2,
       "version_minor": 0
      },
      "text/plain": [
       "  0%|          | Fitting SlidingEstimator : 0/1667 [00:00<?,       ?it/s]"
      ]
     },
     "metadata": {},
     "output_type": "display_data"
    }
   ],
   "source": [
    "print(\"---------- Decode ----------\")\n",
    "n_stimuli = 2\n",
    "metric = 'accuracy'\n",
    "\n",
    "clf = make_pipeline(\n",
    "    StandardScaler(),\n",
    "    LogisticRegression(solver = 'liblinear')\n",
    ")\n",
    "\n",
    "print(\"Creating sliding estimators\")\n",
    "time_decod = SlidingEstimator(clf)\n",
    "\n",
    "print(\"Fit estimators\")\n",
    "estimator = time_decod.fit(X_heard, y_heard)"
   ]
  },
  {
   "cell_type": "code",
   "execution_count": 21,
   "id": "b96f774d",
   "metadata": {},
   "outputs": [
    {
     "name": "stdout",
     "output_type": "stream",
     "text": [
      "---------- apply decoder ----------\n"
     ]
    }
   ],
   "source": [
    "print(\"---------- apply decoder ----------\")\n",
    "scores = estimator.score(X_imagined, y_imagined)"
   ]
  },
  {
   "cell_type": "code",
   "execution_count": 22,
   "id": "67c89e04",
   "metadata": {},
   "outputs": [
    {
     "data": {
      "text/plain": [
       "(1667,)"
      ]
     },
     "execution_count": 22,
     "metadata": {},
     "output_type": "execute_result"
    }
   ],
   "source": [
    "np.shape(scores)"
   ]
  },
  {
   "cell_type": "code",
   "execution_count": null,
   "id": "5e70fbee",
   "metadata": {},
   "outputs": [],
   "source": [
    "print(\"---------- Save decoder scores ----------\")\n",
    "print('Saving scores to: ' + scores_fpath)\n",
    "np.save(scores_fpath, scores)"
   ]
  },
  {
   "cell_type": "code",
   "execution_count": 23,
   "id": "f829a428",
   "metadata": {},
   "outputs": [
    {
     "name": "stdout",
     "output_type": "stream",
     "text": [
      "---------- Plot ----------\n"
     ]
    },
    {
     "ename": "NameError",
     "evalue": "name 'sub' is not defined",
     "output_type": "error",
     "traceback": [
      "\u001b[0;31m---------------------------------------------------------------------------\u001b[0m",
      "\u001b[0;31mNameError\u001b[0m                                 Traceback (most recent call last)",
      "Input \u001b[0;32mIn [23]\u001b[0m, in \u001b[0;36m<cell line: 12>\u001b[0;34m()\u001b[0m\n\u001b[1;32m      9\u001b[0m ax\u001b[38;5;241m.\u001b[39mset_title(\u001b[38;5;124m'\u001b[39m\u001b[38;5;124mSensor space decoding\u001b[39m\u001b[38;5;124m'\u001b[39m)\n\u001b[1;32m     11\u001b[0m \u001b[38;5;66;03m# Save plot\u001b[39;00m\n\u001b[0;32m---> 12\u001b[0m fig_fpath \u001b[38;5;241m=\u001b[39m FIGS_ROOT \u001b[38;5;241m+\u001b[39m \u001b[38;5;124m'\u001b[39m\u001b[38;5;124m/subj-\u001b[39m\u001b[38;5;124m'\u001b[39m \u001b[38;5;241m+\u001b[39m \u001b[43msub\u001b[49m \u001b[38;5;241m+\u001b[39m \u001b[38;5;124m'\u001b[39m\u001b[38;5;124m_\u001b[39m\u001b[38;5;124m'\u001b[39m \u001b[38;5;241m+\u001b[39m \u001b[38;5;124m'\u001b[39m\u001b[38;5;124mtask-pitch_\u001b[39m\u001b[38;5;124m'\u001b[39m \u001b[38;5;241m+\u001b[39m \u001b[38;5;124m'\u001b[39m\u001b[38;5;124mrun-\u001b[39m\u001b[38;5;124m'\u001b[39m \u001b[38;5;241m+\u001b[39m run \u001b[38;5;241m+\u001b[39m \u001b[38;5;124m'\u001b[39m\u001b[38;5;124m_log_reg_no_crop\u001b[39m\u001b[38;5;124m'\u001b[39m \u001b[38;5;241m+\u001b[39m \u001b[38;5;124m'\u001b[39m\u001b[38;5;124m.png\u001b[39m\u001b[38;5;124m'\u001b[39m\n\u001b[1;32m     13\u001b[0m \u001b[38;5;28mprint\u001b[39m(\u001b[38;5;124m'\u001b[39m\u001b[38;5;124mSaving figure to: \u001b[39m\u001b[38;5;124m'\u001b[39m \u001b[38;5;241m+\u001b[39m fig_fpath)\n\u001b[1;32m     14\u001b[0m plt\u001b[38;5;241m.\u001b[39msavefig(fig_fpath)\n",
      "\u001b[0;31mNameError\u001b[0m: name 'sub' is not defined"
     ]
    },
    {
     "data": {
      "image/png": "[encoded data removed]",
      "text/plain": [
       "<Figure size 432x288 with 1 Axes>"
      ]
     },
     "metadata": {
      "needs_background": "light"
     },
     "output_type": "display_data"
    }
   ],
   "source": [
    "# Plot\n",
    "print(\"---------- Plot ----------\")\n",
    "fig, ax = plt.subplots()\n",
    "ax.plot(range(len(scores)), scores, label = 'score')\n",
    "ax.axhline(1/n_stimuli, color = 'k', linestyle = '--', label = 'chance')\n",
    "ax.set_xlabel('Times')\n",
    "ax.set_ylabel(metric)  # Area Under the Curve\n",
    "ax.legend()\n",
    "ax.set_title('Sensor space decoding')\n",
    "\n",
    "# Save plot\n",
    "fig_fpath = FIGS_ROOT + '/subj-' + sub + '_' + 'task-pitch_' + 'run-' + run + '_log_reg_no_crop' + '.png'\n",
    "print('Saving figure to: ' + fig_fpath)\n",
    "plt.savefig(fig_fpath)"
   ]
  }
 ],
 "metadata": {
  "kernelspec": {
   "display_name": "Python 3 (ipykernel)",
   "language": "python",
   "name": "python3"
  },
  "language_info": {
   "codemirror_mode": {
    "name": "ipython",
    "version": 3
   },
   "file_extension": ".py",
   "mimetype": "text/x-python",
   "name": "python",
   "nbconvert_exporter": "python",
   "pygments_lexer": "ipython3",
   "version": "3.10.4"
  }
 },
 "nbformat": 4,
 "nbformat_minor": 5
}
