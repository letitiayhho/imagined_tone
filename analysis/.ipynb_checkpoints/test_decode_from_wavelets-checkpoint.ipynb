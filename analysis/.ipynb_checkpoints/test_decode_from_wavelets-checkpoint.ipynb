{
 "cells": [
  {
   "cell_type": "code",
   "execution_count": 19,
   "id": "4483019a",
   "metadata": {},
   "outputs": [
    {
     "data": {
      "text/plain": [
       "41"
      ]
     },
     "execution_count": 19,
     "metadata": {},
     "output_type": "execute_result"
    }
   ],
   "source": [
    "len(scores)"
   ]
  },
  {
   "cell_type": "code",
   "execution_count": 18,
   "id": "5d725ad6",
   "metadata": {},
   "outputs": [
    {
     "name": "stdout",
     "output_type": "stream",
     "text": [
      "---------- Apply decoder ----------\n",
      "---------- Save decoder scores ----------\n",
      "Saving scores to: ../data/bids/derivatives/decoding/sub-2/sub-2_task-imagine_run-1_desc-decode_from_stft_heard.npy\n",
      "---------- Plot ----------\n"
     ]
    },
    {
     "data": {
      "text/plain": [
       "Text(0.5, 1.0, 'Sensor space decoding')"
      ]
     },
     "execution_count": 18,
     "metadata": {},
     "output_type": "execute_result"
    },
    {
     "data": {
      "image/png": "[encoded data removed]",
      "text/plain": [
       "<Figure size 432x288 with 1 Axes>"
      ]
     },
     "metadata": {
      "needs_background": "light"
     },
     "output_type": "display_data"
    }
   ],
   "source": [
    "\n",
    "print(\"---------- Apply decoder ----------\")\n",
    "scores = estimator.score(Zxxs_imagined, y_imagined)\n",
    "# scores = np.mean(scores, axis = 0) # average across cv splits\n",
    "\n",
    "print(\"---------- Save decoder scores ----------\")\n",
    "print('Saving scores to: ' + scores_fpath)\n",
    "np.save(scores_fpath, scores)\n",
    "\n",
    "# Plot\n",
    "print(\"---------- Plot ----------\")\n",
    "windows = len(scores)\n",
    "msec_per_window = 1000/windows\n",
    "x = [window*msec_per_window for window in windows]\n",
    "\n",
    "fig, ax = plt.subplots()\n",
    "ax.plot(range(len(scores)), scores, label = 'score')\n",
    "ax.axhline(1/n_stimuli, color = 'k', linestyle = '--', label = 'chance')\n",
    "ax.set_xlabel('Times')\n",
    "ax.set_ylabel(metric)  # Area Under the Curve\n",
    "ax.legend()\n",
    "ax.set_title('Sensor space decoding')"
   ]
  },
  {
   "cell_type": "code",
   "execution_count": 15,
   "id": "8987922b",
   "metadata": {},
   "outputs": [
    {
     "name": "stdout",
     "output_type": "stream",
     "text": [
      "---------- Load data ----------\n",
      "/project2/hcn1/imagined_tone/analysis/../data/bids/derivatives/preprocessing/sub-2/sub-2_task-imagine_run-1_desc-clean_epo.fif.gz\n",
      "Reading /project2/hcn1/imagined_tone/analysis/../data/bids/derivatives/preprocessing/sub-2/sub-2_task-imagine_run-1_desc-clean_epo.fif.gz ...\n",
      "    Found the data of interest:\n",
      "        t =    -500.00 ...     500.00 ms\n",
      "        0 CTF compensation matrices available\n",
      "0 bad epochs dropped\n",
      "Not setting metadata\n",
      "481 matching events found\n",
      "No baseline correction applied\n",
      "0 projection items activated\n",
      "---------- Separate into heard and imagined epochs objects ----------\n",
      "---------- Create event label dicts ----------\n",
      "{'11': 10001, '12': 10002}\n",
      "{'21': 10004, '22': 10005}\n",
      "---------- Create target array ----------\n",
      "y_heard: [1 1 1 1 1 1 1 1 0 0 0 0 1 1 1 1 1 1 1 1 1 1 0 0 1 1 1 0 0 0 0 1 1 1 1 1 1\n",
      " 1 1 1 1 1 1 1 1 1 1 1 1 1 0 0 0 0 0 0 0 0 0 0 0 0 0 0 0 0 1 1 1 1 0 0 0 1\n",
      " 1 1 1 1 1 1 1 1 1 1 1 0 0 0 0 0 0 0 0 1 1 1 1 1 1 1 1 1 1 1 1 1 1 1 1 1 1\n",
      " 1 1 1 1 1 1 1 1 1 1 1 1 1 1 1 1 0 0 1 1 0 0 0 0 0 0 1 1 1 1 0 1 1 1 1 0 0\n",
      " 0 0 1 1 1 0 0 0 0 0 0 0 0 0 0 1 1 1 1 0 0 0 0 1 1 1 0 0 0 0 0 0 0 1 1 1 1\n",
      " 1 1 1 1 1 1 0 0 1 1 0 0 0 0 0 0 0 0 0 1 1 0 1 1 1 1 1 1 1 0 0 0 0 1 1 1 1\n",
      " 1 1 1 1 0 0 0 1 1 1 1 1 0 0 0 1 1 1 1 1 1 1 1 0 0 0 0 0 0 0 0 0 0 0 0 0 0\n",
      " 0 0 0 0 0 1 1 1 1 0 0 0 0 1 1 1 1 0 0 0 0 1 1 1 0 0 0 0 0 0 0 0 0 0 0 0 0\n",
      " 0 0 0 0 0 0 1 1 1 1 1 1 1 1 1 0 0 0 0 1 1 1 1 0 0 0 0 0 0 1 1 1 1 1 1 1 0\n",
      " 0 0 0 1 1 1 1 1 1 1 1 0 0 0 1 1 1 1 1 1 1 1 0 0 0 0 0 1 1 0 0 1 1 1 1 0]\n",
      "y_heard: [1 1 0 1 1 1 0 1 0 1 1 1 1 1 0 0 0 0 0 1 0 1 1 0 0 1 1 1 1 1 1 1 1 1 0 1 0\n",
      " 0 1 0 1 0 1 0 0 0 1 0 1 0 0 1 1 1 0 1 0 0 1 0 1 1 0 1 1 1 0 1 0 1 1 0 0 0\n",
      " 0 0 0 1 0 1 0 1 0 0 0 0 0 0 1 1 1 0 1 0 0 1 1 0 1 1 0 1 0 1 0 1]\n",
      "---------- Load stft results ----------\n",
      "Loading stft from ../data/bids/derivatives/decoding/sub-2/sub-2_task-imagine_run-1_desc-stft_heard.npy\n",
      "Loading stft from ../data/bids/derivatives/decoding/sub-2/sub-2_task-imagine_run-1_desc-stft_imagined.npy\n",
      "---------- Fit decoder ----------\n",
      "Creating sliding estimators\n",
      "Fit estimators\n"
     ]
    },
    {
     "data": {
      "application/vnd.jupyter.widget-view+json": {
       "model_id": "c9f7553501e54b1880fcdf31b5fa723f",
       "version_major": 2,
       "version_minor": 0
      },
      "text/plain": [
       "  0%|          | Fitting SlidingEstimator : 0/41 [00:00<?,       ?it/s]"
      ]
     },
     "metadata": {},
     "output_type": "display_data"
    },
    {
     "name": "stdout",
     "output_type": "stream",
     "text": [
      "---------- Apply decoder ----------\n",
      "---------- Save decoder scores ----------\n",
      "Saving scores to: ../data/bids/derivatives/decoding/sub-2/sub-2_task-imagine_run-1_desc-decode_from_stft_heard.npy\n",
      "---------- Plot ----------\n"
     ]
    },
    {
     "ename": "TypeError",
     "evalue": "object of type 'numpy.float64' has no len()",
     "output_type": "error",
     "traceback": [
      "\u001b[0;31m---------------------------------------------------------------------------\u001b[0m",
      "\u001b[0;31mTypeError\u001b[0m                                 Traceback (most recent call last)",
      "Input \u001b[0;32mIn [15]\u001b[0m, in \u001b[0;36m<cell line: 108>\u001b[0;34m()\u001b[0m\n\u001b[1;32m    106\u001b[0m \u001b[38;5;28mprint\u001b[39m(\u001b[38;5;124m\"\u001b[39m\u001b[38;5;124m---------- Plot ----------\u001b[39m\u001b[38;5;124m\"\u001b[39m)\n\u001b[1;32m    107\u001b[0m fig, ax \u001b[38;5;241m=\u001b[39m plt\u001b[38;5;241m.\u001b[39msubplots()\n\u001b[0;32m--> 108\u001b[0m ax\u001b[38;5;241m.\u001b[39mplot(\u001b[38;5;28mrange\u001b[39m(\u001b[38;5;28;43mlen\u001b[39;49m\u001b[43m(\u001b[49m\u001b[43mscores\u001b[49m\u001b[43m)\u001b[49m), scores, label \u001b[38;5;241m=\u001b[39m \u001b[38;5;124m'\u001b[39m\u001b[38;5;124mscore\u001b[39m\u001b[38;5;124m'\u001b[39m)\n\u001b[1;32m    109\u001b[0m ax\u001b[38;5;241m.\u001b[39maxhline(\u001b[38;5;241m1\u001b[39m\u001b[38;5;241m/\u001b[39mn_stimuli, color \u001b[38;5;241m=\u001b[39m \u001b[38;5;124m'\u001b[39m\u001b[38;5;124mk\u001b[39m\u001b[38;5;124m'\u001b[39m, linestyle \u001b[38;5;241m=\u001b[39m \u001b[38;5;124m'\u001b[39m\u001b[38;5;124m--\u001b[39m\u001b[38;5;124m'\u001b[39m, label \u001b[38;5;241m=\u001b[39m \u001b[38;5;124m'\u001b[39m\u001b[38;5;124mchance\u001b[39m\u001b[38;5;124m'\u001b[39m)\n\u001b[1;32m    110\u001b[0m ax\u001b[38;5;241m.\u001b[39mset_xlabel(\u001b[38;5;124m'\u001b[39m\u001b[38;5;124mTimes\u001b[39m\u001b[38;5;124m'\u001b[39m)\n",
      "\u001b[0;31mTypeError\u001b[0m: object of type 'numpy.float64' has no len()"
     ]
    },
    {
     "data": {
      "image/png": "[encoded data removed]",
      "text/plain": [
       "<Figure size 432x288 with 1 Axes>"
      ]
     },
     "metadata": {
      "needs_background": "light"
     },
     "output_type": "display_data"
    }
   ],
   "source": [
    "fpath = '/project2/hcn1/imagined_tone/analysis/../data/bids/derivatives/preprocessing/sub-2/sub-2_task-imagine_run-1_desc-clean_epo.fif.gz'\n",
    "sub = '2'\n",
    "task = 'imagine'\n",
    "run = '1'\n",
    "cond = 'heard'\n",
    "save_fpath = '../data/bids/derivatives/decoding/sub-2/sub-2_task-imagine_run-1_desc-stft_heard.npy'\n",
    "\n",
    "print(\"---------- Load data ----------\")\n",
    "print(fpath)\n",
    "epochs = mne.read_epochs(fpath)\n",
    "\n",
    "print(\"---------- Separate into heard and imagined epochs objects ----------\")\n",
    "epochs_heard = epochs['11', '12']\n",
    "events_heard = epochs_heard.events\n",
    "epochs_imagined = epochsa['21', '22']\n",
    "events_imagined = epochs_imagined.events\n",
    "\n",
    "print(\"---------- Create event label dicts ----------\")\n",
    "print(epochs_heard.event_id)\n",
    "label_dict_heard = {10001 : 0, 10002 : 1}\n",
    "print(epochs_imagined.event_id)\n",
    "label_dict_imagined = {10003 : 0, 10004 : 1}\n",
    "\n",
    "print(\"---------- Create target array ----------\")\n",
    "labels_heard = pd.Series(events_heard[:, 2])\n",
    "y_heard = labels_heard.replace(label_dict_heard)\n",
    "le = preprocessing.LabelEncoder()\n",
    "y_heard = le.fit_transform(y_heard)\n",
    "print(f'y_heard: {y_heard}')\n",
    "\n",
    "labels_imagined = pd.Series(events_imagined[:, 2])\n",
    "y_imagined = labels_imagined.replace(label_dict_imagined)\n",
    "le = preprocessing.LabelEncoder()\n",
    "y_imagined = le.fit_transform(y_imagined)\n",
    "print(f'y_heard: {y_imagined}')\n",
    "\n",
    "print(\"---------- Load stft results ----------\")\n",
    "sink = DataSink(DERIV_ROOT, 'decoding')\n",
    "\n",
    "# Load heard stfts\n",
    "stft_heard = sink.get_path(\n",
    "    subject = sub,\n",
    "    task = task,\n",
    "    run = run,\n",
    "    desc = 'stft',\n",
    "    suffix = 'heard',\n",
    "    extension = 'npy',\n",
    ")\n",
    "print(f'Loading stft from {stft_heard}')\n",
    "Zxxs_heard = np.load(stft_heard)\n",
    "\n",
    "# Reshape for decoder\n",
    "n_epochs_heard = np.shape(Zxxs_heard)[0]\n",
    "if n_epochs_heard != np.shape(events_heard)[0]:\n",
    "    sys.exit('Incorrect number of epochs')\n",
    "n_freqs = 2\n",
    "n_chans = 62\n",
    "n_windows = 41\n",
    "Zxxs_heard = Zxxs_heard.reshape((n_epochs_heard, n_freqs*n_chans, n_windows)) # n_epochs, n_freqs*n_chans, n_windows\n",
    "\n",
    "# Load imagined stfts\n",
    "stft_imagined = sink.get_path(\n",
    "    subject = sub,\n",
    "    task = task,\n",
    "    run = run,\n",
    "    desc = 'stft',\n",
    "    suffix = 'imagined',\n",
    "    extension = 'npy',\n",
    ")\n",
    "print(f'Loading stft from {stft_imagined}')\n",
    "Zxxs_imagined = np.load(stft_imagined)\n",
    "\n",
    "# Reshape for decoder\n",
    "n_epochs_imagined = np.shape(Zxxs_imagined)[0]\n",
    "if n_epochs_imagined != np.shape(events_imagined)[0]:\n",
    "    sys.exit('Incorrect number of epochs')\n",
    "n_freqs = 2\n",
    "n_chans = 62\n",
    "n_windows = 41\n",
    "Zxxs_imagined = Zxxs_imagined.reshape((n_epochs_imagined, n_freqs*n_chans, n_windows)) # n_epochs, n_freqs*n_chans, n_windows\n",
    "\n",
    "print(\"---------- Fit decoder ----------\")\n",
    "n_stimuli = 2\n",
    "metric = 'accuracy'\n",
    "\n",
    "clf = make_pipeline(\n",
    "    StandardScaler(),\n",
    "    LogisticRegression(solver = 'liblinear')\n",
    ")\n",
    "\n",
    "print(\"Creating sliding estimators\")\n",
    "time_decod = SlidingEstimator(clf)\n",
    "\n",
    "print(\"Fit estimators\")\n",
    "estimator = time_decod.fit(Zxxs_heard, y_heard)\n",
    "\n",
    "print(\"---------- Apply decoder ----------\")\n",
    "scores = estimator.score(Zxxs_imagined, y_imagined)\n",
    "# scores = np.mean(scores, axis = 0) # average across cv splits\n",
    "\n",
    "print(\"---------- Save decoder scores ----------\")\n",
    "print('Saving scores to: ' + scores_fpath)\n",
    "np.save(scores_fpath, scores)\n",
    "\n",
    "# Plot\n",
    "print(\"---------- Plot ----------\")\n",
    "fig, ax = plt.subplots()\n",
    "ax.plot(range(len(scores)), scores, label = 'score')\n",
    "ax.axhline(1/n_stimuli, color = 'k', linestyle = '--', label = 'chance')\n",
    "ax.set_xlabel('Times')\n",
    "ax.set_ylabel(metric)  # Area Under the Curve\n",
    "ax.legend()\n",
    "ax.set_title('Sensor space decoding')"
   ]
  },
  {
   "cell_type": "code",
   "execution_count": 13,
   "id": "ff0b5559",
   "metadata": {},
   "outputs": [
    {
     "name": "stdout",
     "output_type": "stream",
     "text": [
      "Reading /project2/hcn1/imagined_tone/analysis/../data/bids/derivatives/preprocessing/sub-2/sub-2_task-imagine_run-1_desc-clean_epo.fif.gz ...\n",
      "    Found the data of interest:\n",
      "        t =    -500.00 ...     500.00 ms\n",
      "        0 CTF compensation matrices available\n",
      "0 bad epochs dropped\n",
      "Not setting metadata\n",
      "481 matching events found\n",
      "No baseline correction applied\n",
      "0 projection items activated\n",
      "<EpochsFIF |  369 events (all good), -0.5 - 0.5 sec, baseline -0.5 – 0 sec, ~873.0 MB, data loaded,\n",
      " '11': 164\n",
      " '12': 205>\n",
      "(369, 62, 5001)\n",
      "369\n",
      "(369, 62, 2, 41)\n"
     ]
    }
   ],
   "source": [
    "# Test compute stft\n",
    "\n",
    "from util.io.stft import *\n",
    "\n",
    "fpath = '/project2/hcn1/imagined_tone/analysis/../data/bids/derivatives/preprocessing/sub-2/sub-2_task-imagine_run-1_desc-clean_epo.fif.gz'\n",
    "sub = '2'\n",
    "task = 'imagine'\n",
    "run = '1'\n",
    "cond = 'heard'\n",
    "save_fpath = '../data/bids/derivatives/decoding/sub-2/sub-2_task-imagine_run-1_desc-stft_heard.npy'\n",
    "\n",
    "FS = 5000\n",
    "CONDITION_FREQS = [190, 280]\n",
    "\n",
    "# Read data\n",
    "epochs = mne.read_epochs(fpath)\n",
    "if cond == 'heard':\n",
    "    epochs = epochs['11', '12']\n",
    "elif cond == 'imagined':\n",
    "    epochs = epochs['21', '22']\n",
    "print(epochs)\n",
    "epochs = epochs.get_data()\n",
    "print(np.shape(epochs))\n",
    "\n",
    "# # Get metadata\n",
    "n_freqs = len(CONDITION_FREQS)\n",
    "n_epochs = np.shape(epochs)[0]\n",
    "print(n_epochs)\n",
    "n_chans = np.shape(epochs)[1]\n",
    "\n",
    "# Compute stft across all channels\n",
    "Zxxs = np.empty([n_epochs, n_chans, n_freqs, 41]) # n_epochs, n_chans, n_freqs, n_windows\n",
    "for chan in range(n_chans):\n",
    "    x = pd.DataFrame(epochs[:, chan, :])\n",
    "    f, t, Zxx = get_stft_for_one_channel(x, FS, n_epochs, CONDITION_FREQS)\n",
    "    Zxxs[:, chan, :, :] = Zxx\n",
    "print(np.shape(Zxxs))\n",
    "# Save powers and events\n",
    "# print(np.shape(Zxxs))\n",
    "# print('Saving scores to: ' + save_fpath)\n",
    "# np.save(save_fpath, Zxxs)"
   ]
  },
  {
   "cell_type": "code",
   "execution_count": 11,
   "id": "e1f8bc45",
   "metadata": {},
   "outputs": [
    {
     "data": {
      "text/plain": [
       "(481, 62, 2, 41)"
      ]
     },
     "execution_count": 11,
     "metadata": {},
     "output_type": "execute_result"
    }
   ],
   "source": [
    "np.shape(Zxxs)"
   ]
  },
  {
   "cell_type": "code",
   "execution_count": 10,
   "id": "c1502d54",
   "metadata": {},
   "outputs": [
    {
     "data": {
      "text/plain": [
       "'../data/bids/derivatives/decoding/sub-2/sub-2_task-imagine_run-1_desc-stft_heard.npy'"
      ]
     },
     "execution_count": 10,
     "metadata": {},
     "output_type": "execute_result"
    }
   ],
   "source": [
    "stft_fpath\n",
    "# np.shape(Zxxs)[0]"
   ]
  },
  {
   "cell_type": "code",
   "execution_count": 14,
   "id": "82649095",
   "metadata": {},
   "outputs": [
    {
     "name": "stdout",
     "output_type": "stream",
     "text": [
      "---------- Load data ----------\n",
      "/project2/hcn1/imagined_tone/analysis/../data/bids/derivatives/preprocessing/sub-2/sub-2_task-imagine_run-1_desc-clean_epo.fif.gz\n",
      "Reading /project2/hcn1/imagined_tone/analysis/../data/bids/derivatives/preprocessing/sub-2/sub-2_task-imagine_run-1_desc-clean_epo.fif.gz ...\n",
      "    Found the data of interest:\n",
      "        t =    -500.00 ...     500.00 ms\n",
      "        0 CTF compensation matrices available\n",
      "0 bad epochs dropped\n",
      "Not setting metadata\n",
      "481 matching events found\n",
      "No baseline correction applied\n",
      "0 projection items activated\n",
      "---------- Separate heard epochs object ----------\n",
      "---------- Create target array ----------\n",
      "---------- Load power computed from stft ----------\n",
      "Loading stft from ../data/bids/derivatives/decoding/sub-2/sub-2_task-imagine_run-1_desc-stft_heard.npy\n",
      "481\n",
      "369\n"
     ]
    },
    {
     "ename": "SystemExit",
     "evalue": "Incorrect number of epochs",
     "output_type": "error",
     "traceback": [
      "An exception has occurred, use %tb to see the full traceback.\n",
      "\u001b[0;31mSystemExit\u001b[0m\u001b[0;31m:\u001b[0m Incorrect number of epochs\n"
     ]
    },
    {
     "name": "stderr",
     "output_type": "stream",
     "text": [
      "/home/letitiayhho/.conda/envs/pitch-tracking/lib/python3.10/site-packages/IPython/core/interactiveshell.py:3406: UserWarning: To exit: use 'exit', 'quit', or Ctrl-D.\n",
      "  warn(\"To exit: use 'exit', 'quit', or Ctrl-D.\", stacklevel=1)\n"
     ]
    }
   ],
   "source": [
    "# Test decode from stft\n",
    "\n",
    "import mne\n",
    "import sys\n",
    "import numpy as np\n",
    "import pandas as pd\n",
    "import matplotlib.pyplot as plt\n",
    "from sklearn.pipeline import make_pipeline\n",
    "from sklearn import preprocessing\n",
    "from sklearn.preprocessing import StandardScaler\n",
    "from sklearn.linear_model import LogisticRegression\n",
    "from mne.decoding import SlidingEstimator, cross_val_multiscore\n",
    "\n",
    "from util.io.bids import DataSink\n",
    "\n",
    "fpath = '/project2/hcn1/imagined_tone/analysis/../data/bids/derivatives/preprocessing/sub-2/sub-2_task-imagine_run-1_desc-clean_epo.fif.gz'\n",
    "sub = '2'\n",
    "task = 'imagine'\n",
    "run = '1'\n",
    "cond = 'heard'\n",
    "scores_fpath = '../data/bids/derivatives/decoding/sub-2/sub-2_task-imagine_run-1_desc-decode_from_stft_heard.npy'\n",
    "\n",
    "BIDS_ROOT = '../data/bids'\n",
    "DERIV_ROOT = '../data/bids/derivatives'\n",
    "FIGS_ROOT = '../figs'\n",
    "\n",
    "print(\"---------- Load data ----------\")\n",
    "print(fpath)\n",
    "epochs = mne.read_epochs(fpath)\n",
    "\n",
    "print(\"---------- Separate heard epochs object ----------\")\n",
    "if cond == 'heard':\n",
    "    epochs = epochs['11', '12']\n",
    "    label_dict = {10001: 0, 10002: 1}\n",
    "elif cond == 'imagined':\n",
    "    epochs = epochs['21', '22']\n",
    "    label_dict = {10003 : 0, 10004 : 1}\n",
    "events = epochs.events\n",
    "\n",
    "print(\"---------- Create target array ----------\")\n",
    "labels = pd.Series(events[:, 2])\n",
    "y = labels.replace(label_dict)\n",
    "le = preprocessing.LabelEncoder()\n",
    "y = le.fit_transform(y)\n",
    "\n",
    "print(\"---------- Load power computed from stft ----------\")\n",
    "DERIV_ROOT = '../data/bids/derivatives'\n",
    "sink = DataSink(DERIV_ROOT, 'decoding')\n",
    "stft_fpath = sink.get_path(\n",
    "    subject = sub,\n",
    "    task = task,\n",
    "    run = run,\n",
    "    desc = 'stft',\n",
    "    suffix = cond,\n",
    "    extension = 'npy',\n",
    ")\n",
    "print(f'Loading stft from {stft_fpath}')\n",
    "Zxxs = np.load(stft_fpath)\n",
    "\n",
    "# Reshape for decoder\n",
    "n_epochs = np.shape(Zxxs)[0]\n",
    "print(n_epochs)\n",
    "print(np.shape(events)[0])\n",
    "if n_epochs != np.shape(events)[0]:\n",
    "    sys.exit('Incorrect number of epochs')\n",
    "n_freqs = 2\n",
    "n_chans = 62\n",
    "n_windows = 41\n",
    "Zxxs = Zxxs.reshape((n_epochs, n_freqs*n_chans, n_windows)) # n_epochs, n_freqs*n_chans, n_windows"
   ]
  },
  {
   "cell_type": "code",
   "execution_count": 21,
   "id": "1500c9d5",
   "metadata": {},
   "outputs": [
    {
     "data": {
      "text/plain": [
       "(604, 62, 2, 41)"
      ]
     },
     "execution_count": 21,
     "metadata": {},
     "output_type": "execute_result"
    }
   ],
   "source": [
    "np.shape(Zxxs)"
   ]
  },
  {
   "cell_type": "code",
   "execution_count": 10,
   "id": "1dd3bee1",
   "metadata": {},
   "outputs": [
    {
     "data": {
      "text/plain": [
       "(756, 62, 2, 41)"
      ]
     },
     "execution_count": 10,
     "metadata": {},
     "output_type": "execute_result"
    }
   ],
   "source": [
    "np.shape(Zxxs)"
   ]
  },
  {
   "cell_type": "code",
   "execution_count": 11,
   "id": "ab421fc8",
   "metadata": {},
   "outputs": [
    {
     "data": {
      "text/html": [
       "<table class=\"table table-hover table-striped table-sm table-responsive small\">\n",
       "    <tr>\n",
       "        <th>Number of events</th>\n",
       "        <td>152</td>\n",
       "    </tr>\n",
       "    <tr>\n",
       "        <th>Events</th>\n",
       "        \n",
       "        <td>21: 76<br/>22: 76</td>\n",
       "        \n",
       "    </tr>\n",
       "    <tr>\n",
       "        <th>Time range</th>\n",
       "        <td>-0.500 – 0.500 sec</td>\n",
       "    </tr>\n",
       "    <tr>\n",
       "        <th>Baseline</th>\n",
       "        <td>-0.500 – 0.000 sec</td>\n",
       "    </tr>\n",
       "</table>"
      ],
      "text/plain": [
       "<EpochsFIF |  152 events (all good), -0.5 - 0.5 sec, baseline -0.5 – 0 sec, ~359.7 MB, data loaded,\n",
       " '21': 76\n",
       " '22': 76>"
      ]
     },
     "execution_count": 11,
     "metadata": {},
     "output_type": "execute_result"
    }
   ],
   "source": [
    "epochs"
   ]
  },
  {
   "cell_type": "code",
   "execution_count": 4,
   "id": "d4da1b7d",
   "metadata": {},
   "outputs": [
    {
     "data": {
      "text/html": [
       "<table class=\"table table-hover table-striped table-sm table-responsive small\">\n",
       "    <tr>\n",
       "        <th>Number of events</th>\n",
       "        <td>604</td>\n",
       "    </tr>\n",
       "    <tr>\n",
       "        <th>Events</th>\n",
       "        \n",
       "        <td>11: 300<br/>12: 304</td>\n",
       "        \n",
       "    </tr>\n",
       "    <tr>\n",
       "        <th>Time range</th>\n",
       "        <td>-0.500 – 0.500 sec</td>\n",
       "    </tr>\n",
       "    <tr>\n",
       "        <th>Baseline</th>\n",
       "        <td>-0.500 – 0.000 sec</td>\n",
       "    </tr>\n",
       "</table>"
      ],
      "text/plain": [
       "<EpochsFIF |  604 events (all good), -0.5 - 0.5 sec, baseline -0.5 – 0 sec, ~1.40 GB, data loaded,\n",
       " '11': 300\n",
       " '12': 304>"
      ]
     },
     "execution_count": 4,
     "metadata": {},
     "output_type": "execute_result"
    }
   ],
   "source": [
    "epochs"
   ]
  },
  {
   "cell_type": "code",
   "execution_count": 1,
   "id": "c199e130",
   "metadata": {},
   "outputs": [],
   "source": [
    "import gc\n",
    "import sys\n",
    "import mne\n",
    "import numpy as np\n",
    "import pandas as pd\n",
    "\n",
    "import matplotlib.pyplot as plt\n",
    "from typing import Tuple, Iterator\n",
    "from mne_bids import BIDSPath, read_raw_bids, print_dir_tree\n",
    "from mne.time_frequency import tfr_morlet\n",
    "from bids import BIDSLayout\n",
    "\n",
    "from sklearn.pipeline import make_pipeline\n",
    "from sklearn import preprocessing\n",
    "from sklearn.preprocessing import StandardScaler\n",
    "from sklearn.linear_model import LogisticRegression\n",
    "from mne.decoding import SlidingEstimator, cross_val_multiscore"
   ]
  },
  {
   "cell_type": "code",
   "execution_count": 2,
   "id": "969735b7",
   "metadata": {},
   "outputs": [],
   "source": [
    "BIDS_ROOT = '../data/bids'\n",
    "FIGS_ROOT = '../figs'\n",
    "STIM_FREQS = np.array([50, 100, 150, 200, 250])\n",
    "np.random.seed(0)"
   ]
  },
  {
   "cell_type": "code",
   "execution_count": 3,
   "id": "3deac7c5",
   "metadata": {},
   "outputs": [
    {
     "name": "stdout",
     "output_type": "stream",
     "text": [
      "---------- Load data ----------\n",
      "Reading /project2/hcn1/imagined_tone/data/bids/derivatives/preprocessing/sub-17/sub-17_task-imagine_run-1_desc-clean_epo.fif.gz ...\n",
      "    Found the data of interest:\n",
      "        t =    -500.00 ...     500.00 ms\n",
      "        0 CTF compensation matrices available\n",
      "0 bad epochs dropped\n",
      "Not setting metadata\n",
      "573 matching events found\n",
      "No baseline correction applied\n",
      "0 projection items activated\n"
     ]
    }
   ],
   "source": [
    "print(\"---------- Load data ----------\")\n",
    "fpath = '/project2/hcn1/imagined_tone/data/bids/derivatives/preprocessing/sub-17/sub-17_task-imagine_run-1_desc-clean_epo.fif.gz'\n",
    "epochs = mne.read_epochs(fpath)"
   ]
  },
  {
   "cell_type": "code",
   "execution_count": 11,
   "id": "444ecdad",
   "metadata": {},
   "outputs": [
    {
     "name": "stdout",
     "output_type": "stream",
     "text": [
      "---------- Separate into heard and imagined epochs objects ----------\n"
     ]
    }
   ],
   "source": [
    "print(\"---------- Separate into heard and imagined epochs objects ----------\")\n",
    "epochs_heard = epochs['11', '12']\n",
    "events_heard = epochs_heard.events\n",
    "epochs_imagined = epochs['21', '22']\n",
    "events_imagined = epochs_imagined.events"
   ]
  },
  {
   "cell_type": "code",
   "execution_count": 12,
   "id": "521ec5b4",
   "metadata": {},
   "outputs": [
    {
     "name": "stdout",
     "output_type": "stream",
     "text": [
      "---------- Create event label dicts ----------\n",
      "{'11': 10001, '12': 10002}\n",
      "{'21': 10003, '22': 10004}\n"
     ]
    }
   ],
   "source": [
    "# Check event id tags and create label dict for decoder\n",
    "print(\"---------- Create event label dicts ----------\")\n",
    "print(epochs_heard.event_id)\n",
    "label_dict_heard = {10001 : 0, 10002 : 1}\n",
    "print(epochs_imagined.event_id)\n",
    "label_dict_imagined = {10003 : 0, 10004 : 1}"
   ]
  },
  {
   "cell_type": "code",
   "execution_count": 9,
   "id": "679b2eba",
   "metadata": {},
   "outputs": [
    {
     "name": "stdout",
     "output_type": "stream",
     "text": [
      "---------- Compute power ----------\n",
      "Not setting metadata\n",
      "n_windows: 1667\n",
      "(456, 310, 1667)\n",
      "Not setting metadata\n",
      "n_windows: 1667\n",
      "(117, 310, 1667)\n"
     ]
    }
   ],
   "source": [
    "print(\"---------- Compute power ----------\")\n",
    "n_cycles = STIM_FREQS / 7 # different number of cycle per frequency\n",
    "                           # higher constant, fewer windows, maybe?\n",
    "    \n",
    "# For epochs heard\n",
    "power_heard = tfr_morlet(epochs_heard,\n",
    "                   freqs = STIM_FREQS,\n",
    "                   n_cycles = n_cycles,\n",
    "                   use_fft = True,\n",
    "                   return_itc = False,\n",
    "                   decim = 3,\n",
    "                   n_jobs = 1,\n",
    "                   average = False)\n",
    "power_heard = np.log10(power_heard)\n",
    "\n",
    "# Get some information\n",
    "n_epochs = np.shape(power_heard)[0]\n",
    "n_channels = np.shape(power_heard)[1]\n",
    "n_freqs = np.shape(power_heard)[2]\n",
    "n_windows = np.shape(power_heard)[3]\n",
    "print(\"n_windows: \" + str(n_windows))\n",
    "\n",
    "# Reshape for classifier\n",
    "X_heard = power_heard.reshape((n_epochs, n_freqs * n_channels, n_windows)) # Set order to preserve epoch order\n",
    "print(np.shape(X_heard))\n",
    "\n",
    "# Repeat for epochs_imagined\n",
    "power_imagined = tfr_morlet(epochs_imagined,\n",
    "                   freqs = STIM_FREQS,\n",
    "                   n_cycles = n_cycles,\n",
    "                   use_fft = True,\n",
    "                   return_itc = False,\n",
    "                   decim = 3,\n",
    "                   n_jobs = 1,\n",
    "                   average = False)\n",
    "power_imagined = np.log10(power_imagined)\n",
    "\n",
    "# Get some information\n",
    "n_epochs = np.shape(power_imagined)[0]\n",
    "n_channels = np.shape(power_imagined)[1]\n",
    "n_freqs = np.shape(power_imagined)[2]\n",
    "n_windows = np.shape(power_imagined)[3]\n",
    "print(\"n_windows: \" + str(n_windows))\n",
    "\n",
    "# Reshape for classifier\n",
    "X_imagined = power_imagined.reshape((n_epochs, n_freqs * n_channels, n_windows)) # Set order to preserve epoch order\n",
    "print(np.shape(X_imagined))"
   ]
  },
  {
   "cell_type": "code",
   "execution_count": 17,
   "id": "95126a02",
   "metadata": {},
   "outputs": [
    {
     "name": "stdout",
     "output_type": "stream",
     "text": [
      "---------- Create target array ----------\n",
      "y_heard: [1 1 1 1 0 0 0 1 1 1 1 0 0 0 1 1 1 1 0 0 0 0 0 0 0 0 0 0 0 0 1 1 1 1 1 0 0\n",
      " 0 0 0 0 0 0 0 0 0 0 0 0 0 0 1 1 1 1 0 0 0 1 1 1 1 1 1 1 1 1 1 1 1 1 1 1 1\n",
      " 1 1 0 0 0 0 1 1 1 1 1 1 1 0 0 0 0 1 1 1 0 0 0 0 1 1 1 1 1 1 1 1 0 0 0 0 1\n",
      " 1 1 1 1 1 1 1 1 1 1 1 1 1 1 1 1 1 1 1 1 1 1 1 1 1 1 1 1 1 1 1 1 1 1 1 0 0\n",
      " 0 0 0 0 0 1 1 1 1 0 0 0 1 1 1 1 0 0 1 1 1 1 0 0 0 0 0 0 0 0 0 0 0 1 1 1 1\n",
      " 1 1 1 1 1 1 1 1 1 1 1 1 1 1 1 1 1 1 1 1 1 0 0 0 0 1 1 1 1 1 1 1 1 1 1 1 1\n",
      " 0 0 0 0 0 0 0 0 0 0 1 1 1 1 1 1 1 1 1 1 1 1 0 0 0 0 0 0 0 0 1 1 1 0 0 0 0\n",
      " 0 0 0 0 0 0 0 0 1 1 1 1 1 1 1 1 1 1 1 1 1 1 1 1 0 0 0 0 1 1 1 1 1 1 1 0 0\n",
      " 0 0 1 1 1 1 1 1 1 1 0 0 0 0 0 0 0 0 0 0 0 0 0 0 0 0 1 1 1 1 0 0 0 0 0 0 0\n",
      " 0 0 0 0 0 1 1 1 1 1 1 1 1 1 1 1 1 0 0 0 0 1 1 1 1 0 0 0 1 1 1 1 0 0 0 0 1\n",
      " 1 1 1 1 1 1 1 1 1 1 1 0 0 0 0 0 0 0 0 0 0 0 0 0 0 0 0 1 1 1 1 0 0 0 0 1 1\n",
      " 1 1 0 0 0 0 0 0 0 0 1 1 1 1 0 0 0 0 1 1 1 1 1 1 1 1 0 0 0 0 0 0 0 0 1 1 1\n",
      " 1 1 1 1 0 0 0 0 1 1 1 1]\n",
      "y_heard: [1 0 1 0 1 0 0 0 1 1 0 0 0 0 1 0 1 1 1 1 1 0 1 1 0 1 0 1 1 0 1 1 1 1 1 1 1\n",
      " 1 1 0 0 1 0 1 0 1 0 0 0 1 1 1 1 1 1 0 1 1 1 0 0 0 1 1 1 0 0 1 0 0 0 1 1 1\n",
      " 1 0 1 0 1 1 0 0 0 0 0 1 0 0 0 1 1 0 1 0 1 0 1 1 1 0 0 0 0 1 0 1 0 0 1 0 1\n",
      " 0 0 1 1 0 1]\n"
     ]
    }
   ],
   "source": [
    "print(\"---------- Create target array ----------\")\n",
    "labels_heard = pd.Series(events_heard[:, 2])\n",
    "y_heard = labels_heard.replace(label_dict_heard)\n",
    "le = preprocessing.LabelEncoder()\n",
    "y_heard = le.fit_transform(y_heard)\n",
    "print(f'y_heard: {y_heard}')\n",
    "\n",
    "labels_imagined = pd.Series(events_imagined[:, 2])\n",
    "y_imagined = labels_imagined.replace(label_dict_imagined)\n",
    "le = preprocessing.LabelEncoder()\n",
    "y_imagined = le.fit_transform(y_imagined)\n",
    "print(f'y_heard: {y_imagined}')"
   ]
  },
  {
   "cell_type": "code",
   "execution_count": 18,
   "id": "6d05240f",
   "metadata": {},
   "outputs": [
    {
     "name": "stdout",
     "output_type": "stream",
     "text": [
      "---------- Decode ----------\n",
      "Creating sliding estimators\n",
      "Fit estimators\n"
     ]
    },
    {
     "data": {
      "application/vnd.jupyter.widget-view+json": {
       "model_id": "0f3a5fe2e22e451cbe638ea59597fbc5",
       "version_major": 2,
       "version_minor": 0
      },
      "text/plain": [
       "  0%|          | Fitting SlidingEstimator : 0/1667 [00:00<?,       ?it/s]"
      ]
     },
     "metadata": {},
     "output_type": "display_data"
    }
   ],
   "source": [
    "print(\"---------- Decode ----------\")\n",
    "n_stimuli = 2\n",
    "metric = 'accuracy'\n",
    "\n",
    "clf = make_pipeline(\n",
    "    StandardScaler(),\n",
    "    LogisticRegression(solver = 'liblinear')\n",
    ")\n",
    "\n",
    "print(\"Creating sliding estimators\")\n",
    "time_decod = SlidingEstimator(clf)\n",
    "\n",
    "print(\"Fit estimators\")\n",
    "estimator = time_decod.fit(X_heard, y_heard)"
   ]
  },
  {
   "cell_type": "code",
   "execution_count": 21,
   "id": "b96f774d",
   "metadata": {},
   "outputs": [
    {
     "name": "stdout",
     "output_type": "stream",
     "text": [
      "---------- apply decoder ----------\n"
     ]
    }
   ],
   "source": [
    "print(\"---------- apply decoder ----------\")\n",
    "scores = estimator.score(X_imagined, y_imagined)"
   ]
  },
  {
   "cell_type": "code",
   "execution_count": 22,
   "id": "d8cfcc02",
   "metadata": {},
   "outputs": [
    {
     "data": {
      "text/plain": [
       "(1667,)"
      ]
     },
     "execution_count": 22,
     "metadata": {},
     "output_type": "execute_result"
    }
   ],
   "source": [
    "np.shape(scores)"
   ]
  },
  {
   "cell_type": "code",
   "execution_count": 34,
   "id": "92a9666e",
   "metadata": {},
   "outputs": [
    {
     "data": {
      "text/plain": [
       "999.4001199760047"
      ]
     },
     "execution_count": 34,
     "metadata": {},
     "output_type": "execute_result"
    }
   ],
   "source": [
    "windows = list(range(len(scores)))\n",
    "msec_per_window = 1000/1667\n",
    "x = [window*msec_per_window for window in windows]"
   ]
  },
  {
   "cell_type": "code",
   "execution_count": null,
   "id": "5e70fbee",
   "metadata": {},
   "outputs": [],
   "source": [
    "print(\"---------- Save decoder scores ----------\")\n",
    "print('Saving scores to: ' + scores_fpath)\n",
    "np.save(scores_fpath, scores)"
   ]
  },
  {
   "cell_type": "code",
   "execution_count": 35,
   "id": "f829a428",
   "metadata": {},
   "outputs": [
    {
     "name": "stdout",
     "output_type": "stream",
     "text": [
      "---------- Plot ----------\n"
     ]
    },
    {
     "ename": "NameError",
     "evalue": "name 'sub' is not defined",
     "output_type": "error",
     "traceback": [
      "\u001b[0;31m---------------------------------------------------------------------------\u001b[0m",
      "\u001b[0;31mNameError\u001b[0m                                 Traceback (most recent call last)",
      "Input \u001b[0;32mIn [35]\u001b[0m, in \u001b[0;36m<cell line: 12>\u001b[0;34m()\u001b[0m\n\u001b[1;32m      9\u001b[0m ax\u001b[38;5;241m.\u001b[39mset_title(\u001b[38;5;124m'\u001b[39m\u001b[38;5;124mSensor space decoding\u001b[39m\u001b[38;5;124m'\u001b[39m)\n\u001b[1;32m     11\u001b[0m \u001b[38;5;66;03m# Save plot\u001b[39;00m\n\u001b[0;32m---> 12\u001b[0m fig_fpath \u001b[38;5;241m=\u001b[39m FIGS_ROOT \u001b[38;5;241m+\u001b[39m \u001b[38;5;124m'\u001b[39m\u001b[38;5;124m/subj-\u001b[39m\u001b[38;5;124m'\u001b[39m \u001b[38;5;241m+\u001b[39m \u001b[43msub\u001b[49m \u001b[38;5;241m+\u001b[39m \u001b[38;5;124m'\u001b[39m\u001b[38;5;124m_\u001b[39m\u001b[38;5;124m'\u001b[39m \u001b[38;5;241m+\u001b[39m \u001b[38;5;124m'\u001b[39m\u001b[38;5;124mtask-pitch_\u001b[39m\u001b[38;5;124m'\u001b[39m \u001b[38;5;241m+\u001b[39m \u001b[38;5;124m'\u001b[39m\u001b[38;5;124mrun-\u001b[39m\u001b[38;5;124m'\u001b[39m \u001b[38;5;241m+\u001b[39m run \u001b[38;5;241m+\u001b[39m \u001b[38;5;124m'\u001b[39m\u001b[38;5;124m_log_reg_no_crop\u001b[39m\u001b[38;5;124m'\u001b[39m \u001b[38;5;241m+\u001b[39m \u001b[38;5;124m'\u001b[39m\u001b[38;5;124m.png\u001b[39m\u001b[38;5;124m'\u001b[39m\n\u001b[1;32m     13\u001b[0m \u001b[38;5;28mprint\u001b[39m(\u001b[38;5;124m'\u001b[39m\u001b[38;5;124mSaving figure to: \u001b[39m\u001b[38;5;124m'\u001b[39m \u001b[38;5;241m+\u001b[39m fig_fpath)\n\u001b[1;32m     14\u001b[0m plt\u001b[38;5;241m.\u001b[39msavefig(fig_fpath)\n",
      "\u001b[0;31mNameError\u001b[0m: name 'sub' is not defined"
     ]
    },
    {
     "data": {
      "image/png": "[encoded data removed]",
      "text/plain": [
       "<Figure size 432x288 with 1 Axes>"
      ]
     },
     "metadata": {
      "needs_background": "light"
     },
     "output_type": "display_data"
    }
   ],
   "source": [
    "# Plot\n",
    "print(\"---------- Plot ----------\")\n",
    "fig, ax = plt.subplots()\n",
    "ax.plot(x, scores, label = 'score')\n",
    "ax.axhline(1/n_stimuli, color = 'k', linestyle = '--', label = 'chance')\n",
    "ax.set_xlabel('Times')\n",
    "ax.set_ylabel(metric)  # Area Under the Curve\n",
    "ax.legend()\n",
    "ax.set_title('Sensor space decoding')\n",
    "\n",
    "# Save plot\n",
    "fig_fpath = FIGS_ROOT + '/subj-' + sub + '_' + 'task-pitch_' + 'run-' + run + '_log_reg_no_crop' + '.png'\n",
    "print('Saving figure to: ' + fig_fpath)\n",
    "plt.savefig(fig_fpath)"
   ]
  }
 ],
 "metadata": {
  "kernelspec": {
   "display_name": "Python 3 (ipykernel)",
   "language": "python",
   "name": "python3"
  },
  "language_info": {
   "codemirror_mode": {
    "name": "ipython",
    "version": 3
   },
   "file_extension": ".py",
   "mimetype": "text/x-python",
   "name": "python",
   "nbconvert_exporter": "python",
   "pygments_lexer": "ipython3",
   "version": "3.10.4"
  }
 },
 "nbformat": 4,
 "nbformat_minor": 5
}
