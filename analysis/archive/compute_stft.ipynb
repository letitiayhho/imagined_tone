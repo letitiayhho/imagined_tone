{
 "cells": [
  {
   "cell_type": "code",
   "execution_count": 1,
   "id": "acb09066",
   "metadata": {},
   "outputs": [],
   "source": [
    "import subprocess\n",
    "import sys\n",
    "import mne\n",
    "import numpy as np\n",
    "import matplotlib.pyplot as plt\n",
    "import pandas as pd\n",
    "\n",
    "from scipy import signal\n",
    "from typing import Tuple, Iterator\n",
    "from mne_bids import BIDSPath, read_raw_bids, print_dir_tree\n",
    "from bids import BIDSLayout\n",
    "from util.io.iter_BIDSPaths import *\n",
    "from util.io.bids import DataSink\n",
    "from mne.time_frequency import stft\n",
    "\n",
    "from sklearn.pipeline import make_pipeline\n",
    "from sklearn import preprocessing\n",
    "from sklearn.preprocessing import StandardScaler\n",
    "from sklearn.linear_model import LogisticRegression\n",
    "from mne.decoding import SlidingEstimator, cross_val_multiscore"
   ]
  },
  {
   "cell_type": "code",
   "execution_count": 2,
   "id": "c005078f",
   "metadata": {},
   "outputs": [],
   "source": [
    "BIDS_ROOT = '../data/bids'\n",
    "FIGS_ROOT = '../figs'\n",
    "DERIV_ROOT = '../data/bids/derivatives'\n",
    "FS = 5000\n",
    "SUB = '9'\n",
    "TASK = 'pitch'\n",
    "RUN = '1'\n",
    "# WSIZE = 200"
   ]
  },
  {
   "cell_type": "code",
   "execution_count": 3,
   "id": "cfb60ac0",
   "metadata": {},
   "outputs": [
    {
     "name": "stderr",
     "output_type": "stream",
     "text": [
      "/home/letitiayhho/.conda/envs/pitch-tracking/lib/python3.10/site-packages/bids/layout/validation.py:151: UserWarning: The PipelineDescription field was superseded by GeneratedBy in BIDS 1.4.0. You can use ``pybids upgrade`` to update your derivative dataset.\n",
      "  warnings.warn(\"The PipelineDescription field was superseded \"\n"
     ]
    }
   ],
   "source": [
    "layout = BIDSLayout(BIDS_ROOT, derivatives = True)\n",
    "fpaths = layout.get(scope = 'preprocessing',\n",
    "                    res = 'hi',\n",
    "                    suffix='epo',\n",
    "                    extension = 'fif.gz',\n",
    "                    return_type = 'filename')"
   ]
  },
  {
   "cell_type": "code",
   "execution_count": 4,
   "id": "09ddd79d",
   "metadata": {},
   "outputs": [
    {
     "name": "stdout",
     "output_type": "stream",
     "text": [
      "Reading /project2/hcn1/pitch_tracking/scripts/../data/bids/derivatives/preprocessing/sub-2/sub-2_task-pitch_run-1_res-hi_desc-clean_epo.fif.gz ...\n",
      "    Found the data of interest:\n",
      "        t =    -200.00 ...     250.00 ms\n",
      "        0 CTF compensation matrices available\n",
      "Reading /project2/hcn1/pitch_tracking/scripts/../data/bids/derivatives/preprocessing/sub-2/sub-2_task-pitch_run-1_desc-clean_5khz_epo.fif-1.gz ...\n",
      "    Found the data of interest:\n",
      "        t =    -200.00 ...     250.00 ms\n",
      "        0 CTF compensation matrices available\n",
      "Not setting metadata\n",
      "4553 matching events found\n",
      "No baseline correction applied\n",
      "0 projection items activated\n",
      "Reading /project2/hcn1/pitch_tracking/scripts/../data/bids/derivatives/preprocessing/sub-3/sub-3_task-pitch_run-1_res-hi_desc-clean_epo.fif.gz ...\n",
      "    Found the data of interest:\n",
      "        t =    -200.00 ...     250.00 ms\n",
      "        0 CTF compensation matrices available\n",
      "Not setting metadata\n",
      "2332 matching events found\n",
      "No baseline correction applied\n",
      "0 projection items activated\n",
      "Reading /project2/hcn1/pitch_tracking/scripts/../data/bids/derivatives/preprocessing/sub-3/sub-3_task-pitch_run-2_res-hi_desc-clean_epo.fif.gz ...\n",
      "    Found the data of interest:\n",
      "        t =    -200.00 ...     250.00 ms\n",
      "        0 CTF compensation matrices available\n",
      "Not setting metadata\n",
      "2329 matching events found\n",
      "No baseline correction applied\n",
      "0 projection items activated\n",
      "Reading /project2/hcn1/pitch_tracking/scripts/../data/bids/derivatives/preprocessing/sub-4/sub-4_task-pitch_run-1_res-hi_desc-clean_epo.fif.gz ...\n",
      "    Found the data of interest:\n",
      "        t =    -200.00 ...     250.00 ms\n",
      "        0 CTF compensation matrices available\n",
      "Not setting metadata\n",
      "2416 matching events found\n",
      "No baseline correction applied\n",
      "0 projection items activated\n",
      "Reading /project2/hcn1/pitch_tracking/scripts/../data/bids/derivatives/preprocessing/sub-4/sub-4_task-pitch_run-2_res-hi_desc-clean_epo.fif.gz ...\n",
      "    Found the data of interest:\n",
      "        t =    -200.00 ...     250.00 ms\n",
      "        0 CTF compensation matrices available\n",
      "Not setting metadata\n",
      "1921 matching events found\n",
      "No baseline correction applied\n",
      "0 projection items activated\n",
      "Reading /project2/hcn1/pitch_tracking/scripts/../data/bids/derivatives/preprocessing/sub-5/sub-5_task-pitch_run-1_res-hi_desc-clean_epo.fif.gz ...\n",
      "    Found the data of interest:\n",
      "        t =    -200.00 ...     250.00 ms\n",
      "        0 CTF compensation matrices available\n",
      "Not setting metadata\n",
      "3841 matching events found\n",
      "No baseline correction applied\n",
      "0 projection items activated\n",
      "Reading /project2/hcn1/pitch_tracking/scripts/../data/bids/derivatives/preprocessing/sub-6/sub-6_task-pitch_run-1_res-hi_desc-clean_epo.fif.gz ...\n",
      "    Found the data of interest:\n",
      "        t =    -200.00 ...     250.00 ms\n",
      "        0 CTF compensation matrices available\n",
      "Reading /project2/hcn1/pitch_tracking/scripts/../data/bids/derivatives/preprocessing/sub-6/sub-6_task-pitch_run-1_desc-clean_5khz_epo.fif-1.gz ...\n",
      "--------------------- FileNotFoundError for: /project2/hcn1/pitch_tracking/scripts/../data/bids/derivatives/preprocessing/sub-6/sub-6_task-pitch_run-1_res-hi_desc-clean_epo.fif.gz\n",
      "Reading /project2/hcn1/pitch_tracking/scripts/../data/bids/derivatives/preprocessing/sub-7/sub-7_task-pitch_run-1_res-hi_desc-clean_epo.fif.gz ...\n",
      "    Found the data of interest:\n",
      "        t =    -200.00 ...     250.00 ms\n",
      "        0 CTF compensation matrices available\n",
      "Not setting metadata\n",
      "3841 matching events found\n",
      "No baseline correction applied\n",
      "0 projection items activated\n",
      "Reading /project2/hcn1/pitch_tracking/scripts/../data/bids/derivatives/preprocessing/sub-8/sub-8_task-pitch_run-1_res-hi_desc-clean_epo.fif.gz ...\n",
      "    Found the data of interest:\n",
      "        t =    -200.00 ...     250.00 ms\n",
      "        0 CTF compensation matrices available\n",
      "Not setting metadata\n",
      "3841 matching events found\n",
      "No baseline correction applied\n",
      "0 projection items activated\n",
      "Reading /project2/hcn1/pitch_tracking/scripts/../data/bids/derivatives/preprocessing/sub-9/sub-9_task-pitch_run-1_res-hi_desc-clean_epo.fif.gz ...\n",
      "    Found the data of interest:\n",
      "        t =    -200.00 ...     250.00 ms\n",
      "        0 CTF compensation matrices available\n",
      "Not setting metadata\n",
      "1922 matching events found\n",
      "No baseline correction applied\n",
      "0 projection items activated\n",
      "Reading /project2/hcn1/pitch_tracking/scripts/../data/bids/derivatives/preprocessing/sub-10/sub-10_task-pitch_run-1_res-hi_desc-clean_epo.fif.gz ...\n",
      "    Found the data of interest:\n",
      "        t =    -200.00 ...     250.00 ms\n",
      "        0 CTF compensation matrices available\n",
      "Not setting metadata\n",
      "3841 matching events found\n",
      "No baseline correction applied\n",
      "0 projection items activated\n",
      "Reading /project2/hcn1/pitch_tracking/scripts/../data/bids/derivatives/preprocessing/sub-11/sub-11_task-pitch_run-1_res-hi_desc-clean_epo.fif.gz ...\n",
      "    Found the data of interest:\n",
      "        t =    -200.00 ...     250.00 ms\n",
      "        0 CTF compensation matrices available\n",
      "Reading /project2/hcn1/pitch_tracking/scripts/../data/bids/derivatives/preprocessing/sub-11/sub-11_task-pitch_run-1_desc-clean_5khz_epo.fif-1.gz ...\n",
      "--------------------- FileNotFoundError for: /project2/hcn1/pitch_tracking/scripts/../data/bids/derivatives/preprocessing/sub-11/sub-11_task-pitch_run-1_res-hi_desc-clean_epo.fif.gz\n",
      "Reading /project2/hcn1/pitch_tracking/scripts/../data/bids/derivatives/preprocessing/sub-12/sub-12_task-pitch_run-1_res-hi_desc-clean_epo.fif.gz ...\n",
      "    Found the data of interest:\n",
      "        t =    -200.00 ...     250.00 ms\n",
      "        0 CTF compensation matrices available\n",
      "Reading /project2/hcn1/pitch_tracking/scripts/../data/bids/derivatives/preprocessing/sub-12/sub-12_task-pitch_run-1_desc-clean_5khz_epo.fif-1.gz ...\n",
      "--------------------- FileNotFoundError for: /project2/hcn1/pitch_tracking/scripts/../data/bids/derivatives/preprocessing/sub-12/sub-12_task-pitch_run-1_res-hi_desc-clean_epo.fif.gz\n",
      "Reading /project2/hcn1/pitch_tracking/scripts/../data/bids/derivatives/preprocessing/sub-13/sub-13_task-pitch_run-1_res-hi_desc-clean_epo.fif.gz ...\n",
      "    Found the data of interest:\n",
      "        t =    -200.00 ...     250.00 ms\n",
      "        0 CTF compensation matrices available\n",
      "Not setting metadata\n",
      "3463 matching events found\n",
      "No baseline correction applied\n",
      "0 projection items activated\n",
      "Reading /project2/hcn1/pitch_tracking/scripts/../data/bids/derivatives/preprocessing/sub-14/sub-14_task-pitch_run-1_res-hi_desc-clean_epo.fif.gz ...\n",
      "    Found the data of interest:\n",
      "        t =    -200.00 ...     250.00 ms\n",
      "        0 CTF compensation matrices available\n",
      "Reading /project2/hcn1/pitch_tracking/scripts/../data/bids/derivatives/preprocessing/sub-14/sub-14_task-pitch_run-1_desc-clean_5khz_epo.fif-1.gz ...\n",
      "--------------------- FileNotFoundError for: /project2/hcn1/pitch_tracking/scripts/../data/bids/derivatives/preprocessing/sub-14/sub-14_task-pitch_run-1_res-hi_desc-clean_epo.fif.gz\n",
      "Reading /project2/hcn1/pitch_tracking/scripts/../data/bids/derivatives/preprocessing/sub-15/sub-15_task-pitch_run-1_res-hi_desc-clean_epo.fif.gz ...\n",
      "    Found the data of interest:\n",
      "        t =    -200.00 ...     250.00 ms\n",
      "        0 CTF compensation matrices available\n",
      "Not setting metadata\n",
      "3841 matching events found\n",
      "No baseline correction applied\n",
      "0 projection items activated\n",
      "Reading /project2/hcn1/pitch_tracking/scripts/../data/bids/derivatives/preprocessing/sub-16/sub-16_task-pitch_run-1_res-hi_desc-clean_epo.fif.gz ...\n",
      "    Found the data of interest:\n",
      "        t =    -200.00 ...     250.00 ms\n",
      "        0 CTF compensation matrices available\n",
      "Not setting metadata\n",
      "3841 matching events found\n",
      "No baseline correction applied\n",
      "0 projection items activated\n",
      "Reading /project2/hcn1/pitch_tracking/scripts/../data/bids/derivatives/preprocessing/sub-17/sub-17_task-pitch_run-1_res-hi_desc-clean_epo.fif.gz ...\n",
      "    Found the data of interest:\n",
      "        t =    -200.00 ...     250.00 ms\n",
      "        0 CTF compensation matrices available\n",
      "Not setting metadata\n",
      "3841 matching events found\n",
      "No baseline correction applied\n",
      "0 projection items activated\n",
      "Reading /project2/hcn1/pitch_tracking/scripts/../data/bids/derivatives/preprocessing/sub-18/sub-18_task-pitch_run-1_res-hi_desc-clean_epo.fif.gz ...\n",
      "    Found the data of interest:\n",
      "        t =    -200.00 ...     250.00 ms\n",
      "        0 CTF compensation matrices available\n",
      "Reading /project2/hcn1/pitch_tracking/scripts/../data/bids/derivatives/preprocessing/sub-18/sub-18_task-pitch_run-1_desc-clean_5khz_epo.fif-1.gz ...\n"
     ]
    },
    {
     "name": "stdout",
     "output_type": "stream",
     "text": [
      "--------------------- FileNotFoundError for: /project2/hcn1/pitch_tracking/scripts/../data/bids/derivatives/preprocessing/sub-18/sub-18_task-pitch_run-1_res-hi_desc-clean_epo.fif.gz\n",
      "Reading /project2/hcn1/pitch_tracking/scripts/../data/bids/derivatives/preprocessing/sub-19/sub-19_task-pitch_run-1_res-hi_desc-clean_epo.fif.gz ...\n",
      "    Found the data of interest:\n",
      "        t =    -200.00 ...     250.00 ms\n",
      "        0 CTF compensation matrices available\n",
      "Not setting metadata\n",
      "3841 matching events found\n",
      "No baseline correction applied\n",
      "0 projection items activated\n",
      "Reading /project2/hcn1/pitch_tracking/scripts/../data/bids/derivatives/preprocessing/sub-20/sub-20_task-pitch_run-1_res-hi_desc-clean_epo.fif.gz ...\n",
      "    Found the data of interest:\n",
      "        t =    -200.00 ...     250.00 ms\n",
      "        0 CTF compensation matrices available\n",
      "Not setting metadata\n",
      "3841 matching events found\n",
      "No baseline correction applied\n",
      "0 projection items activated\n",
      "Reading /project2/hcn1/pitch_tracking/scripts/../data/bids/derivatives/preprocessing/sub-21/sub-21_task-pitch_run-1_res-hi_desc-clean_epo.fif.gz ...\n",
      "    Found the data of interest:\n",
      "        t =    -200.00 ...     250.00 ms\n",
      "        0 CTF compensation matrices available\n",
      "Not setting metadata\n",
      "3841 matching events found\n",
      "No baseline correction applied\n",
      "0 projection items activated\n"
     ]
    }
   ],
   "source": [
    "# epochs = mne.read_epochs(fpaths[9])\n",
    "# events = epochs.events\n",
    "# epochs = epochs.get_data()\n",
    "for fpath in fpaths:\n",
    "    try: \n",
    "        mne.read_epochs(fpath, preload = False)\n",
    "    except FileNotFoundError:\n",
    "        print(\"--------------------- FileNotFoundError for: \" + fpath)"
   ]
  },
  {
   "cell_type": "code",
   "execution_count": 7,
   "id": "bb903a30",
   "metadata": {},
   "outputs": [],
   "source": [
    "event_items = ['50', '100', '150', '200', '250']\n",
    "condition_freqs = [50, 100, 150, 200, 250]\n",
    "n_freqs = len(condition_freqs)\n",
    "n_epochs = np.shape(epochs)[0]\n",
    "n_chans = np.shape(epochs)[1]"
   ]
  },
  {
   "cell_type": "markdown",
   "id": "2fef3803",
   "metadata": {},
   "source": [
    "### Sample spectrogram for one trial for one channel"
   ]
  },
  {
   "cell_type": "code",
   "execution_count": 8,
   "id": "63f81758",
   "metadata": {},
   "outputs": [
    {
     "ename": "AttributeError",
     "evalue": "'numpy.ndarray' object has no attribute 'get_data'",
     "output_type": "error",
     "traceback": [
      "\u001b[0;31m---------------------------------------------------------------------------\u001b[0m",
      "\u001b[0;31mAttributeError\u001b[0m                            Traceback (most recent call last)",
      "Input \u001b[0;32mIn [8]\u001b[0m, in \u001b[0;36m<cell line: 1>\u001b[0;34m()\u001b[0m\n\u001b[0;32m----> 1\u001b[0m epochs_100hz \u001b[38;5;241m=\u001b[39m \u001b[43mepochs\u001b[49m\u001b[38;5;241;43m.\u001b[39;49m\u001b[43mget_data\u001b[49m(item \u001b[38;5;241m=\u001b[39m \u001b[38;5;124m'\u001b[39m\u001b[38;5;124m100\u001b[39m\u001b[38;5;124m'\u001b[39m)\n\u001b[1;32m      2\u001b[0m x \u001b[38;5;241m=\u001b[39m epochs_100hz[\u001b[38;5;241m1\u001b[39m, \u001b[38;5;241m0\u001b[39m]\n\u001b[1;32m      4\u001b[0m f, t, coefs \u001b[38;5;241m=\u001b[39m signal\u001b[38;5;241m.\u001b[39mstft(x, FS)\n",
      "\u001b[0;31mAttributeError\u001b[0m: 'numpy.ndarray' object has no attribute 'get_data'"
     ]
    }
   ],
   "source": [
    "epochs_100hz = epochs.get_data(item = '100')\n",
    "x = epochs_100hz[1, 0]\n",
    "\n",
    "f, t, coefs = signal.stft(x, FS)\n",
    "\n",
    "# Trim to frequencies < 300 Hz\n",
    "i = int(np.argwhere(f < 300)[-1])\n",
    "f = f[0:i]\n",
    "coefs = coefs[0:i,]\n",
    "coefs = np.abs(coefs)\n",
    "\n",
    "# Plot\n",
    "plt.pcolormesh(t, f, coefs, shading='gouraud')\n",
    "plt.title('STFT Magnitude')\n",
    "plt.ylabel('Frequency [Hz]')\n",
    "plt.xlabel('Time [sec]')\n",
    "plt.show()"
   ]
  },
  {
   "cell_type": "markdown",
   "id": "969320d1",
   "metadata": {},
   "source": [
    "### Compute power"
   ]
  },
  {
   "cell_type": "code",
   "execution_count": 13,
   "id": "f496f52e",
   "metadata": {},
   "outputs": [],
   "source": [
    "def summarize_stft(f, Zxx, condition_freqs): # approximate power at the condition freqs\n",
    "    Zxx_condensed = np.empty([n_epochs, len(condition_freqs), 19])\n",
    "    \n",
    "    for i in range(len(condition_freqs)):\n",
    "        \n",
    "        # find indexes of freqs surrounding the condition freq\n",
    "        freq = condition_freqs[i]\n",
    "        a = int(np.argwhere(f < freq)[-1])\n",
    "        b = a+1\n",
    "        \n",
    "        # subset power for the condition freq\n",
    "        condition_Zxx = Zxx[:,a:b+1, :]\n",
    "        \n",
    "        # take average to get approximate for power at condition freq\n",
    "        condition_Zxx = np.mean(condition_Zxx, axis = 1)\n",
    "        Zxx_condensed[:, i, :] = condition_Zxx\n",
    "    \n",
    "    return Zxx_condensed\n",
    "\n",
    "def get_stft_for_one_channel(x, fs, condition_freqs): # where x is n_epochs, n_windows\n",
    "    f, t, Zxx = signal.stft(x, fs) \n",
    "\n",
    "    # Take real values\n",
    "    Zxx = np.abs(Zxx)\n",
    "    \n",
    "    # Summarize to frequencies of interest\n",
    "    Zxx = summarize_stft(f, Zxx, condition_freqs)\n",
    "    \n",
    "    return (f, t, Zxx)"
   ]
  },
  {
   "cell_type": "code",
   "execution_count": 14,
   "id": "2fe1bf1b",
   "metadata": {},
   "outputs": [],
   "source": [
    "# Run across all channels\n",
    "Zxxs = np.empty([n_epochs, n_chans, n_freqs, 19]) # n_epochs, n_chans, n_freqs, n_windows\n",
    "for chan in range(n_chans):\n",
    "    x = pd.DataFrame(epochs[:, chan, :])\n",
    "    f, t, Zxx = get_stft_for_one_channel(x, FS, condition_freqs)\n",
    "    Zxxs[:, chan, :, :] = Zxx\n",
    "\n",
    "# Reshape for decoder\n",
    "Zxxs = Zxxs.reshape((n_epochs, n_freqs*n_chans, 19))"
   ]
  },
  {
   "cell_type": "code",
   "execution_count": 25,
   "id": "659ef317",
   "metadata": {},
   "outputs": [
    {
     "name": "stdout",
     "output_type": "stream",
     "text": [
      "Saving scores to: ../data/bids/derivatives/decoding/sub-9/sub-9_task-pitch_run-1_desc-stft_power.npy\n"
     ]
    }
   ],
   "source": [
    "# Save powers\n",
    "sink = DataSink(DERIV_ROOT, 'decoding')\n",
    "stft_fpath = sink.get_path(\n",
    "    subject = SUB,\n",
    "    task = TASK,\n",
    "    run = RUN,\n",
    "    desc = 'stft',\n",
    "    suffix = 'power',\n",
    "    extension = 'npy',\n",
    ")\n",
    "print('Saving scores to: ' + stft_fpath)\n",
    "np.save(stft_fpath, Zxxs)"
   ]
  },
  {
   "cell_type": "markdown",
   "id": "d469649d",
   "metadata": {},
   "source": [
    "### Decoder"
   ]
  },
  {
   "cell_type": "code",
   "execution_count": 20,
   "id": "74af5111",
   "metadata": {},
   "outputs": [
    {
     "name": "stdout",
     "output_type": "stream",
     "text": [
      "---------- Decode ----------\n",
      "Creating sliding estimators\n",
      "Fit estimators\n"
     ]
    },
    {
     "name": "stderr",
     "output_type": "stream",
     "text": [
      "[Parallel(n_jobs=56)]: Using backend LokyBackend with 56 concurrent workers.\n",
      "100%|██████████| Fitting SlidingEstimator : 19/19 [00:18<00:00,    1.03it/s]\n",
      "100%|██████████| Fitting SlidingEstimator : 19/19 [00:20<00:00,    1.10s/it]\n",
      "100%|██████████| Fitting SlidingEstimator : 19/19 [00:21<00:00,    1.13s/it]\n",
      "[Parallel(n_jobs=56)]: Done   2 out of   5 | elapsed:   22.9s remaining:   34.3s\n",
      "100%|██████████| Fitting SlidingEstimator : 19/19 [00:20<00:00,    1.08s/it]\n",
      "100%|██████████| Fitting SlidingEstimator : 19/19 [00:21<00:00,    1.13s/it]\n",
      "[Parallel(n_jobs=56)]: Done   5 out of   5 | elapsed:   23.8s finished\n"
     ]
    },
    {
     "name": "stdout",
     "output_type": "stream",
     "text": [
      "---------- Plot ----------\n",
      "Saving figure to: ../figs/subj-9_task-pitch_run-1_stft.png\n"
     ]
    },
    {
     "data": {
      "image/png": "[encoded data removed]",
      "text/plain": [
       "<Figure size 432x288 with 1 Axes>"
      ]
     },
     "metadata": {
      "needs_background": "light"
     },
     "output_type": "display_data"
    }
   ],
   "source": [
    "X = Zxxs\n",
    "\n",
    "# Create target array\n",
    "labels = pd.Series(events[:, 2])\n",
    "y = labels.replace({10001 : 0, 10002 : 1, 10003 : 2, 10004 : 3, 10005 : 4})\n",
    "le = preprocessing.LabelEncoder()\n",
    "y = le.fit_transform(y)\n",
    "\n",
    "# Decode\n",
    "print(\"---------- Decode ----------\")\n",
    "n_stimuli = 5\n",
    "metric = 'accuracy'\n",
    "\n",
    "clf = make_pipeline(\n",
    "    StandardScaler(),\n",
    "    LogisticRegression(solver = 'liblinear')\n",
    ")\n",
    "\n",
    "print(\"Creating sliding estimators\")\n",
    "time_decod = SlidingEstimator(clf)\n",
    "\n",
    "print(\"Fit estimators\")\n",
    "scores = cross_val_multiscore(\n",
    "    time_decod,\n",
    "    X, # a trials x features x time array\n",
    "    y, # an (n_trials,) array of integer condition labels\n",
    "    cv = 5, # use stratified 5-fold cross-validation\n",
    "    n_jobs = -1, # use all available CPU cores\n",
    ")\n",
    "scores = np.mean(scores, axis = 0) # average across cv splits\n",
    "\n",
    "# Save decoder score_shape\n",
    "print(\"---------- Save decoder scores ----------\")\n",
    "sink = DataSink(DERIV_ROOT, 'decoding')\n",
    "scores_fpath = sink.get_path(\n",
    "    subject = sub,\n",
    "    task = task,\n",
    "    run = run,\n",
    "    desc = 'stft',\n",
    "    suffix = 'scores',\n",
    "    extension = 'npy',\n",
    ")\n",
    "print('Saving scores to: ' + scores_fpath)\n",
    "np.save(scores_fpath, scores)\n",
    "\n",
    "# Plot\n",
    "print(\"---------- Plot ----------\")\n",
    "fig, ax = plt.subplots()\n",
    "ax.plot(range(len(scores)), scores, label = 'score')\n",
    "ax.axhline(1/n_stimuli, color = 'k', linestyle = '--', label = 'chance')\n",
    "ax.set_xlabel('Times')\n",
    "ax.set_ylabel(metric)  # Area Under the Curve\n",
    "ax.legend()\n",
    "ax.set_title('Sensor space decoding')\n",
    "\n",
    "# Save plot\n",
    "fig_fpath = FIGS_ROOT + '/subj-' + SUB + '_' + 'task-pitch_' + 'run-' + RUN + '_stft' + '.png'\n",
    "print('Saving figure to: ' + fig_fpath)\n",
    "plt.savefig(fig_fpath)"
   ]
  },
  {
   "cell_type": "code",
   "execution_count": null,
   "id": "87b06915",
   "metadata": {},
   "outputs": [],
   "source": []
  }
 ],
 "metadata": {
  "kernelspec": {
   "display_name": "Python 3 (ipykernel)",
   "language": "python",
   "name": "python3"
  },
  "language_info": {
   "codemirror_mode": {
    "name": "ipython",
    "version": 3
   },
   "file_extension": ".py",
   "mimetype": "text/x-python",
   "name": "python",
   "nbconvert_exporter": "python",
   "pygments_lexer": "ipython3",
   "version": "3.10.4"
  }
 },
 "nbformat": 4,
 "nbformat_minor": 5
}
