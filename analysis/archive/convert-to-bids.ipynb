{
 "cells": [
  {
   "cell_type": "markdown",
   "id": "a261f8f5",
   "metadata": {},
   "source": [
    "### Convert raw data to BIDS format\n",
    "Adapted from John Veillette, see the original script [here](https://github.com/john-veillette/eeg-training-materials/blob/main/convert-to-bids.ipynb). I removed all the comments and explanations that were in the original notebook because only keeping a portion of them seems more confusing and irresponsible than redirecting anyone interested in how this script actually works to the original file with Johns exhaustive annotations."
   ]
  },
  {
   "cell_type": "code",
   "execution_count": 1,
   "id": "ec100e9d",
   "metadata": {},
   "outputs": [],
   "source": [
    "from mne_bids import BIDSPath, write_raw_bids, get_anonymization_daysback\n",
    "import pandas as pd\n",
    "import numpy as np\n",
    "import itertools\n",
    "import mne\n",
    "import os\n",
    "import re"
   ]
  },
  {
   "cell_type": "code",
   "execution_count": 2,
   "id": "f94ccd1d",
   "metadata": {},
   "outputs": [],
   "source": [
    "# Constants\n",
    "DATA_DIR = '../data/raw/' # where our data currently lives\n",
    "BIDS_DIR = '../data/bids/' # where we want it to live\n",
    "MAPS_DIR = '../data/captrak/' # where the mapping and electrode location files love"
   ]
  },
  {
   "cell_type": "markdown",
   "id": "ba760f2f",
   "metadata": {},
   "source": [
    "#### Parse filenames"
   ]
  },
  {
   "cell_type": "code",
   "execution_count": 3,
   "id": "331fcb85",
   "metadata": {},
   "outputs": [],
   "source": [
    "# Get filenames and digest them\n",
    "fnames = os.listdir(DATA_DIR)\n",
    "fnames = [f for f in fnames if '.vhdr' in f] # filter for .vhdr files\n",
    "\n",
    "# Get subject list from file order\n",
    "filter_subs = re.compile('letty_subj_(\\w?).*') # create regex filter\n",
    "subs = list(map(filter_subs.findall, fnames)) # extract subject numbers with filter\n",
    "subs = list(itertools.chain(*subs)) # flatten then nested list\n",
    "\n",
    "# Get a task list\n",
    "tasks = ['pitch']*len(subs) # broadcast the only task name\n",
    "\n",
    "# Get a run list\n",
    "filter_runs = re.compile('\\w+[0-9]_([0-9]).*')\n",
    "runs = list(map(filter_runs.findall, fnames))\n",
    "runs = ['1' if x == [] else x for x in runs]\n",
    "runs = list(itertools.chain(*runs))"
   ]
  },
  {
   "cell_type": "markdown",
   "id": "92faeae9",
   "metadata": {},
   "source": [
    "#### Retrieve mappings between channel numbers and channel names"
   ]
  },
  {
   "cell_type": "code",
   "execution_count": 4,
   "id": "390f0b25",
   "metadata": {},
   "outputs": [],
   "source": [
    "# For subj 2, 3, 5, 6\n",
    "mapping_table = pd.read_csv(MAPS_DIR + 'pitch_tracking_64_at_IZ.csv')\n",
    "mapping_64_at_IZ = {mapping_table.number[i]: mapping_table.name[i] for i in range(len(mapping_table))}\n",
    "\n",
    "# For subj 4 IZ is excluded but channel 64 is not moved to FCZ\n",
    "mapping_table = pd.read_csv(MAPS_DIR + 'pitch_tracking_no_IZ.csv')\n",
    "mapping_no_IZ = {mapping_table.number[i]: mapping_table.name[i] for i in range(len(mapping_table))}\n",
    "\n",
    "# For subj 7, and onwards\n",
    "mapping_table = pd.read_csv(MAPS_DIR + 'pitch_tracking_64_at_FCZ.csv')\n",
    "mapping_64_at_FCZ = {mapping_table.number[i]: mapping_table.name[i] for i in range(len(mapping_table))}\n",
    "\n",
    "# Create dict for subjects and their mappings\n",
    "special_mappings = {'2': mapping_64_at_IZ,\n",
    "           '3': mapping_64_at_IZ, \n",
    "           '4': mapping_no_IZ,\n",
    "           '5': mapping_64_at_IZ,\n",
    "           '6': mapping_64_at_IZ,\n",
    "           '7': mapping_64_at_FCZ}\n",
    "\n",
    "# Create function to fetch correct mapping\n",
    "def get_mapping(sub, special_mappings):\n",
    "    if sub in special_mappings.keys():\n",
    "        mapping = special_mappings[sub]\n",
    "    else:\n",
    "        mapping = mapping_64_at_FCZ\n",
    "    return mapping"
   ]
  },
  {
   "cell_type": "markdown",
   "id": "465977a6",
   "metadata": {},
   "source": [
    "#### Run conversion on all files"
   ]
  },
  {
   "cell_type": "code",
   "execution_count": 5,
   "id": "46cfa507",
   "metadata": {},
   "outputs": [
    {
     "name": "stdout",
     "output_type": "stream",
     "text": [
      "../data/raw/letty_subj_3_2.vhdr\n",
      "Extracting parameters from ../data/raw/letty_subj_3_2.vhdr...\n",
      "Setting channel info structure...\n",
      "Reading 0 ... 4713499  =      0.000 ...   942.700 secs...\n"
     ]
    },
    {
     "name": "stderr",
     "output_type": "stream",
     "text": [
      "/var/folders/hv/vj9_d69170l26hyj9hqqj45h0000gn/T/ipykernel_15582/794450067.py:11: RuntimeWarning: The unit for channel(s) Aux1 has changed from V to NA.\n",
      "  raw.set_channel_types({'Aux1': 'stim'})\n"
     ]
    },
    {
     "name": "stdout",
     "output_type": "stream",
     "text": [
      "Location for this channel is unknown; consider calling set_montage() again if needed.\n",
      "Used Annotations descriptions: ['New Segment/', 'Stimulus/S  1', 'Stimulus/S  2', 'Stimulus/S  3', 'Stimulus/S  4', 'Stimulus/S  5']\n"
     ]
    },
    {
     "name": "stderr",
     "output_type": "stream",
     "text": [
      "/var/folders/hv/vj9_d69170l26hyj9hqqj45h0000gn/T/ipykernel_15582/794450067.py:23: RuntimeWarning: DigMontage is only a subset of info. There are 2 channel positions not present in the DigMontage. The required channels are:\n",
      "\n",
      "['leog', 'reog'].\n",
      "\n",
      "Consider using inst.set_channel_types if these are not EEG channels, or use the on_missing parameter if the channel positions are allowed to be unknown in your analyses.\n",
      "  raw.set_montage(dig, on_missing = 'warn')\n"
     ]
    },
    {
     "name": "stdout",
     "output_type": "stream",
     "text": [
      "Writing '../data/bids/participants.tsv'...\n",
      "Writing '../data/bids/participants.json'...\n",
      "Writing electrodes file to... ../data/bids/sub-3/eeg/sub-3_electrodes.tsv\n",
      "Writing coordsytem file to... ../data/bids/sub-3/eeg/sub-3_coordsystem.json\n",
      "Writing '../data/bids/sub-3/eeg/sub-3_electrodes.tsv'...\n",
      "Writing '../data/bids/sub-3/eeg/sub-3_coordsystem.json'...\n",
      "Used Annotations descriptions: ['100', '150', '200', '250', '50']\n",
      "Writing '../data/bids/sub-3/eeg/sub-3_task-pitch_run-2_events.tsv'...\n",
      "Writing '../data/bids/dataset_description.json'...\n",
      "Writing '../data/bids/sub-3/eeg/sub-3_task-pitch_run-2_eeg.json'...\n",
      "Writing '../data/bids/sub-3/eeg/sub-3_task-pitch_run-2_channels.tsv'...\n",
      "Copying data files to sub-3_task-pitch_run-2_eeg.vhdr\n"
     ]
    },
    {
     "name": "stderr",
     "output_type": "stream",
     "text": [
      "/var/folders/hv/vj9_d69170l26hyj9hqqj45h0000gn/T/ipykernel_15582/794450067.py:49: RuntimeWarning: Converting data files to BrainVision format\n",
      "  write_raw_bids(\n",
      "/Users/nusbaumlab/opt/anaconda3/envs/pitch-tracking/lib/python3.10/site-packages/mne/utils/check.py:92: DeprecationWarning: distutils Version classes are deprecated. Use packaging.version instead.\n",
      "  LooseVersion(library.__version__) < LooseVersion(min_version):\n",
      "/Users/nusbaumlab/opt/anaconda3/envs/pitch-tracking/lib/python3.10/site-packages/mne/utils/check.py:92: DeprecationWarning: distutils Version classes are deprecated. Use packaging.version instead.\n",
      "  LooseVersion(library.__version__) < LooseVersion(min_version):\n",
      "/Users/nusbaumlab/opt/anaconda3/envs/pitch-tracking/lib/python3.10/site-packages/pybv/io.py:394: UserWarning: Encountered unsupported non-voltage units: n/a\n",
      "Note that the BrainVision format specification supports only µV.\n",
      "  warn(msg)\n"
     ]
    },
    {
     "name": "stdout",
     "output_type": "stream",
     "text": [
      "Writing '../data/bids/sub-3/sub-3_scans.tsv'...\n",
      "Wrote ../data/bids/sub-3/sub-3_scans.tsv entry with eeg/sub-3_task-pitch_run-2_eeg.vhdr.\n",
      "../data/raw/letty_subj_6.vhdr\n",
      "Extracting parameters from ../data/raw/letty_subj_6.vhdr...\n",
      "Setting channel info structure...\n",
      "Reading 0 ... 9212749  =      0.000 ...  1842.550 secs...\n"
     ]
    },
    {
     "name": "stderr",
     "output_type": "stream",
     "text": [
      "/var/folders/hv/vj9_d69170l26hyj9hqqj45h0000gn/T/ipykernel_15582/794450067.py:11: RuntimeWarning: The unit for channel(s) Aux1 has changed from V to NA.\n",
      "  raw.set_channel_types({'Aux1': 'stim'})\n"
     ]
    },
    {
     "name": "stdout",
     "output_type": "stream",
     "text": [
      "Location for this channel is unknown; consider calling set_montage() again if needed.\n",
      "Used Annotations descriptions: ['New Segment/', 'Stimulus/S  1', 'Stimulus/S  2', 'Stimulus/S  3', 'Stimulus/S  4', 'Stimulus/S  5']\n"
     ]
    },
    {
     "name": "stderr",
     "output_type": "stream",
     "text": [
      "/var/folders/hv/vj9_d69170l26hyj9hqqj45h0000gn/T/ipykernel_15582/794450067.py:23: RuntimeWarning: DigMontage is only a subset of info. There are 2 channel positions not present in the DigMontage. The required channels are:\n",
      "\n",
      "['leog', 'reog'].\n",
      "\n",
      "Consider using inst.set_channel_types if these are not EEG channels, or use the on_missing parameter if the channel positions are allowed to be unknown in your analyses.\n",
      "  raw.set_montage(dig, on_missing = 'warn')\n"
     ]
    },
    {
     "name": "stdout",
     "output_type": "stream",
     "text": [
      "Writing '../data/bids/participants.tsv'...\n",
      "Writing '../data/bids/participants.json'...\n",
      "Writing electrodes file to... ../data/bids/sub-6/eeg/sub-6_electrodes.tsv\n",
      "Writing coordsytem file to... ../data/bids/sub-6/eeg/sub-6_coordsystem.json\n",
      "Writing '../data/bids/sub-6/eeg/sub-6_electrodes.tsv'...\n",
      "Writing '../data/bids/sub-6/eeg/sub-6_coordsystem.json'...\n",
      "Used Annotations descriptions: ['100', '150', '200', '250', '50']\n",
      "Writing '../data/bids/sub-6/eeg/sub-6_task-pitch_run-1_events.tsv'...\n",
      "Writing '../data/bids/dataset_description.json'...\n",
      "Writing '../data/bids/sub-6/eeg/sub-6_task-pitch_run-1_eeg.json'...\n",
      "Writing '../data/bids/sub-6/eeg/sub-6_task-pitch_run-1_channels.tsv'...\n",
      "Copying data files to sub-6_task-pitch_run-1_eeg.vhdr\n"
     ]
    },
    {
     "name": "stderr",
     "output_type": "stream",
     "text": [
      "/var/folders/hv/vj9_d69170l26hyj9hqqj45h0000gn/T/ipykernel_15582/794450067.py:49: RuntimeWarning: Converting data files to BrainVision format\n",
      "  write_raw_bids(\n",
      "/Users/nusbaumlab/opt/anaconda3/envs/pitch-tracking/lib/python3.10/site-packages/mne/utils/check.py:92: DeprecationWarning: distutils Version classes are deprecated. Use packaging.version instead.\n",
      "  LooseVersion(library.__version__) < LooseVersion(min_version):\n",
      "/Users/nusbaumlab/opt/anaconda3/envs/pitch-tracking/lib/python3.10/site-packages/mne/utils/check.py:92: DeprecationWarning: distutils Version classes are deprecated. Use packaging.version instead.\n",
      "  LooseVersion(library.__version__) < LooseVersion(min_version):\n"
     ]
    },
    {
     "name": "stdout",
     "output_type": "stream",
     "text": [
      "Writing '../data/bids/sub-6/sub-6_scans.tsv'...\n",
      "Wrote ../data/bids/sub-6/sub-6_scans.tsv entry with eeg/sub-6_task-pitch_run-1_eeg.vhdr.\n",
      "../data/raw/letty_subj_4_2.vhdr\n",
      "Extracting parameters from ../data/raw/letty_subj_4_2.vhdr...\n",
      "Setting channel info structure...\n",
      "Reading 0 ... 4596749  =      0.000 ...   919.350 secs...\n"
     ]
    },
    {
     "name": "stderr",
     "output_type": "stream",
     "text": [
      "/var/folders/hv/vj9_d69170l26hyj9hqqj45h0000gn/T/ipykernel_15582/794450067.py:11: RuntimeWarning: The unit for channel(s) Aux1 has changed from V to NA.\n",
      "  raw.set_channel_types({'Aux1': 'stim'})\n"
     ]
    },
    {
     "name": "stdout",
     "output_type": "stream",
     "text": [
      "Location for this channel is unknown; consider calling set_montage() again if needed.\n",
      "Used Annotations descriptions: ['New Segment/', 'Stimulus/S  1', 'Stimulus/S  2', 'Stimulus/S  3', 'Stimulus/S  4', 'Stimulus/S  5']\n"
     ]
    },
    {
     "name": "stderr",
     "output_type": "stream",
     "text": [
      "/var/folders/hv/vj9_d69170l26hyj9hqqj45h0000gn/T/ipykernel_15582/794450067.py:23: RuntimeWarning: DigMontage is only a subset of info. There are 3 channel positions not present in the DigMontage. The required channels are:\n",
      "\n",
      "['leog', 'reog', 'Ch64'].\n",
      "\n",
      "Consider using inst.set_channel_types if these are not EEG channels, or use the on_missing parameter if the channel positions are allowed to be unknown in your analyses.\n",
      "  raw.set_montage(dig, on_missing = 'warn')\n"
     ]
    },
    {
     "name": "stdout",
     "output_type": "stream",
     "text": [
      "Writing '../data/bids/participants.tsv'...\n",
      "Writing '../data/bids/participants.json'...\n",
      "Writing electrodes file to... ../data/bids/sub-4/eeg/sub-4_electrodes.tsv\n",
      "Writing coordsytem file to... ../data/bids/sub-4/eeg/sub-4_coordsystem.json\n",
      "Writing '../data/bids/sub-4/eeg/sub-4_electrodes.tsv'...\n",
      "Writing '../data/bids/sub-4/eeg/sub-4_coordsystem.json'...\n",
      "Used Annotations descriptions: ['100', '150', '200', '250', '50']\n",
      "Writing '../data/bids/sub-4/eeg/sub-4_task-pitch_run-2_events.tsv'...\n",
      "Writing '../data/bids/dataset_description.json'...\n",
      "Writing '../data/bids/sub-4/eeg/sub-4_task-pitch_run-2_eeg.json'...\n",
      "Writing '../data/bids/sub-4/eeg/sub-4_task-pitch_run-2_channels.tsv'...\n",
      "Copying data files to sub-4_task-pitch_run-2_eeg.vhdr\n"
     ]
    },
    {
     "name": "stderr",
     "output_type": "stream",
     "text": [
      "/var/folders/hv/vj9_d69170l26hyj9hqqj45h0000gn/T/ipykernel_15582/794450067.py:49: RuntimeWarning: Converting data files to BrainVision format\n",
      "  write_raw_bids(\n",
      "/Users/nusbaumlab/opt/anaconda3/envs/pitch-tracking/lib/python3.10/site-packages/mne/utils/check.py:92: DeprecationWarning: distutils Version classes are deprecated. Use packaging.version instead.\n",
      "  LooseVersion(library.__version__) < LooseVersion(min_version):\n",
      "/Users/nusbaumlab/opt/anaconda3/envs/pitch-tracking/lib/python3.10/site-packages/mne/utils/check.py:92: DeprecationWarning: distutils Version classes are deprecated. Use packaging.version instead.\n",
      "  LooseVersion(library.__version__) < LooseVersion(min_version):\n"
     ]
    },
    {
     "name": "stdout",
     "output_type": "stream",
     "text": [
      "Writing '../data/bids/sub-4/sub-4_scans.tsv'...\n",
      "Wrote ../data/bids/sub-4/sub-4_scans.tsv entry with eeg/sub-4_task-pitch_run-2_eeg.vhdr.\n",
      "../data/raw/letty_subj_4.vhdr\n",
      "Extracting parameters from ../data/raw/letty_subj_4.vhdr...\n",
      "Setting channel info structure...\n",
      "Reading 0 ... 5046249  =      0.000 ...  1009.250 secs...\n"
     ]
    },
    {
     "name": "stderr",
     "output_type": "stream",
     "text": [
      "/var/folders/hv/vj9_d69170l26hyj9hqqj45h0000gn/T/ipykernel_15582/794450067.py:11: RuntimeWarning: The unit for channel(s) Aux1 has changed from V to NA.\n",
      "  raw.set_channel_types({'Aux1': 'stim'})\n"
     ]
    },
    {
     "name": "stdout",
     "output_type": "stream",
     "text": [
      "Location for this channel is unknown; consider calling set_montage() again if needed.\n",
      "Used Annotations descriptions: ['New Segment/', 'Stimulus/S  1', 'Stimulus/S  2', 'Stimulus/S  3', 'Stimulus/S  4', 'Stimulus/S  5']\n"
     ]
    },
    {
     "name": "stderr",
     "output_type": "stream",
     "text": [
      "/var/folders/hv/vj9_d69170l26hyj9hqqj45h0000gn/T/ipykernel_15582/794450067.py:23: RuntimeWarning: DigMontage is only a subset of info. There are 3 channel positions not present in the DigMontage. The required channels are:\n",
      "\n",
      "['leog', 'reog', 'Ch64'].\n",
      "\n",
      "Consider using inst.set_channel_types if these are not EEG channels, or use the on_missing parameter if the channel positions are allowed to be unknown in your analyses.\n",
      "  raw.set_montage(dig, on_missing = 'warn')\n"
     ]
    },
    {
     "name": "stdout",
     "output_type": "stream",
     "text": [
      "Writing '../data/bids/participants.tsv'...\n",
      "Writing '../data/bids/participants.json'...\n",
      "Writing electrodes file to... ../data/bids/sub-4/eeg/sub-4_electrodes.tsv\n",
      "Writing coordsytem file to... ../data/bids/sub-4/eeg/sub-4_coordsystem.json\n",
      "Writing '../data/bids/sub-4/eeg/sub-4_electrodes.tsv'...\n",
      "Writing '../data/bids/sub-4/eeg/sub-4_coordsystem.json'...\n",
      "Used Annotations descriptions: ['100', '150', '200', '250', '50']\n",
      "Writing '../data/bids/sub-4/eeg/sub-4_task-pitch_run-1_events.tsv'...\n",
      "Writing '../data/bids/dataset_description.json'...\n",
      "Writing '../data/bids/sub-4/eeg/sub-4_task-pitch_run-1_eeg.json'...\n",
      "Writing '../data/bids/sub-4/eeg/sub-4_task-pitch_run-1_channels.tsv'...\n",
      "Copying data files to sub-4_task-pitch_run-1_eeg.vhdr\n"
     ]
    },
    {
     "name": "stderr",
     "output_type": "stream",
     "text": [
      "/var/folders/hv/vj9_d69170l26hyj9hqqj45h0000gn/T/ipykernel_15582/794450067.py:49: RuntimeWarning: Converting data files to BrainVision format\n",
      "  write_raw_bids(\n",
      "/Users/nusbaumlab/opt/anaconda3/envs/pitch-tracking/lib/python3.10/site-packages/mne/utils/check.py:92: DeprecationWarning: distutils Version classes are deprecated. Use packaging.version instead.\n",
      "  LooseVersion(library.__version__) < LooseVersion(min_version):\n",
      "/Users/nusbaumlab/opt/anaconda3/envs/pitch-tracking/lib/python3.10/site-packages/mne/utils/check.py:92: DeprecationWarning: distutils Version classes are deprecated. Use packaging.version instead.\n",
      "  LooseVersion(library.__version__) < LooseVersion(min_version):\n"
     ]
    },
    {
     "name": "stdout",
     "output_type": "stream",
     "text": [
      "Writing '../data/bids/sub-4/sub-4_scans.tsv'...\n",
      "Wrote ../data/bids/sub-4/sub-4_scans.tsv entry with eeg/sub-4_task-pitch_run-1_eeg.vhdr.\n",
      "../data/raw/letty_subj_5.vhdr\n",
      "Extracting parameters from ../data/raw/letty_subj_5.vhdr...\n",
      "Setting channel info structure...\n",
      "Reading 0 ... 9320749  =      0.000 ...  1864.150 secs...\n"
     ]
    },
    {
     "name": "stderr",
     "output_type": "stream",
     "text": [
      "/var/folders/hv/vj9_d69170l26hyj9hqqj45h0000gn/T/ipykernel_15582/794450067.py:11: RuntimeWarning: The unit for channel(s) Aux1 has changed from V to NA.\n",
      "  raw.set_channel_types({'Aux1': 'stim'})\n"
     ]
    },
    {
     "name": "stdout",
     "output_type": "stream",
     "text": [
      "Location for this channel is unknown; consider calling set_montage() again if needed.\n",
      "Used Annotations descriptions: ['New Segment/', 'Stimulus/S  1', 'Stimulus/S  2', 'Stimulus/S  3', 'Stimulus/S  4', 'Stimulus/S  5']\n"
     ]
    },
    {
     "name": "stderr",
     "output_type": "stream",
     "text": [
      "/var/folders/hv/vj9_d69170l26hyj9hqqj45h0000gn/T/ipykernel_15582/794450067.py:23: RuntimeWarning: DigMontage is only a subset of info. There are 2 channel positions not present in the DigMontage. The required channels are:\n",
      "\n",
      "['leog', 'reog'].\n",
      "\n",
      "Consider using inst.set_channel_types if these are not EEG channels, or use the on_missing parameter if the channel positions are allowed to be unknown in your analyses.\n",
      "  raw.set_montage(dig, on_missing = 'warn')\n"
     ]
    },
    {
     "name": "stdout",
     "output_type": "stream",
     "text": [
      "Writing '../data/bids/participants.tsv'...\n",
      "Writing '../data/bids/participants.json'...\n",
      "Writing electrodes file to... ../data/bids/sub-5/eeg/sub-5_electrodes.tsv\n",
      "Writing coordsytem file to... ../data/bids/sub-5/eeg/sub-5_coordsystem.json\n",
      "Writing '../data/bids/sub-5/eeg/sub-5_electrodes.tsv'...\n",
      "Writing '../data/bids/sub-5/eeg/sub-5_coordsystem.json'...\n",
      "Used Annotations descriptions: ['100', '150', '200', '250', '50']\n",
      "Writing '../data/bids/sub-5/eeg/sub-5_task-pitch_run-1_events.tsv'...\n",
      "Writing '../data/bids/dataset_description.json'...\n",
      "Writing '../data/bids/sub-5/eeg/sub-5_task-pitch_run-1_eeg.json'...\n",
      "Writing '../data/bids/sub-5/eeg/sub-5_task-pitch_run-1_channels.tsv'...\n",
      "Copying data files to sub-5_task-pitch_run-1_eeg.vhdr\n"
     ]
    },
    {
     "name": "stderr",
     "output_type": "stream",
     "text": [
      "/var/folders/hv/vj9_d69170l26hyj9hqqj45h0000gn/T/ipykernel_15582/794450067.py:49: RuntimeWarning: Converting data files to BrainVision format\n",
      "  write_raw_bids(\n",
      "/Users/nusbaumlab/opt/anaconda3/envs/pitch-tracking/lib/python3.10/site-packages/mne/utils/check.py:92: DeprecationWarning: distutils Version classes are deprecated. Use packaging.version instead.\n",
      "  LooseVersion(library.__version__) < LooseVersion(min_version):\n",
      "/Users/nusbaumlab/opt/anaconda3/envs/pitch-tracking/lib/python3.10/site-packages/mne/utils/check.py:92: DeprecationWarning: distutils Version classes are deprecated. Use packaging.version instead.\n",
      "  LooseVersion(library.__version__) < LooseVersion(min_version):\n"
     ]
    },
    {
     "name": "stdout",
     "output_type": "stream",
     "text": [
      "Writing '../data/bids/sub-5/sub-5_scans.tsv'...\n",
      "Wrote ../data/bids/sub-5/sub-5_scans.tsv entry with eeg/sub-5_task-pitch_run-1_eeg.vhdr.\n",
      "../data/raw/letty_subj_2.vhdr\n",
      "Extracting parameters from ../data/raw/letty_subj_2.vhdr...\n",
      "Setting channel info structure...\n",
      "Reading 0 ... 21218499  =      0.000 ...  2121.850 secs...\n"
     ]
    },
    {
     "name": "stderr",
     "output_type": "stream",
     "text": [
      "/var/folders/hv/vj9_d69170l26hyj9hqqj45h0000gn/T/ipykernel_15582/794450067.py:11: RuntimeWarning: The unit for channel(s) Aux1 has changed from V to NA.\n",
      "  raw.set_channel_types({'Aux1': 'stim'})\n"
     ]
    },
    {
     "name": "stdout",
     "output_type": "stream",
     "text": [
      "Location for this channel is unknown; consider calling set_montage() again if needed.\n",
      "Used Annotations descriptions: ['New Segment/', 'Stimulus/S  1', 'Stimulus/S  2', 'Stimulus/S  3', 'Stimulus/S  4', 'Stimulus/S  5']\n"
     ]
    },
    {
     "name": "stderr",
     "output_type": "stream",
     "text": [
      "/var/folders/hv/vj9_d69170l26hyj9hqqj45h0000gn/T/ipykernel_15582/794450067.py:23: RuntimeWarning: DigMontage is only a subset of info. There are 2 channel positions not present in the DigMontage. The required channels are:\n",
      "\n",
      "['leog', 'reog'].\n",
      "\n",
      "Consider using inst.set_channel_types if these are not EEG channels, or use the on_missing parameter if the channel positions are allowed to be unknown in your analyses.\n",
      "  raw.set_montage(dig, on_missing = 'warn')\n"
     ]
    },
    {
     "name": "stdout",
     "output_type": "stream",
     "text": [
      "Writing '../data/bids/participants.tsv'...\n",
      "Writing '../data/bids/participants.json'...\n",
      "Writing electrodes file to... ../data/bids/sub-2/eeg/sub-2_electrodes.tsv\n",
      "Writing coordsytem file to... ../data/bids/sub-2/eeg/sub-2_coordsystem.json\n",
      "Writing '../data/bids/sub-2/eeg/sub-2_electrodes.tsv'...\n",
      "Writing '../data/bids/sub-2/eeg/sub-2_coordsystem.json'...\n",
      "Used Annotations descriptions: ['100', '150', '200', '250', '50']\n",
      "Writing '../data/bids/sub-2/eeg/sub-2_task-pitch_run-1_events.tsv'...\n",
      "Writing '../data/bids/dataset_description.json'...\n",
      "Writing '../data/bids/sub-2/eeg/sub-2_task-pitch_run-1_eeg.json'...\n",
      "Writing '../data/bids/sub-2/eeg/sub-2_task-pitch_run-1_channels.tsv'...\n",
      "Copying data files to sub-2_task-pitch_run-1_eeg.vhdr\n"
     ]
    },
    {
     "name": "stderr",
     "output_type": "stream",
     "text": [
      "/var/folders/hv/vj9_d69170l26hyj9hqqj45h0000gn/T/ipykernel_15582/794450067.py:49: RuntimeWarning: Converting data files to BrainVision format\n",
      "  write_raw_bids(\n",
      "/Users/nusbaumlab/opt/anaconda3/envs/pitch-tracking/lib/python3.10/site-packages/mne/utils/check.py:92: DeprecationWarning: distutils Version classes are deprecated. Use packaging.version instead.\n",
      "  LooseVersion(library.__version__) < LooseVersion(min_version):\n",
      "/Users/nusbaumlab/opt/anaconda3/envs/pitch-tracking/lib/python3.10/site-packages/mne/utils/check.py:92: DeprecationWarning: distutils Version classes are deprecated. Use packaging.version instead.\n",
      "  LooseVersion(library.__version__) < LooseVersion(min_version):\n"
     ]
    },
    {
     "name": "stdout",
     "output_type": "stream",
     "text": [
      "Writing '../data/bids/sub-2/sub-2_scans.tsv'...\n",
      "Wrote ../data/bids/sub-2/sub-2_scans.tsv entry with eeg/sub-2_task-pitch_run-1_eeg.vhdr.\n",
      "../data/raw/letty_subj_3.vhdr\n",
      "Extracting parameters from ../data/raw/letty_subj_3.vhdr...\n",
      "Setting channel info structure...\n",
      "Reading 0 ... 5026249  =      0.000 ...  1005.250 secs...\n"
     ]
    },
    {
     "name": "stderr",
     "output_type": "stream",
     "text": [
      "/var/folders/hv/vj9_d69170l26hyj9hqqj45h0000gn/T/ipykernel_15582/794450067.py:11: RuntimeWarning: The unit for channel(s) Aux1 has changed from V to NA.\n",
      "  raw.set_channel_types({'Aux1': 'stim'})\n"
     ]
    },
    {
     "name": "stdout",
     "output_type": "stream",
     "text": [
      "Location for this channel is unknown; consider calling set_montage() again if needed.\n",
      "Used Annotations descriptions: ['New Segment/', 'Stimulus/S  1', 'Stimulus/S  2', 'Stimulus/S  3', 'Stimulus/S  4', 'Stimulus/S  5']\n"
     ]
    },
    {
     "name": "stderr",
     "output_type": "stream",
     "text": [
      "/var/folders/hv/vj9_d69170l26hyj9hqqj45h0000gn/T/ipykernel_15582/794450067.py:23: RuntimeWarning: DigMontage is only a subset of info. There are 2 channel positions not present in the DigMontage. The required channels are:\n",
      "\n",
      "['leog', 'reog'].\n",
      "\n",
      "Consider using inst.set_channel_types if these are not EEG channels, or use the on_missing parameter if the channel positions are allowed to be unknown in your analyses.\n",
      "  raw.set_montage(dig, on_missing = 'warn')\n"
     ]
    },
    {
     "name": "stdout",
     "output_type": "stream",
     "text": [
      "Writing '../data/bids/participants.tsv'...\n",
      "Writing '../data/bids/participants.json'...\n",
      "Writing electrodes file to... ../data/bids/sub-3/eeg/sub-3_electrodes.tsv\n",
      "Writing coordsytem file to... ../data/bids/sub-3/eeg/sub-3_coordsystem.json\n",
      "Writing '../data/bids/sub-3/eeg/sub-3_electrodes.tsv'...\n",
      "Writing '../data/bids/sub-3/eeg/sub-3_coordsystem.json'...\n",
      "Used Annotations descriptions: ['100', '150', '200', '250', '50']\n",
      "Writing '../data/bids/sub-3/eeg/sub-3_task-pitch_run-1_events.tsv'...\n",
      "Writing '../data/bids/dataset_description.json'...\n",
      "Writing '../data/bids/sub-3/eeg/sub-3_task-pitch_run-1_eeg.json'...\n",
      "Writing '../data/bids/sub-3/eeg/sub-3_task-pitch_run-1_channels.tsv'...\n",
      "Copying data files to sub-3_task-pitch_run-1_eeg.vhdr\n"
     ]
    },
    {
     "name": "stderr",
     "output_type": "stream",
     "text": [
      "/var/folders/hv/vj9_d69170l26hyj9hqqj45h0000gn/T/ipykernel_15582/794450067.py:49: RuntimeWarning: Converting data files to BrainVision format\n",
      "  write_raw_bids(\n",
      "/Users/nusbaumlab/opt/anaconda3/envs/pitch-tracking/lib/python3.10/site-packages/mne/utils/check.py:92: DeprecationWarning: distutils Version classes are deprecated. Use packaging.version instead.\n",
      "  LooseVersion(library.__version__) < LooseVersion(min_version):\n",
      "/Users/nusbaumlab/opt/anaconda3/envs/pitch-tracking/lib/python3.10/site-packages/mne/utils/check.py:92: DeprecationWarning: distutils Version classes are deprecated. Use packaging.version instead.\n",
      "  LooseVersion(library.__version__) < LooseVersion(min_version):\n"
     ]
    },
    {
     "name": "stdout",
     "output_type": "stream",
     "text": [
      "Writing '../data/bids/sub-3/sub-3_scans.tsv'...\n",
      "Wrote ../data/bids/sub-3/sub-3_scans.tsv entry with eeg/sub-3_task-pitch_run-1_eeg.vhdr.\n"
     ]
    }
   ],
   "source": [
    "for i in range(len(fnames)):\n",
    "    sub = subs[i]\n",
    "    task = tasks[i]\n",
    "    run = runs[i]\n",
    "    fpath = os.path.join(DATA_DIR, fnames[i])\n",
    "    print(fpath)\n",
    "\n",
    "    # load data with MNE function for your file format\n",
    "    raw = mne.io.read_raw_brainvision(fpath)\n",
    "    raw.load_data()\n",
    "    raw.set_channel_types({'Aux1': 'stim'})\n",
    "\n",
    "    # add some info BIDS will want\n",
    "    raw.info['line_freq'] = 60 # the power line frequency in the building we collected in\n",
    "\n",
    "    # map channel numbers to channel names\n",
    "    mapping = get_mapping(sub, special_mappings)\n",
    "    raw.rename_channels(mapping)\n",
    "    raw.add_reference_channels(ref_channels = ['Cz'])\n",
    "\n",
    "    # map channels to their coordinates\n",
    "    dig = mne.channels.read_dig_captrak(MAPS_DIR + 'subj_' + sub + '.bvct')\n",
    "    raw.set_montage(dig, on_missing = 'warn')\n",
    "\n",
    "    # # drop meaningless event name\n",
    "    events, event_ids = mne.events_from_annotations(raw)\n",
    "    events = events[events[:,2] != event_ids['New Segment/'], :]\n",
    "\n",
    "    # # rename events to their stimulus pitch\n",
    "    event_codes = events[:,2]\n",
    "    baseline_code = np.argmax(np.bincount(event_codes)) # the one with more trials\n",
    "    event_names = {1: '50', 2: '100', 3: '150', 4: '200', 5: '250'}\n",
    "    annot = mne.annotations_from_events(events, sfreq = raw.info['sfreq'], event_desc = event_names)\n",
    "    raw.set_annotations(annot)\n",
    "\n",
    "    # build appropriate BIDS directory structure \n",
    "    bids_path = BIDSPath(\n",
    "        run = run,\n",
    "        subject = sub, \n",
    "        task = task, \n",
    "        datatype = 'eeg', \n",
    "        root = BIDS_DIR\n",
    "    )\n",
    "\n",
    "    # get range of dates the BIDS specification will accept\n",
    "    daysback_min, daysback_max = get_anonymization_daysback(raw)\n",
    "\n",
    "    # write data into BIDS directory, while anonymizing\n",
    "    write_raw_bids(\n",
    "        raw, \n",
    "        bids_path = bids_path, \n",
    "        allow_preload = True, # whether to load full dataset into memory when copying\n",
    "        format = 'BrainVision', # format to save to\n",
    "        anonymize = dict(daysback = daysback_min), # shift dates by daysback\n",
    "        overwrite = True,\n",
    "    )"
   ]
  },
  {
   "cell_type": "markdown",
   "id": "4af13cff",
   "metadata": {},
   "source": [
    "#### Check output files"
   ]
  },
  {
   "cell_type": "code",
   "execution_count": 6,
   "id": "8cb28910",
   "metadata": {},
   "outputs": [
    {
     "name": "stdout",
     "output_type": "stream",
     "text": [
      "|/\n",
      "|--- .DS_Store\n",
      "|--- README\n",
      "|--- dataset_description.json\n",
      "|--- participants.json\n",
      "|--- participants.tsv\n",
      "|derivatives/\n",
      "|--- .DS_Store\n",
      "|--- preprocessing/\n",
      "|------ .DS_Store\n",
      "|------ dataset_description.json\n",
      "|------ sub-1.html\n",
      "|------ sub-1/\n",
      "|--------- sub-1_task-pitches_desc-clean_epo.fif.gz\n",
      "|sub-1/\n",
      "|--- eeg/\n",
      "|sub-2/\n",
      "|--- .DS_Store\n",
      "|--- sub-2_scans.tsv\n",
      "|--- eeg/\n",
      "|------ sub-2_coordsystem.json\n",
      "|------ sub-2_electrodes.tsv\n",
      "|------ sub-2_task-pitch_run-1_channels.tsv\n",
      "|------ sub-2_task-pitch_run-1_eeg.eeg\n",
      "|------ sub-2_task-pitch_run-1_eeg.json\n",
      "|------ sub-2_task-pitch_run-1_eeg.vhdr\n",
      "|------ sub-2_task-pitch_run-1_eeg.vmrk\n",
      "|------ sub-2_task-pitch_run-1_events.tsv\n",
      "|sub-3/\n",
      "|--- .DS_Store\n",
      "|--- sub-3_scans.tsv\n",
      "|--- eeg/\n",
      "|------ .DS_Store\n",
      "|------ sub-3_coordsystem.json\n",
      "|------ sub-3_electrodes.tsv\n",
      "|------ sub-3_task-pitch_run-1_channels.tsv\n",
      "|------ sub-3_task-pitch_run-1_eeg.eeg\n",
      "|------ sub-3_task-pitch_run-1_eeg.json\n",
      "|------ sub-3_task-pitch_run-1_eeg.vhdr\n",
      "|------ sub-3_task-pitch_run-1_eeg.vmrk\n",
      "|------ sub-3_task-pitch_run-1_events.tsv\n",
      "|------ sub-3_task-pitch_run-2_channels.tsv\n",
      "|------ sub-3_task-pitch_run-2_eeg.eeg\n",
      "|------ sub-3_task-pitch_run-2_eeg.json\n",
      "|------ sub-3_task-pitch_run-2_eeg.vhdr\n",
      "|------ sub-3_task-pitch_run-2_eeg.vmrk\n",
      "|------ sub-3_task-pitch_run-2_events.tsv\n",
      "|sub-4/\n",
      "|--- .DS_Store\n",
      "|--- sub-4_scans.tsv\n",
      "|--- eeg/\n",
      "|------ .DS_Store\n",
      "|------ sub-4_coordsystem.json\n",
      "|------ sub-4_electrodes.tsv\n",
      "|------ sub-4_task-pitch_run-1_channels.tsv\n",
      "|------ sub-4_task-pitch_run-1_eeg.eeg\n",
      "|------ sub-4_task-pitch_run-1_eeg.json\n",
      "|------ sub-4_task-pitch_run-1_eeg.vhdr\n",
      "|------ sub-4_task-pitch_run-1_eeg.vmrk\n",
      "|------ sub-4_task-pitch_run-1_events.tsv\n",
      "|------ sub-4_task-pitch_run-2_channels.tsv\n",
      "|------ sub-4_task-pitch_run-2_eeg.eeg\n",
      "|------ sub-4_task-pitch_run-2_eeg.json\n",
      "|------ sub-4_task-pitch_run-2_eeg.vhdr\n",
      "|------ sub-4_task-pitch_run-2_eeg.vmrk\n",
      "|------ sub-4_task-pitch_run-2_events.tsv\n",
      "|sub-5/\n",
      "|--- .DS_Store\n",
      "|--- sub-5_scans.tsv\n",
      "|--- eeg/\n",
      "|------ sub-5_coordsystem.json\n",
      "|------ sub-5_electrodes.tsv\n",
      "|------ sub-5_task-pitch_run-1_channels.tsv\n",
      "|------ sub-5_task-pitch_run-1_eeg.eeg\n",
      "|------ sub-5_task-pitch_run-1_eeg.json\n",
      "|------ sub-5_task-pitch_run-1_eeg.vhdr\n",
      "|------ sub-5_task-pitch_run-1_eeg.vmrk\n",
      "|------ sub-5_task-pitch_run-1_events.tsv\n",
      "|sub-6/\n",
      "|--- .DS_Store\n",
      "|--- sub-6_scans.tsv\n",
      "|--- eeg/\n",
      "|------ .DS_Store\n",
      "|------ sub-6_coordsystem.json\n",
      "|------ sub-6_electrodes.tsv\n",
      "|------ sub-6_task-pitch_run-1_channels.tsv\n",
      "|------ sub-6_task-pitch_run-1_eeg.eeg\n",
      "|------ sub-6_task-pitch_run-1_eeg.json\n",
      "|------ sub-6_task-pitch_run-1_eeg.vhdr\n",
      "|------ sub-6_task-pitch_run-1_eeg.vmrk\n",
      "|------ sub-6_task-pitch_run-1_events.tsv\n"
     ]
    }
   ],
   "source": [
    "from mne_bids import print_dir_tree\n",
    "print_dir_tree(BIDS_DIR)"
   ]
  }
 ],
 "metadata": {
  "kernelspec": {
   "display_name": "Python 3 (ipykernel)",
   "language": "python",
   "name": "python3"
  },
  "language_info": {
   "codemirror_mode": {
    "name": "ipython",
    "version": 3
   },
   "file_extension": ".py",
   "mimetype": "text/x-python",
   "name": "python",
   "nbconvert_exporter": "python",
   "pygments_lexer": "ipython3",
   "version": "3.10.2"
  }
 },
 "nbformat": 4,
 "nbformat_minor": 5
}
