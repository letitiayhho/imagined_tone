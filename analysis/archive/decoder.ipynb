{
 "cells": [
  {
   "cell_type": "code",
   "execution_count": 1,
   "id": "e2a7e65e",
   "metadata": {},
   "outputs": [],
   "source": [
    "import os\n",
    "import os.path as op\n",
    "import mne\n",
    "import numpy as np\n",
    "import re\n",
    "import itertools\n",
    "import pandas as pd\n",
    "\n",
    "import matplotlib.pyplot as plt\n",
    "from typing import Tuple, Iterator\n",
    "from mne_bids import BIDSPath, read_raw_bids, print_dir_tree\n",
    "from mne.time_frequency import tfr_morlet\n",
    "from bids import BIDSLayout\n",
    "\n",
    "from sklearn.pipeline import make_pipeline\n",
    "from sklearn import preprocessing\n",
    "from sklearn.preprocessing import StandardScaler\n",
    "from sklearn.linear_model import LogisticRegression\n",
    "from mne.decoding import SlidingEstimator, cross_val_multiscore"
   ]
  },
  {
   "cell_type": "code",
   "execution_count": 2,
   "id": "65ccf1dc",
   "metadata": {},
   "outputs": [],
   "source": [
    "BIDS_ROOT = '../data/bids'\n",
    "FIGS_ROOT = '../figs'\n",
    "STIM_FREQS = np.array([50, 100, 150, 200, 250])\n",
    "FS = 2000"
   ]
  },
  {
   "cell_type": "markdown",
   "id": "f74f47b4",
   "metadata": {},
   "source": [
    "## Functions"
   ]
  },
  {
   "cell_type": "code",
   "execution_count": 3,
   "id": "1d777c73",
   "metadata": {},
   "outputs": [],
   "source": [
    "KeyType = Tuple[str, str, str, str]\n",
    "\n",
    "def get_fpaths(bids_root) -> Iterator[KeyType]:\n",
    "    # Get filepaths\n",
    "    layout = BIDSLayout(bids_root, derivatives = True)\n",
    "    fpaths = layout.get(scope = 'preprocessing',\n",
    "                        extension = 'fif.gz',\n",
    "                        return_type = 'filename')\n",
    "    fpaths.pop(0)\n",
    "    fpaths.pop(0) # CHANGE BACK\n",
    "    \n",
    "    # Get corresponding subject number\n",
    "    filter_subs = re.compile('sub-(\\d)_')\n",
    "    subs = list(map(filter_subs.findall, fpaths))\n",
    "    subs = list(itertools.chain(*subs))\n",
    "    \n",
    "    # Get corresponding run number\n",
    "    filter_runs = re.compile('run-(\\d)')\n",
    "    runs = list(map(filter_runs.findall, fpaths))\n",
    "    runs = list(itertools.chain(*runs))\n",
    "    \n",
    "    for i in range(len(fpaths)):\n",
    "        key = (fpaths[i], subs[i], 'tasks', runs[i])\n",
    "        yield key\n",
    "\n",
    "def load_fif(fname):\n",
    "    epochs = mne.read_epochs(fname)\n",
    "    return epochs\n",
    "\n",
    "def get_power_at_stim_freqs(epochs, stim_freqs):\n",
    "    n_cycles = stim_freqs / 7.  # different number of cycle per frequency\n",
    "    power = tfr_morlet(epochs, \n",
    "                       freqs = stim_freqs, \n",
    "                       n_cycles = n_cycles, \n",
    "                       use_fft = True,\n",
    "                       return_itc = False, \n",
    "                       decim = 3, \n",
    "                       n_jobs = 1,\n",
    "                       average = False)\n",
    "\n",
    "    return power"
   ]
  },
  {
   "cell_type": "markdown",
   "id": "0f9f603a",
   "metadata": {},
   "source": [
    "## Compute power"
   ]
  },
  {
   "cell_type": "code",
   "execution_count": 4,
   "id": "36fe7d39",
   "metadata": {},
   "outputs": [
    {
     "name": "stdout",
     "output_type": "stream",
     "text": [
      "Reading /Users/nusbaumlab/src/pitch_tracking/scripts/../data/bids/derivatives/preprocessing/sub-3/sub-3_task-pitch_run-1_desc-clean_epo.fif.gz ...\n"
     ]
    },
    {
     "name": "stderr",
     "output_type": "stream",
     "text": [
      "/Users/nusbaumlab/opt/anaconda3/envs/pitch-tracking/lib/python3.10/site-packages/bids/layout/validation.py:149: UserWarning: The PipelineDescription field was superseded by GeneratedBy in BIDS 1.4.0. You can use ``pybids upgrade`` to update your derivative dataset.\n",
      "  warnings.warn(\"The PipelineDescription field was superseded \"\n"
     ]
    },
    {
     "name": "stdout",
     "output_type": "stream",
     "text": [
      "    Found the data of interest:\n",
      "        t =    -200.00 ...     250.00 ms\n",
      "        0 CTF compensation matrices available\n",
      "Not setting metadata\n",
      "Not setting metadata\n",
      "2333 matching events found\n",
      "No baseline correction applied\n",
      "0 projection items activated\n"
     ]
    },
    {
     "name": "stderr",
     "output_type": "stream",
     "text": [
      "/var/folders/hv/vj9_d69170l26hyj9hqqj45h0000gn/T/ipykernel_49718/4121053786.py:7: RuntimeWarning: This filename (/Users/nusbaumlab/src/pitch_tracking/scripts/../data/bids/derivatives/preprocessing/sub-3/sub-3_task-pitch_run-1_desc-clean_epo.fif.gz) does not conform to MNE naming conventions. All events files should end with .eve, -eve.fif, -eve.fif.gz, -eve.lst, -eve.txt, _eve.fif, _eve.fif.gz, _eve.lst, _eve.txt or -annot.fif\n",
      "  events = mne.read_events(fpath)\n"
     ]
    },
    {
     "name": "stdout",
     "output_type": "stream",
     "text": [
      "Not setting metadata\n"
     ]
    }
   ],
   "source": [
    "# powers = []\n",
    "# events = []\n",
    "for (fpath, sub, task, run) in get_fpaths(BIDS_ROOT):\n",
    "    epochs = load_fif(fpath)\n",
    "    epochs = epochs.crop(tmin = 0)\n",
    "#     events.append(mne.read_events(fpath)) #CHANGEBACK\n",
    "    events = mne.read_events(fpath)\n",
    "    power = get_power_at_stim_freqs(epochs, STIM_FREQS)\n",
    "    log_power = np.log10(power)\n",
    "#     powers.append(log_power) #CHANGEBACK\n",
    "    break"
   ]
  },
  {
   "cell_type": "markdown",
   "id": "05e53265",
   "metadata": {},
   "source": [
    "## Shape data for decoder"
   ]
  },
  {
   "cell_type": "code",
   "execution_count": 5,
   "id": "ffdbce84",
   "metadata": {},
   "outputs": [],
   "source": [
    "# Get some information\n",
    "power = log_power \n",
    "n_epochs = np.shape(power)[0]\n",
    "n_channels = np.shape(power)[1]\n",
    "n_freqs = np.shape(power)[2]\n",
    "n_windows = np.shape(power)[3]\n",
    "\n",
    "# Reshape for classifier\n",
    "X = power.reshape((n_epochs, n_freqs * n_channels, n_windows)) # Set order to preserve epoch order"
   ]
  },
  {
   "cell_type": "code",
   "execution_count": 8,
   "id": "092d0508",
   "metadata": {},
   "outputs": [],
   "source": [
    "# Create array of condition labels\n",
    "labels = pd.Series(events[:, 2])\n",
    "y = labels.replace({10001 : 0, 10002 : 1, 10003 : 2, 10004 : 3, 10005 : 4})\n",
    "# y = labels.to_numpy()"
   ]
  },
  {
   "cell_type": "code",
   "execution_count": 9,
   "id": "35e0129d",
   "metadata": {},
   "outputs": [],
   "source": [
    "# Transform y, use sklearn func to make sure its in the right format\n",
    "le = preprocessing.LabelEncoder()\n",
    "y = le.fit_transform(y)"
   ]
  },
  {
   "cell_type": "code",
   "execution_count": 10,
   "id": "974ac606",
   "metadata": {},
   "outputs": [
    {
     "data": {
      "text/plain": [
       "array([4, 1, 0, ..., 0, 4, 2])"
      ]
     },
     "execution_count": 10,
     "metadata": {},
     "output_type": "execute_result"
    }
   ],
   "source": [
    "y"
   ]
  },
  {
   "cell_type": "markdown",
   "id": "c000cf8e",
   "metadata": {},
   "source": [
    "## Decode"
   ]
  },
  {
   "cell_type": "code",
   "execution_count": 76,
   "id": "b77fe62f",
   "metadata": {},
   "outputs": [
    {
     "name": "stdout",
     "output_type": "stream",
     "text": [
      "Creating sliding estimator\n",
      "Applying cross-validation\n"
     ]
    },
    {
     "name": "stderr",
     "output_type": "stream",
     "text": [
      "[Parallel(n_jobs=4)]: Using backend LokyBackend with 4 concurrent workers.\n",
      "/Users/nusbaumlab/opt/anaconda3/envs/pitch-tracking/lib/python3.10/site-packages/mne/externals/tqdm/__init__.py:5: DeprecationWarning: distutils Version classes are deprecated. Use packaging.version instead.\n",
      "  if LooseVersion(__version__) < LooseVersion('4.36'):\n",
      "/Users/nusbaumlab/opt/anaconda3/envs/pitch-tracking/lib/python3.10/site-packages/mne/externals/tqdm/__init__.py:5: DeprecationWarning: distutils Version classes are deprecated. Use packaging.version instead.\n",
      "  if LooseVersion(__version__) < LooseVersion('4.36'):\n",
      " 54%|█████▍    | Fitting SlidingEstimator : 91/167 [00:48<00:40,    1.87it/s]/Users/nusbaumlab/opt/anaconda3/envs/pitch-tracking/lib/python3.10/site-packages/mne/externals/tqdm/__init__.py:5: DeprecationWarning: distutils Version classes are deprecated. Use packaging.version instead.\n",
      "  if LooseVersion(__version__) < LooseVersion('4.36'):\n",
      "/Users/nusbaumlab/opt/anaconda3/envs/pitch-tracking/lib/python3.10/site-packages/mne/externals/tqdm/__init__.py:5: DeprecationWarning: distutils Version classes are deprecated. Use packaging.version instead.\n",
      "  if LooseVersion(__version__) < LooseVersion('4.36'):\n",
      "100%|██████████| Fitting SlidingEstimator : 167/167 [01:37<00:00,    1.71it/s]\n",
      " 51%|█████▏    | Fitting SlidingEstimator : 86/167 [00:54<00:49,    1.63it/s]/Users/nusbaumlab/opt/anaconda3/envs/pitch-tracking/lib/python3.10/site-packages/mne/externals/tqdm/__init__.py:5: DeprecationWarning: distutils Version classes are deprecated. Use packaging.version instead.\n",
      "  if LooseVersion(__version__) < LooseVersion('4.36'):\n",
      "/Users/nusbaumlab/opt/anaconda3/envs/pitch-tracking/lib/python3.10/site-packages/mne/externals/tqdm/__init__.py:5: DeprecationWarning: distutils Version classes are deprecated. Use packaging.version instead.\n",
      "  if LooseVersion(__version__) < LooseVersion('4.36'):\n",
      "100%|██████████| Fitting SlidingEstimator : 167/167 [01:46<00:00,    1.56it/s]\n",
      " 47%|████▋     | Fitting SlidingEstimator : 79/167 [00:52<00:57,    1.52it/s][Parallel(n_jobs=4)]: Done   2 out of   5 | elapsed:  2.8min remaining:  4.3min\n",
      " 55%|█████▌    | Fitting SlidingEstimator : 92/167 [00:59<00:45,    1.64it/s]/Users/nusbaumlab/opt/anaconda3/envs/pitch-tracking/lib/python3.10/site-packages/mne/externals/tqdm/__init__.py:5: DeprecationWarning: distutils Version classes are deprecated. Use packaging.version instead.\n",
      "  if LooseVersion(__version__) < LooseVersion('4.36'):\n",
      "/Users/nusbaumlab/opt/anaconda3/envs/pitch-tracking/lib/python3.10/site-packages/mne/externals/tqdm/__init__.py:5: DeprecationWarning: distutils Version classes are deprecated. Use packaging.version instead.\n",
      "  if LooseVersion(__version__) < LooseVersion('4.36'):\n",
      "100%|██████████| Fitting SlidingEstimator : 167/167 [01:49<00:00,    1.52it/s]\n",
      "100%|██████████| Fitting SlidingEstimator : 167/167 [01:44<00:00,    1.59it/s]\n",
      "100%|██████████| Fitting SlidingEstimator : 167/167 [01:32<00:00,    1.80it/s]\n",
      "[Parallel(n_jobs=4)]: Done   5 out of   5 | elapsed:  5.8min finished\n"
     ]
    }
   ],
   "source": [
    "n_stimuli = 5\n",
    "metric = 'accuracy'\n",
    "\n",
    "clf = make_pipeline(\n",
    "    StandardScaler(),\n",
    "    LogisticRegression(solver = 'liblinear')\n",
    ")\n",
    "\n",
    "print(\"Creating sliding estimator\")\n",
    "time_decod = SlidingEstimator(clf)\n",
    "\n",
    "print(\"Applying cross-validation\")\n",
    "scores = cross_val_multiscore(\n",
    "    time_decod,\n",
    "    X, # a trials x features x time array\n",
    "    y, # an (n_trials,) array of integer condition labels\n",
    "    cv = 5, # use stratified 5-fold cross-validation\n",
    "#     scoring = 'balanced_accuracy',\n",
    "    n_jobs = 4, # use all available CPU cores\n",
    "#     verbose = 3,\n",
    ")\n",
    "scores = np.mean(scores, axis = 0) # average across cv splits"
   ]
  },
  {
   "cell_type": "code",
   "execution_count": 77,
   "id": "9525b627",
   "metadata": {},
   "outputs": [
    {
     "data": {
      "text/plain": [
       "Text(0.5, 1.0, 'Sensor space decoding')"
      ]
     },
     "execution_count": 77,
     "metadata": {},
     "output_type": "execute_result"
    },
    {
     "data": {
      "image/png": "[encoded data removed]",
      "text/plain": [
       "<Figure size 432x288 with 1 Axes>"
      ]
     },
     "metadata": {
      "needs_background": "light"
     },
     "output_type": "display_data"
    }
   ],
   "source": [
    "# plot\n",
    "fig, ax = plt.subplots()\n",
    "ax.plot(range(len(scores)), scores, label = 'score')\n",
    "ax.axhline(1/n_stimuli, color = 'k', linestyle = '--', label = 'chance')\n",
    "ax.set_xlabel('Times')\n",
    "ax.set_ylabel(metric)  # Area Under the Curve\n",
    "ax.legend()\n",
    "ax.set_title('Sensor space decoding')"
   ]
  },
  {
   "cell_type": "code",
   "execution_count": 85,
   "id": "5dbbbd39",
   "metadata": {},
   "outputs": [
    {
     "data": {
      "text/plain": [
       "<Figure size 432x288 with 0 Axes>"
      ]
     },
     "metadata": {},
     "output_type": "display_data"
    }
   ],
   "source": [
    "fig_fpath = FIGS_ROOT + '/subj-' + sub + '_' + 'task-pitch_' + 'run-' + run + '.png'\n",
    "plt.savefig(fig_fpath)"
   ]
  },
  {
   "cell_type": "code",
   "execution_count": 83,
   "id": "3de4b91e",
   "metadata": {},
   "outputs": [
    {
     "data": {
      "text/plain": [
       "'subj-3_task-pitch_run-1'"
      ]
     },
     "execution_count": 83,
     "metadata": {},
     "output_type": "execute_result"
    }
   ],
   "source": [
    "fig_fpath"
   ]
  },
  {
   "cell_type": "code",
   "execution_count": null,
   "id": "3e2fac08",
   "metadata": {},
   "outputs": [],
   "source": []
  }
 ],
 "metadata": {
  "kernelspec": {
   "display_name": "Python 3 (ipykernel)",
   "language": "python",
   "name": "python3"
  },
  "language_info": {
   "codemirror_mode": {
    "name": "ipython",
    "version": 3
   },
   "file_extension": ".py",
   "mimetype": "text/x-python",
   "name": "python",
   "nbconvert_exporter": "python",
   "pygments_lexer": "ipython3",
   "version": "3.10.2"
  }
 },
 "nbformat": 4,
 "nbformat_minor": 5
}
