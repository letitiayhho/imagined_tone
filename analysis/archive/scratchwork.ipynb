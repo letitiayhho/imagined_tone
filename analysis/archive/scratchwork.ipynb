{
 "cells": [
  {
   "cell_type": "code",
   "execution_count": 14,
   "id": "a8dd614b",
   "metadata": {},
   "outputs": [
    {
     "data": {
      "text/plain": [
       "False"
      ]
     },
     "execution_count": 14,
     "metadata": {},
     "output_type": "execute_result"
    }
   ],
   "source": [
    "SUB = '10'\n",
    "SUBS_WITH_BAD_AUX = ['13', '28']\n",
    "SUB in SUBS_WITH_BAD_AUX"
   ]
  },
  {
   "cell_type": "code",
   "execution_count": 12,
   "id": "d4b87461",
   "metadata": {},
   "outputs": [
    {
     "data": {
      "text/plain": [
       "'12'"
      ]
     },
     "execution_count": 12,
     "metadata": {},
     "output_type": "execute_result"
    }
   ],
   "source": [
    "import random\n",
    "N_SUBS = 45\n",
    "SUBS_WITH_BAD_AUX = ['13', '28']\n",
    "OTHER_BAD_SUBS = ['1', '2', '41', '45']\n",
    "\n",
    "bad_subs = SUBS_WITH_BAD_AUX + OTHER_BAD_SUBS\n",
    "all_subs = [str(x) for x in range(1, N_SUBS + 1)]\n",
    "possible_subs = set(bad_subs) ^ set(all_subs)\n",
    "np.random.choice(list(possible_subs))"
   ]
  },
  {
   "cell_type": "code",
   "execution_count": 10,
   "id": "caa1384c",
   "metadata": {},
   "outputs": [
    {
     "data": {
      "text/plain": [
       "['5',\n",
       " '8',\n",
       " '36',\n",
       " '27',\n",
       " '10',\n",
       " '34',\n",
       " '37',\n",
       " '18',\n",
       " '22',\n",
       " '32',\n",
       " '24',\n",
       " '16',\n",
       " '26',\n",
       " '25',\n",
       " '29',\n",
       " '33',\n",
       " '11',\n",
       " '19',\n",
       " '7',\n",
       " '6',\n",
       " '35',\n",
       " '44',\n",
       " '12',\n",
       " '3',\n",
       " '17',\n",
       " '38',\n",
       " '30',\n",
       " '21',\n",
       " '39',\n",
       " '31',\n",
       " '40',\n",
       " '42',\n",
       " '14',\n",
       " '43',\n",
       " '23',\n",
       " '4',\n",
       " '20',\n",
       " '15',\n",
       " '9']"
      ]
     },
     "execution_count": 10,
     "metadata": {},
     "output_type": "execute_result"
    }
   ],
   "source": [
    "list(possible_subs)"
   ]
  },
  {
   "cell_type": "code",
   "execution_count": 7,
   "id": "028f0f44",
   "metadata": {},
   "outputs": [
    {
     "ename": "SyntaxError",
     "evalue": "invalid syntax (278740048.py, line 16)",
     "output_type": "error",
     "traceback": [
      "\u001b[0;36m  Input \u001b[0;32mIn [7]\u001b[0;36m\u001b[0m\n\u001b[0;31m    from ..util.io import preprocess.py\u001b[0m\n\u001b[0m                                    ^\u001b[0m\n\u001b[0;31mSyntaxError\u001b[0m\u001b[0;31m:\u001b[0m invalid syntax\n"
     ]
    }
   ],
   "source": [
    "import numpy as np\n",
    "import os.path as op\n",
    "from pprint import pformat\n",
    "from typing import Tuple, Iterator\n",
    "import time\n",
    "\n",
    "# EEG utilities\n",
    "import mne\n",
    "from mne.preprocessing import ICA, create_eog_epochs\n",
    "from pyprep.prep_pipeline import PrepPipeline\n",
    "from autoreject import get_rejection_threshold, validation_curve\n",
    "\n",
    "# BIDS utilities\n",
    "from mne_bids import BIDSPath, read_raw_bids\n",
    "from bids import BIDSLayout\n",
    "from ..util.io import preprocess.py"
   ]
  },
  {
   "cell_type": "code",
   "execution_count": 11,
   "id": "6fb66385",
   "metadata": {},
   "outputs": [],
   "source": [
    "def import_bids_data(bids_root, sub, task, run):\n",
    "    bids_path = BIDSPath(root = bids_root,\n",
    "                        subject = sub,\n",
    "                        task = task,\n",
    "                        run = run,\n",
    "                        datatype = 'eeg',\n",
    "                        )\n",
    "    print(bids_path)\n",
    "    raw = read_raw_bids(bids_path, verbose = False)\n",
    "    raw = raw.pick_types(eeg = True)\n",
    "    return raw\n",
    "\n",
    "def read_events(raw):\n",
    "    events, events_ids = mne.events_from_annotations(raw)\n",
    "    return events, events_ids"
   ]
  },
  {
   "cell_type": "code",
   "execution_count": 52,
   "id": "ce3fe9a7",
   "metadata": {},
   "outputs": [],
   "source": [
    "# Constants\n",
    "BIDS_ROOT = '../../data/bids'\n",
    "DERIV_ROOT = '../../data/bids/derivatives'\n",
    "\n",
    "sub = '23'\n",
    "task = 'pitch'\n",
    "run = '1'"
   ]
  },
  {
   "cell_type": "code",
   "execution_count": 53,
   "id": "84c56055",
   "metadata": {},
   "outputs": [
    {
     "name": "stdout",
     "output_type": "stream",
     "text": [
      "../../data/bids/sub-23/eeg/sub-23_task-pitch_run-1_eeg.vhdr\n",
      "Used Annotations descriptions: ['100', '150', '200', '250', '50']\n"
     ]
    },
    {
     "name": "stderr",
     "output_type": "stream",
     "text": [
      "/tmp/ipykernel_4949/1160456008.py:9: RuntimeWarning: There are channels without locations (n/a) that are not marked as bad: ['leog', 'reog', 'Ch65', 'Ch66', 'Ch67', 'Ch68', 'Ch69', 'Ch70', 'Ch71', 'Ch72', 'Ch73', 'Ch74', 'Ch75', 'Ch76', 'Ch77', 'Ch78', 'Ch79', 'Ch80', 'Ch81', 'Ch82', 'Ch83', 'Ch84', 'Ch85', 'Ch86', 'Ch87', 'Ch88', 'Ch89', 'Ch90', 'Ch91', 'Ch92', 'Ch93', 'Ch94', 'Ch95', 'Ch96', 'Aux1']\n",
      "  raw = read_raw_bids(bids_path, verbose = False)\n",
      "/tmp/ipykernel_4949/1160456008.py:9: RuntimeWarning: Not setting position of 1 stim channel found in montage:\n",
      "['Aux1']\n",
      "Consider setting the channel types to be of EEG/sEEG/ECoG/DBS/fNIRS using inst.set_channel_types before calling inst.set_montage, or omit these channels when creating your montage.\n",
      "  raw = read_raw_bids(bids_path, verbose = False)\n"
     ]
    },
    {
     "data": {
      "text/html": [
       "<table class=\"table table-hover table-striped table-sm table-responsive small\">\n",
       "    <tr>\n",
       "        <th>Measurement date</th>\n",
       "        \n",
       "        <td>December 31, 1924  10:40:16 GMT</td>\n",
       "        \n",
       "    </tr>\n",
       "    <tr>\n",
       "        <th>Experimenter</th>\n",
       "        \n",
       "        <td>mne_anonymize</td>\n",
       "        \n",
       "    </tr>\n",
       "        <th>Participant</th>\n",
       "        \n",
       "            \n",
       "            <td>sub-23</td>\n",
       "            \n",
       "        \n",
       "    </tr>\n",
       "    <tr>\n",
       "        <th>Digitized points</th>\n",
       "        \n",
       "        <td>0 points</td>\n",
       "        \n",
       "    </tr>\n",
       "    <tr>\n",
       "        <th>Good channels</th>\n",
       "        <td>96 EEG</td>\n",
       "    </tr>\n",
       "    <tr>\n",
       "        <th>Bad channels</th>\n",
       "        <td>None</td>\n",
       "    </tr>\n",
       "    <tr>\n",
       "        <th>EOG channels</th>\n",
       "        <td>Not available</td>\n",
       "    </tr>\n",
       "    <tr>\n",
       "        <th>ECG channels</th>\n",
       "        <td>Not available</td>\n",
       "    \n",
       "    <tr>\n",
       "        <th>Sampling frequency</th>\n",
       "        <td>5000.00 Hz</td>\n",
       "    </tr>\n",
       "    \n",
       "    \n",
       "    <tr>\n",
       "        <th>Highpass</th>\n",
       "        <td>0.00 Hz</td>\n",
       "    </tr>\n",
       "    \n",
       "    \n",
       "    <tr>\n",
       "        <th>Lowpass</th>\n",
       "        <td>2500.00 Hz</td>\n",
       "    </tr>\n",
       "    \n",
       "    \n",
       "</table>"
      ],
      "text/plain": [
       "<Info | 12 non-empty values\n",
       " bads: []\n",
       " ch_names: Fp1, Fz, F3, F7, FT9, FC5, FC1, C3, T7, TP9, CP5, CP1, Pz, P3, ...\n",
       " chs: 96 EEG\n",
       " custom_ref_applied: False\n",
       " description: Anonymized using a time shift to preserve age at acquisition\n",
       " dig: 96 items (96 EEG)\n",
       " experimenter: mne_anonymize\n",
       " highpass: 0.0 Hz\n",
       " line_freq: 60.0\n",
       " lowpass: 2500.0 Hz\n",
       " meas_date: 1924-12-31 10:40:16 UTC\n",
       " nchan: 96\n",
       " projs: []\n",
       " sfreq: 5000.0 Hz\n",
       " subject_info: 4 items (dict)\n",
       ">"
      ]
     },
     "execution_count": 53,
     "metadata": {},
     "output_type": "execute_result"
    }
   ],
   "source": [
    "layout = BIDSLayout(BIDS_ROOT, derivatives = False)\n",
    "fpaths = layout.get(extension = 'eeg',\n",
    "                return_type = 'filename')\n",
    "raw = import_bids_data(BIDS_ROOT, sub, task, run)\n",
    "events, event_ids = read_events(raw)\n",
    "\n",
    "# Create virtual EOGs\n",
    "raw.info"
   ]
  },
  {
   "cell_type": "code",
   "execution_count": 54,
   "id": "14cdbe44",
   "metadata": {},
   "outputs": [
    {
     "data": {
      "text/plain": [
       "96"
      ]
     },
     "execution_count": 54,
     "metadata": {},
     "output_type": "execute_result"
    }
   ],
   "source": [
    "len(raw.ch_names)\n",
    "# raw.info\n",
    "# raw.ch_names\n",
    "# import re\n",
    "# matches = [x for x in raw.ch_names if re.search('Ch', x)]\n",
    "# matches\n",
    "# raw.drop_channels(matches)\n",
    "# raw.ch_na"
   ]
  },
  {
   "cell_type": "code",
   "execution_count": 33,
   "id": "a5a11552",
   "metadata": {},
   "outputs": [
    {
     "name": "stdout",
     "output_type": "stream",
     "text": [
      "25\n"
     ]
    },
    {
     "data": {
      "text/plain": [
       "64"
      ]
     },
     "execution_count": 33,
     "metadata": {},
     "output_type": "execute_result"
    }
   ],
   "source": [
    "if sub in ['23', '24', '25']:\n",
    "    print(sub)\n",
    "len(raw.ch_names)"
   ]
  },
  {
   "cell_type": "code",
   "execution_count": 55,
   "id": "5b639b66",
   "metadata": {},
   "outputs": [
    {
     "data": {
      "text/plain": [
       "65"
      ]
     },
     "execution_count": 55,
     "metadata": {},
     "output_type": "execute_result"
    }
   ],
   "source": [
    "a = ['Fp1', 'Fz', 'F3', 'F7', 'FT9', 'FC5', 'FC1', 'C3', 'T7', 'TP9', 'CP5', 'CP1', 'Pz', 'P3', 'P7', 'O1', 'Oz', 'O2', 'P4', 'P8', 'TP10', 'CP6', 'CP2', 'C4', 'T8', 'FT10', 'FC6', 'FC2', 'F4', 'F8', 'Fp2', 'leog', 'AF3', 'AFz', 'F1', 'F5', 'FT7', 'FC3', 'C1', 'C5', 'TP7', 'CP3', 'P1', 'P5', 'PO7', 'PO3', 'POz', 'PO4', 'PO8', 'P6', 'P2', 'CPz', 'CP4', 'TP8', 'C6', 'C2', 'FC4', 'FT8', 'F6', 'reog', 'AF4', 'F2', 'FCz', 'Aux1', 'Cz']\n",
    "len(a)"
   ]
  },
  {
   "cell_type": "code",
   "execution_count": 47,
   "id": "ed1d6be5",
   "metadata": {},
   "outputs": [
    {
     "data": {
      "text/plain": [
       "'/project2/hcn1/pitch_tracking/scripts/archive/../../data/bids/derivatives/preprocessing/sub-28/sub-28_task-pitch_run-1_res-hi_desc-clean_epo.fif.gz'"
      ]
     },
     "execution_count": 47,
     "metadata": {},
     "output_type": "execute_result"
    }
   ],
   "source": [
    "layout = BIDSLayout(BIDS_ROOT, derivatives = True)\n",
    "fpaths = layout.get(scope = 'preprocessing',\n",
    "                    res = 'hi',\n",
    "                    suffix='epo',\n",
    "                    extension = 'fif.gz',\n",
    "                    return_type = 'filename')"
   ]
  },
  {
   "cell_type": "code",
   "execution_count": 51,
   "id": "c94eee2c",
   "metadata": {},
   "outputs": [
    {
     "data": {
      "text/plain": [
       "['/project2/hcn1/pitch_tracking/scripts/archive/../../data/bids/derivatives/preprocessing/sub-2/sub-2_task-pitch_run-1_res-hi_desc-clean_epo.fif.gz',\n",
       " '/project2/hcn1/pitch_tracking/scripts/archive/../../data/bids/derivatives/preprocessing/sub-3/sub-3_task-pitch_run-1_res-hi_desc-clean_epo.fif.gz',\n",
       " '/project2/hcn1/pitch_tracking/scripts/archive/../../data/bids/derivatives/preprocessing/sub-3/sub-3_task-pitch_run-2_res-hi_desc-clean_epo.fif.gz',\n",
       " '/project2/hcn1/pitch_tracking/scripts/archive/../../data/bids/derivatives/preprocessing/sub-4/sub-4_task-pitch_run-1_res-hi_desc-clean_epo.fif.gz',\n",
       " '/project2/hcn1/pitch_tracking/scripts/archive/../../data/bids/derivatives/preprocessing/sub-4/sub-4_task-pitch_run-2_res-hi_desc-clean_epo.fif.gz',\n",
       " '/project2/hcn1/pitch_tracking/scripts/archive/../../data/bids/derivatives/preprocessing/sub-5/sub-5_task-pitch_run-1_res-hi_desc-clean_epo.fif.gz',\n",
       " '/project2/hcn1/pitch_tracking/scripts/archive/../../data/bids/derivatives/preprocessing/sub-6/sub-6_task-pitch_run-1_res-hi_desc-clean_epo.fif.gz',\n",
       " '/project2/hcn1/pitch_tracking/scripts/archive/../../data/bids/derivatives/preprocessing/sub-6/sub-6_task-pitch_run-1_res-hi_desc-TEST_epo.fif.gz',\n",
       " '/project2/hcn1/pitch_tracking/scripts/archive/../../data/bids/derivatives/preprocessing/sub-7/sub-7_task-pitch_run-1_res-hi_desc-clean_epo.fif.gz',\n",
       " '/project2/hcn1/pitch_tracking/scripts/archive/../../data/bids/derivatives/preprocessing/sub-8/sub-8_task-pitch_run-1_res-hi_desc-clean_epo.fif.gz',\n",
       " '/project2/hcn1/pitch_tracking/scripts/archive/../../data/bids/derivatives/preprocessing/sub-9/sub-9_task-pitch_run-1_res-hi_desc-clean_epo.fif.gz',\n",
       " '/project2/hcn1/pitch_tracking/scripts/archive/../../data/bids/derivatives/preprocessing/sub-10/sub-10_task-pitch_run-1_res-hi_desc-clean_epo.fif.gz',\n",
       " '/project2/hcn1/pitch_tracking/scripts/archive/../../data/bids/derivatives/preprocessing/sub-11/sub-11_task-pitch_run-1_res-hi_desc-clean_epo.fif.gz',\n",
       " '/project2/hcn1/pitch_tracking/scripts/archive/../../data/bids/derivatives/preprocessing/sub-12/sub-12_task-pitch_run-1_res-hi_desc-clean_epo.fif.gz',\n",
       " '/project2/hcn1/pitch_tracking/scripts/archive/../../data/bids/derivatives/preprocessing/sub-13/sub-13_task-pitch_run-1_res-hi_desc-clean_epo.fif.gz',\n",
       " '/project2/hcn1/pitch_tracking/scripts/archive/../../data/bids/derivatives/preprocessing/sub-14/sub-14_task-pitch_run-1_res-hi_desc-clean_epo.fif.gz',\n",
       " '/project2/hcn1/pitch_tracking/scripts/archive/../../data/bids/derivatives/preprocessing/sub-15/sub-15_task-pitch_run-1_res-hi_desc-clean_epo.fif.gz',\n",
       " '/project2/hcn1/pitch_tracking/scripts/archive/../../data/bids/derivatives/preprocessing/sub-16/sub-16_task-pitch_run-1_res-hi_desc-clean_epo.fif.gz',\n",
       " '/project2/hcn1/pitch_tracking/scripts/archive/../../data/bids/derivatives/preprocessing/sub-17/sub-17_task-pitch_run-1_res-hi_desc-clean_epo.fif.gz',\n",
       " '/project2/hcn1/pitch_tracking/scripts/archive/../../data/bids/derivatives/preprocessing/sub-18/sub-18_task-pitch_run-1_res-hi_desc-clean_epo.fif.gz',\n",
       " '/project2/hcn1/pitch_tracking/scripts/archive/../../data/bids/derivatives/preprocessing/sub-19/sub-19_task-pitch_run-1_res-hi_desc-clean_epo.fif.gz',\n",
       " '/project2/hcn1/pitch_tracking/scripts/archive/../../data/bids/derivatives/preprocessing/sub-20/sub-20_task-pitch_run-1_res-hi_desc-clean_epo.fif.gz',\n",
       " '/project2/hcn1/pitch_tracking/scripts/archive/../../data/bids/derivatives/preprocessing/sub-21/sub-21_task-pitch_run-1_res-hi_desc-clean_epo.fif.gz',\n",
       " '/project2/hcn1/pitch_tracking/scripts/archive/../../data/bids/derivatives/preprocessing/sub-22/sub-22_task-pitch_run-1_res-hi_desc-clean_epo.fif.gz',\n",
       " '/project2/hcn1/pitch_tracking/scripts/archive/../../data/bids/derivatives/preprocessing/sub-26/sub-26_task-pitch_run-1_res-hi_desc-clean_epo.fif.gz',\n",
       " '/project2/hcn1/pitch_tracking/scripts/archive/../../data/bids/derivatives/preprocessing/sub-27/sub-27_task-pitch_run-1_res-hi_desc-clean_epo.fif.gz',\n",
       " '/project2/hcn1/pitch_tracking/scripts/archive/../../data/bids/derivatives/preprocessing/sub-28/sub-28_task-pitch_run-1_res-hi_desc-clean_epo.fif.gz',\n",
       " '/project2/hcn1/pitch_tracking/scripts/archive/../../data/bids/derivatives/preprocessing/sub-29/sub-29_task-pitch_run-1_res-hi_desc-clean_epo.fif.gz',\n",
       " '/project2/hcn1/pitch_tracking/scripts/archive/../../data/bids/derivatives/preprocessing/sub-30/sub-30_task-pitch_run-1_res-hi_desc-clean_epo.fif.gz',\n",
       " '/project2/hcn1/pitch_tracking/scripts/archive/../../data/bids/derivatives/preprocessing/sub-31/sub-31_task-pitch_run-1_res-hi_desc-clean_epo.fif.gz',\n",
       " '/project2/hcn1/pitch_tracking/scripts/archive/../../data/bids/derivatives/preprocessing/sub-32/sub-32_task-pitch_run-1_res-hi_desc-clean_epo.fif.gz',\n",
       " '/project2/hcn1/pitch_tracking/scripts/archive/../../data/bids/derivatives/preprocessing/sub-33/sub-33_task-pitch_run-1_res-hi_desc-clean_epo.fif.gz',\n",
       " '/project2/hcn1/pitch_tracking/scripts/archive/../../data/bids/derivatives/preprocessing/sub-34/sub-34_task-pitch_run-1_res-hi_desc-clean_epo.fif.gz',\n",
       " '/project2/hcn1/pitch_tracking/scripts/archive/../../data/bids/derivatives/preprocessing/sub-35/sub-35_task-pitch_run-1_res-hi_desc-clean_epo.fif.gz',\n",
       " '/project2/hcn1/pitch_tracking/scripts/archive/../../data/bids/derivatives/preprocessing/sub-36/sub-36_task-pitch_run-1_res-hi_desc-clean_epo.fif.gz',\n",
       " '/project2/hcn1/pitch_tracking/scripts/archive/../../data/bids/derivatives/preprocessing/sub-37/sub-37_task-pitch_run-1_res-hi_desc-clean_epo.fif.gz',\n",
       " '/project2/hcn1/pitch_tracking/scripts/archive/../../data/bids/derivatives/preprocessing/sub-38/sub-38_task-pitch_run-1_res-hi_desc-clean_epo.fif.gz',\n",
       " '/project2/hcn1/pitch_tracking/scripts/archive/../../data/bids/derivatives/preprocessing/sub-38/sub-38_task-pitch_run-2_res-hi_desc-clean_epo.fif.gz',\n",
       " '/project2/hcn1/pitch_tracking/scripts/archive/../../data/bids/derivatives/preprocessing/sub-39/sub-39_task-pitch_run-1_res-hi_desc-clean_epo.fif.gz',\n",
       " '/project2/hcn1/pitch_tracking/scripts/archive/../../data/bids/derivatives/preprocessing/sub-40/sub-40_task-pitch_run-1_res-hi_desc-clean_epo.fif.gz',\n",
       " '/project2/hcn1/pitch_tracking/scripts/archive/../../data/bids/derivatives/preprocessing/sub-42/sub-42_task-pitch_run-1_res-hi_desc-clean_epo.fif.gz',\n",
       " '/project2/hcn1/pitch_tracking/scripts/archive/../../data/bids/derivatives/preprocessing/sub-43/sub-43_task-pitch_run-1_res-hi_desc-clean_epo.fif.gz',\n",
       " '/project2/hcn1/pitch_tracking/scripts/archive/../../data/bids/derivatives/preprocessing/sub-44/sub-44_task-pitch_run-1_res-hi_desc-clean_epo.fif.gz',\n",
       " '/project2/hcn1/pitch_tracking/scripts/archive/../../data/bids/derivatives/preprocessing/sub-45/sub-45_task-pitch_run-1_res-hi_desc-clean_epo.fif.gz']"
      ]
     },
     "execution_count": 51,
     "metadata": {},
     "output_type": "execute_result"
    }
   ],
   "source": [
    "fpaths"
   ]
  },
  {
   "cell_type": "code",
   "execution_count": 42,
   "id": "fd0a7a5a",
   "metadata": {},
   "outputs": [
    {
     "name": "stdout",
     "output_type": "stream",
     "text": [
      "Reading /project2/hcn1/pitch_tracking/scripts/archive/../../data/bids/derivatives/preprocessing/sub-4/sub-4_task-pitch_run-1_res-hi_desc-clean_epo.fif.gz ...\n"
     ]
    },
    {
     "ename": "KeyboardInterrupt",
     "evalue": "",
     "output_type": "error",
     "traceback": [
      "\u001b[0;31m---------------------------------------------------------------------------\u001b[0m",
      "\u001b[0;31mKeyboardInterrupt\u001b[0m                         Traceback (most recent call last)",
      "Input \u001b[0;32mIn [42]\u001b[0m, in \u001b[0;36m<cell line: 1>\u001b[0;34m()\u001b[0m\n\u001b[0;32m----> 1\u001b[0m epochs \u001b[38;5;241m=\u001b[39m \u001b[43mmne\u001b[49m\u001b[38;5;241;43m.\u001b[39;49m\u001b[43mread_epochs\u001b[49m\u001b[43m(\u001b[49m\u001b[43mfpaths\u001b[49m\u001b[43m[\u001b[49m\u001b[38;5;241;43m3\u001b[39;49m\u001b[43m]\u001b[49m\u001b[43m,\u001b[49m\u001b[43m \u001b[49m\u001b[43mpreload\u001b[49m\u001b[43m \u001b[49m\u001b[38;5;241;43m=\u001b[39;49m\u001b[43m \u001b[49m\u001b[38;5;28;43;01mFalse\u001b[39;49;00m\u001b[43m)\u001b[49m\n\u001b[1;32m      2\u001b[0m epochs\u001b[38;5;241m.\u001b[39minfo\n",
      "File \u001b[0;32m<decorator-gen-259>:12\u001b[0m, in \u001b[0;36mread_epochs\u001b[0;34m(fname, proj, preload, verbose)\u001b[0m\n",
      "File \u001b[0;32m~/.conda/envs/pitch-tracking/lib/python3.10/site-packages/mne/epochs.py:3187\u001b[0m, in \u001b[0;36mread_epochs\u001b[0;34m(fname, proj, preload, verbose)\u001b[0m\n\u001b[1;32m   3169\u001b[0m \u001b[38;5;129m@verbose\u001b[39m\n\u001b[1;32m   3170\u001b[0m \u001b[38;5;28;01mdef\u001b[39;00m \u001b[38;5;21mread_epochs\u001b[39m(fname, proj\u001b[38;5;241m=\u001b[39m\u001b[38;5;28;01mTrue\u001b[39;00m, preload\u001b[38;5;241m=\u001b[39m\u001b[38;5;28;01mTrue\u001b[39;00m, verbose\u001b[38;5;241m=\u001b[39m\u001b[38;5;28;01mNone\u001b[39;00m):\n\u001b[1;32m   3171\u001b[0m     \u001b[38;5;124;03m\"\"\"Read epochs from a fif file.\u001b[39;00m\n\u001b[1;32m   3172\u001b[0m \n\u001b[1;32m   3173\u001b[0m \u001b[38;5;124;03m    Parameters\u001b[39;00m\n\u001b[0;32m   (...)\u001b[0m\n\u001b[1;32m   3185\u001b[0m \u001b[38;5;124;03m        The epochs.\u001b[39;00m\n\u001b[1;32m   3186\u001b[0m \u001b[38;5;124;03m    \"\"\"\u001b[39;00m\n\u001b[0;32m-> 3187\u001b[0m     \u001b[38;5;28;01mreturn\u001b[39;00m \u001b[43mEpochsFIF\u001b[49m\u001b[43m(\u001b[49m\u001b[43mfname\u001b[49m\u001b[43m,\u001b[49m\u001b[43m \u001b[49m\u001b[43mproj\u001b[49m\u001b[43m,\u001b[49m\u001b[43m \u001b[49m\u001b[43mpreload\u001b[49m\u001b[43m,\u001b[49m\u001b[43m \u001b[49m\u001b[43mverbose\u001b[49m\u001b[43m)\u001b[49m\n",
      "File \u001b[0;32m<decorator-gen-260>:12\u001b[0m, in \u001b[0;36m__init__\u001b[0;34m(self, fname, proj, preload, verbose)\u001b[0m\n",
      "File \u001b[0;32m~/.conda/envs/pitch-tracking/lib/python3.10/site-packages/mne/epochs.py:3246\u001b[0m, in \u001b[0;36mEpochsFIF.__init__\u001b[0;34m(self, fname, proj, preload, verbose)\u001b[0m\n\u001b[1;32m   3244\u001b[0m fname_rep \u001b[38;5;241m=\u001b[39m _get_fname_rep(fname)\n\u001b[1;32m   3245\u001b[0m logger\u001b[38;5;241m.\u001b[39minfo(\u001b[38;5;124m'\u001b[39m\u001b[38;5;124mReading \u001b[39m\u001b[38;5;132;01m%s\u001b[39;00m\u001b[38;5;124m ...\u001b[39m\u001b[38;5;124m'\u001b[39m \u001b[38;5;241m%\u001b[39m fname_rep)\n\u001b[0;32m-> 3246\u001b[0m fid, tree, _ \u001b[38;5;241m=\u001b[39m \u001b[43mfiff_open\u001b[49m\u001b[43m(\u001b[49m\u001b[43mfname\u001b[49m\u001b[43m,\u001b[49m\u001b[43m \u001b[49m\u001b[43mpreload\u001b[49m\u001b[38;5;241;43m=\u001b[39;49m\u001b[43mpreload\u001b[49m\u001b[43m)\u001b[49m\n\u001b[1;32m   3247\u001b[0m next_fname \u001b[38;5;241m=\u001b[39m _get_next_fname(fid, fname, tree)\n\u001b[1;32m   3248\u001b[0m (info, data, data_tag, events, event_id, metadata, tmin, tmax,\n\u001b[1;32m   3249\u001b[0m  baseline, selection, drop_log, epoch_shape, cals,\n\u001b[1;32m   3250\u001b[0m  reject_params, fmt, annotations, raw_sfreq) \u001b[38;5;241m=\u001b[39m \\\n\u001b[1;32m   3251\u001b[0m     _read_one_epoch_file(fid, tree, preload)\n",
      "File \u001b[0;32m<decorator-gen-7>:12\u001b[0m, in \u001b[0;36mfiff_open\u001b[0;34m(fname, preload, verbose)\u001b[0m\n",
      "File \u001b[0;32m~/.conda/envs/pitch-tracking/lib/python3.10/site-packages/mne/io/open.py:126\u001b[0m, in \u001b[0;36mfiff_open\u001b[0;34m(fname, preload, verbose)\u001b[0m\n\u001b[1;32m    124\u001b[0m fid \u001b[38;5;241m=\u001b[39m _fiff_get_fid(fname)\n\u001b[1;32m    125\u001b[0m \u001b[38;5;28;01mtry\u001b[39;00m:\n\u001b[0;32m--> 126\u001b[0m     \u001b[38;5;28;01mreturn\u001b[39;00m \u001b[43m_fiff_open\u001b[49m\u001b[43m(\u001b[49m\u001b[43mfname\u001b[49m\u001b[43m,\u001b[49m\u001b[43m \u001b[49m\u001b[43mfid\u001b[49m\u001b[43m,\u001b[49m\u001b[43m \u001b[49m\u001b[43mpreload\u001b[49m\u001b[43m)\u001b[49m\n\u001b[1;32m    127\u001b[0m \u001b[38;5;28;01mexcept\u001b[39;00m \u001b[38;5;167;01mException\u001b[39;00m:\n\u001b[1;32m    128\u001b[0m     fid\u001b[38;5;241m.\u001b[39mclose()\n",
      "File \u001b[0;32m~/.conda/envs/pitch-tracking/lib/python3.10/site-packages/mne/io/open.py:175\u001b[0m, in \u001b[0;36m_fiff_open\u001b[0;34m(fname, fid, preload)\u001b[0m\n\u001b[1;32m    173\u001b[0m \u001b[38;5;28;01mwhile\u001b[39;00m tag\u001b[38;5;241m.\u001b[39mnext \u001b[38;5;241m>\u001b[39m\u001b[38;5;241m=\u001b[39m \u001b[38;5;241m0\u001b[39m:\n\u001b[1;32m    174\u001b[0m     pos \u001b[38;5;241m=\u001b[39m fid\u001b[38;5;241m.\u001b[39mtell()\n\u001b[0;32m--> 175\u001b[0m     tag \u001b[38;5;241m=\u001b[39m \u001b[43mread_tag_info\u001b[49m\u001b[43m(\u001b[49m\u001b[43mfid\u001b[49m\u001b[43m)\u001b[49m\n\u001b[1;32m    176\u001b[0m     \u001b[38;5;28;01mif\u001b[39;00m tag \u001b[38;5;129;01mis\u001b[39;00m \u001b[38;5;28;01mNone\u001b[39;00m:\n\u001b[1;32m    177\u001b[0m         \u001b[38;5;28;01mbreak\u001b[39;00m  \u001b[38;5;66;03m# HACK : to fix file ending with empty tag...\u001b[39;00m\n",
      "File \u001b[0;32m~/.conda/envs/pitch-tracking/lib/python3.10/site-packages/mne/io/tag.py:69\u001b[0m, in \u001b[0;36mread_tag_info\u001b[0;34m(fid)\u001b[0m\n\u001b[1;32m     67\u001b[0m     \u001b[38;5;28;01mreturn\u001b[39;00m \u001b[38;5;28;01mNone\u001b[39;00m\n\u001b[1;32m     68\u001b[0m \u001b[38;5;28;01mif\u001b[39;00m tag\u001b[38;5;241m.\u001b[39mnext \u001b[38;5;241m==\u001b[39m \u001b[38;5;241m0\u001b[39m:\n\u001b[0;32m---> 69\u001b[0m     \u001b[43mfid\u001b[49m\u001b[38;5;241;43m.\u001b[39;49m\u001b[43mseek\u001b[49m\u001b[43m(\u001b[49m\u001b[43mtag\u001b[49m\u001b[38;5;241;43m.\u001b[39;49m\u001b[43msize\u001b[49m\u001b[43m,\u001b[49m\u001b[43m \u001b[49m\u001b[38;5;241;43m1\u001b[39;49m\u001b[43m)\u001b[49m\n\u001b[1;32m     70\u001b[0m \u001b[38;5;28;01melif\u001b[39;00m tag\u001b[38;5;241m.\u001b[39mnext \u001b[38;5;241m>\u001b[39m \u001b[38;5;241m0\u001b[39m:\n\u001b[1;32m     71\u001b[0m     fid\u001b[38;5;241m.\u001b[39mseek(tag\u001b[38;5;241m.\u001b[39mnext, \u001b[38;5;241m0\u001b[39m)\n",
      "File \u001b[0;32m~/.conda/envs/pitch-tracking/lib/python3.10/gzip.py:393\u001b[0m, in \u001b[0;36mGzipFile.seek\u001b[0;34m(self, offset, whence)\u001b[0m\n\u001b[1;32m    391\u001b[0m \u001b[38;5;28;01melif\u001b[39;00m \u001b[38;5;28mself\u001b[39m\u001b[38;5;241m.\u001b[39mmode \u001b[38;5;241m==\u001b[39m READ:\n\u001b[1;32m    392\u001b[0m     \u001b[38;5;28mself\u001b[39m\u001b[38;5;241m.\u001b[39m_check_not_closed()\n\u001b[0;32m--> 393\u001b[0m     \u001b[38;5;28;01mreturn\u001b[39;00m \u001b[38;5;28;43mself\u001b[39;49m\u001b[38;5;241;43m.\u001b[39;49m\u001b[43m_buffer\u001b[49m\u001b[38;5;241;43m.\u001b[39;49m\u001b[43mseek\u001b[49m\u001b[43m(\u001b[49m\u001b[43moffset\u001b[49m\u001b[43m,\u001b[49m\u001b[43m \u001b[49m\u001b[43mwhence\u001b[49m\u001b[43m)\u001b[49m\n\u001b[1;32m    395\u001b[0m \u001b[38;5;28;01mreturn\u001b[39;00m \u001b[38;5;28mself\u001b[39m\u001b[38;5;241m.\u001b[39moffset\n",
      "File \u001b[0;32m~/.conda/envs/pitch-tracking/lib/python3.10/_compression.py:153\u001b[0m, in \u001b[0;36mDecompressReader.seek\u001b[0;34m(self, offset, whence)\u001b[0m\n\u001b[1;32m    151\u001b[0m \u001b[38;5;66;03m# Read and discard data until we reach the desired position.\u001b[39;00m\n\u001b[1;32m    152\u001b[0m \u001b[38;5;28;01mwhile\u001b[39;00m offset \u001b[38;5;241m>\u001b[39m \u001b[38;5;241m0\u001b[39m:\n\u001b[0;32m--> 153\u001b[0m     data \u001b[38;5;241m=\u001b[39m \u001b[38;5;28;43mself\u001b[39;49m\u001b[38;5;241;43m.\u001b[39;49m\u001b[43mread\u001b[49m\u001b[43m(\u001b[49m\u001b[38;5;28;43mmin\u001b[39;49m\u001b[43m(\u001b[49m\u001b[43mio\u001b[49m\u001b[38;5;241;43m.\u001b[39;49m\u001b[43mDEFAULT_BUFFER_SIZE\u001b[49m\u001b[43m,\u001b[49m\u001b[43m \u001b[49m\u001b[43moffset\u001b[49m\u001b[43m)\u001b[49m\u001b[43m)\u001b[49m\n\u001b[1;32m    154\u001b[0m     \u001b[38;5;28;01mif\u001b[39;00m \u001b[38;5;129;01mnot\u001b[39;00m data:\n\u001b[1;32m    155\u001b[0m         \u001b[38;5;28;01mbreak\u001b[39;00m\n",
      "File \u001b[0;32m~/.conda/envs/pitch-tracking/lib/python3.10/gzip.py:496\u001b[0m, in \u001b[0;36m_GzipReader.read\u001b[0;34m(self, size)\u001b[0m\n\u001b[1;32m    493\u001b[0m \u001b[38;5;66;03m# Read a chunk of data from the file\u001b[39;00m\n\u001b[1;32m    494\u001b[0m buf \u001b[38;5;241m=\u001b[39m \u001b[38;5;28mself\u001b[39m\u001b[38;5;241m.\u001b[39m_fp\u001b[38;5;241m.\u001b[39mread(io\u001b[38;5;241m.\u001b[39mDEFAULT_BUFFER_SIZE)\n\u001b[0;32m--> 496\u001b[0m uncompress \u001b[38;5;241m=\u001b[39m \u001b[38;5;28;43mself\u001b[39;49m\u001b[38;5;241;43m.\u001b[39;49m\u001b[43m_decompressor\u001b[49m\u001b[38;5;241;43m.\u001b[39;49m\u001b[43mdecompress\u001b[49m\u001b[43m(\u001b[49m\u001b[43mbuf\u001b[49m\u001b[43m,\u001b[49m\u001b[43m \u001b[49m\u001b[43msize\u001b[49m\u001b[43m)\u001b[49m\n\u001b[1;32m    497\u001b[0m \u001b[38;5;28;01mif\u001b[39;00m \u001b[38;5;28mself\u001b[39m\u001b[38;5;241m.\u001b[39m_decompressor\u001b[38;5;241m.\u001b[39munconsumed_tail \u001b[38;5;241m!=\u001b[39m \u001b[38;5;124mb\u001b[39m\u001b[38;5;124m\"\u001b[39m\u001b[38;5;124m\"\u001b[39m:\n\u001b[1;32m    498\u001b[0m     \u001b[38;5;28mself\u001b[39m\u001b[38;5;241m.\u001b[39m_fp\u001b[38;5;241m.\u001b[39mprepend(\u001b[38;5;28mself\u001b[39m\u001b[38;5;241m.\u001b[39m_decompressor\u001b[38;5;241m.\u001b[39munconsumed_tail)\n",
      "\u001b[0;31mKeyboardInterrupt\u001b[0m: "
     ]
    }
   ],
   "source": [
    "epochs = mne.read_epochs(fpaths[3], preload = False)"
   ]
  },
  {
   "cell_type": "code",
   "execution_count": 45,
   "id": "488fb159",
   "metadata": {},
   "outputs": [
    {
     "data": {
      "text/plain": [
       "61"
      ]
     },
     "execution_count": 45,
     "metadata": {},
     "output_type": "execute_result"
    }
   ],
   "source": [
    "len(epochs.ch_names)"
   ]
  },
  {
   "cell_type": "code",
   "execution_count": 1,
   "id": "99f31fa2",
   "metadata": {},
   "outputs": [],
   "source": [
    "import numpy as np\n",
    "import os.path as op\n",
    "\n",
    "# EEG utilities\n",
    "import mne\n",
    "\n",
    "# BIDS utilities\n",
    "from mne_bids import BIDSPath, read_raw_bids\n",
    "\n",
    "import pandas as pd"
   ]
  },
  {
   "cell_type": "code",
   "execution_count": 2,
   "id": "53d4b044",
   "metadata": {},
   "outputs": [
    {
     "name": "stdout",
     "output_type": "stream",
     "text": [
      "Extracting parameters from ../data/raw/letty_subj_6.vhdr...\n",
      "Setting channel info structure...\n",
      "Reading 0 ... 9212749  =      0.000 ...  1842.550 secs...\n"
     ]
    },
    {
     "name": "stderr",
     "output_type": "stream",
     "text": [
      "/var/folders/hv/vj9_d69170l26hyj9hqqj45h0000gn/T/ipykernel_45747/2487207022.py:4: RuntimeWarning: The unit for channel(s) Aux1 has changed from V to NA.\n",
      "  raw.set_channel_types({'Aux1': 'stim'})\n"
     ]
    },
    {
     "data": {
      "text/html": [
       "\n",
       "\n",
       "<table class=\"table table-hover table-striped table-sm table-responsive small\">\n",
       "    <tr>\n",
       "        <th>Measurement date</th>\n",
       "        <td>March 07, 2022  15:37:22 GMT</td>\n",
       "        \n",
       "    </tr>\n",
       "    <tr>\n",
       "        <th>Experimenter</th>\n",
       "<td>Unknown</td>\n",
       "    </tr>\n",
       "        <th>Participant</th>\n",
       "<td>Unknown</td>\n",
       "    </tr>\n",
       "    <tr>\n",
       "        <th>Digitized points</th>\n",
       "        <td>Not available</td>\n",
       "    </tr>\n",
       "    <tr>\n",
       "        <th>Good channels</th>\n",
       "        <td>63 EEG, 1 Stimulus</td>\n",
       "    </tr>\n",
       "    <tr>\n",
       "        <th>Bad channels</th>\n",
       "        <td>None</td>\n",
       "    </tr>\n",
       "    <tr>\n",
       "        <th>EOG channels</th>\n",
       "        <td>Not available</td>\n",
       "    </tr>\n",
       "    <tr>\n",
       "        <th>ECG channels</th>\n",
       "        <td>Not available</td>\n",
       "    <tr>\n",
       "        <th>Sampling frequency</th>\n",
       "        <td>5000.00 Hz</td>\n",
       "    </tr>\n",
       "    <tr>\n",
       "        <th>Highpass</th>\n",
       "        <td>0.00 Hz</td>\n",
       "    </tr>\n",
       "    <tr>\n",
       "        <th>Lowpass</th>\n",
       "        <td>2500.00 Hz</td>\n",
       "    </tr>\n",
       "\n",
       "    <tr>\n",
       "        <th>Filenames</th>\n",
       "        <td>letty_subj_6.eeg</td>\n",
       "    </tr>\n",
       "    <tr>\n",
       "        <th>Duration</th>\n",
       "        <td>00:30:42 (HH:MM:SS)</td>\n",
       "    </tr>\n",
       "</table>\n"
      ],
      "text/plain": [
       "<RawBrainVision | letty_subj_6.eeg, 64 x 9212750 (1842.5 s), ~4.39 GB, data loaded>"
      ]
     },
     "execution_count": 2,
     "metadata": {},
     "output_type": "execute_result"
    }
   ],
   "source": [
    "fpath = '../data/raw/letty_subj_6.vhdr'\n",
    "raw = mne.io.read_raw_brainvision(fpath)\n",
    "raw.load_data()\n",
    "raw.set_channel_types({'Aux1': 'stim'})"
   ]
  },
  {
   "cell_type": "code",
   "execution_count": 3,
   "id": "42afbe00",
   "metadata": {},
   "outputs": [
    {
     "data": {
      "text/plain": [
       "{'Ch1': 'Fp1',\n",
       " 'Ch2': 'Fz',\n",
       " 'Ch3': 'F3',\n",
       " 'Ch4': 'F7',\n",
       " 'Ch5': 'FT9',\n",
       " 'Ch6': 'FC5',\n",
       " 'Ch7': 'FC1',\n",
       " 'Ch8': 'C3',\n",
       " 'Ch9': 'T7',\n",
       " 'Ch10': 'TP9',\n",
       " 'Ch11': 'CP5',\n",
       " 'Ch12': 'CP1',\n",
       " 'Ch13': 'Pz',\n",
       " 'Ch14': 'P3',\n",
       " 'Ch15': 'P7',\n",
       " 'Ch16': 'O1',\n",
       " 'Ch17': 'Oz',\n",
       " 'Ch18': 'O2',\n",
       " 'Ch19': 'P4',\n",
       " 'Ch20': 'P8',\n",
       " 'Ch21': 'TP10',\n",
       " 'Ch22': 'CP6',\n",
       " 'Ch23': 'CP2',\n",
       " 'Ch25': 'C4',\n",
       " 'Ch26': 'T8',\n",
       " 'Ch27': 'FT10',\n",
       " 'Ch28': 'FC6',\n",
       " 'Ch29': 'FC2',\n",
       " 'Ch30': 'F4',\n",
       " 'Ch31': 'F8',\n",
       " 'Ch32': 'Fp2',\n",
       " 'Ch33': 'AF7',\n",
       " 'Ch34': 'AF3',\n",
       " 'Ch35': 'AFz',\n",
       " 'Ch36': 'F1',\n",
       " 'Ch37': 'F5',\n",
       " 'Ch38': 'FT7',\n",
       " 'Ch39': 'FC3',\n",
       " 'Ch40': 'C1',\n",
       " 'Ch41': 'C5',\n",
       " 'Ch42': 'TP7',\n",
       " 'Ch43': 'CP3',\n",
       " 'Ch44': 'P1',\n",
       " 'Ch45': 'P5',\n",
       " 'Ch46': 'PO7',\n",
       " 'Ch47': 'PO3',\n",
       " 'Ch48': 'POz',\n",
       " 'Ch49': 'PO4',\n",
       " 'Ch50': 'PO8',\n",
       " 'Ch51': 'P6',\n",
       " 'Ch52': 'P2',\n",
       " 'Ch53': 'CPz',\n",
       " 'Ch54': 'CP4',\n",
       " 'Ch55': 'TP8',\n",
       " 'Ch56': 'C6',\n",
       " 'Ch57': 'C2',\n",
       " 'Ch58': 'FC4',\n",
       " 'Ch59': 'FT8',\n",
       " 'Ch60': 'F6',\n",
       " 'Ch61': 'AF8',\n",
       " 'Ch62': 'AF4',\n",
       " 'Ch63': 'F2',\n",
       " 'Ch64': 'Iz'}"
      ]
     },
     "execution_count": 3,
     "metadata": {},
     "output_type": "execute_result"
    }
   ],
   "source": [
    "mapping = pd.read_csv('../data/captrak/pitch_tracking_NO_REF.csv')\n",
    "mapping_dict = {mapping.number[i]: mapping.name[i] for i in range(len(mapping))}\n",
    "mapping_dict"
   ]
  },
  {
   "cell_type": "code",
   "execution_count": 4,
   "id": "dd6d94c2",
   "metadata": {},
   "outputs": [
    {
     "name": "stdout",
     "output_type": "stream",
     "text": [
      "Location for this channel is unknown; consider calling set_montage() again if needed.\n"
     ]
    },
    {
     "data": {
      "text/html": [
       "\n",
       "\n",
       "<table class=\"table table-hover table-striped table-sm table-responsive small\">\n",
       "    <tr>\n",
       "        <th>Measurement date</th>\n",
       "        <td>March 07, 2022  15:37:22 GMT</td>\n",
       "        \n",
       "    </tr>\n",
       "    <tr>\n",
       "        <th>Experimenter</th>\n",
       "<td>Unknown</td>\n",
       "    </tr>\n",
       "        <th>Participant</th>\n",
       "<td>Unknown</td>\n",
       "    </tr>\n",
       "    <tr>\n",
       "        <th>Digitized points</th>\n",
       "        <td>Not available</td>\n",
       "    </tr>\n",
       "    <tr>\n",
       "        <th>Good channels</th>\n",
       "        <td>64 EEG, 1 Stimulus</td>\n",
       "    </tr>\n",
       "    <tr>\n",
       "        <th>Bad channels</th>\n",
       "        <td>None</td>\n",
       "    </tr>\n",
       "    <tr>\n",
       "        <th>EOG channels</th>\n",
       "        <td>Not available</td>\n",
       "    </tr>\n",
       "    <tr>\n",
       "        <th>ECG channels</th>\n",
       "        <td>Not available</td>\n",
       "    <tr>\n",
       "        <th>Sampling frequency</th>\n",
       "        <td>5000.00 Hz</td>\n",
       "    </tr>\n",
       "    <tr>\n",
       "        <th>Highpass</th>\n",
       "        <td>0.00 Hz</td>\n",
       "    </tr>\n",
       "    <tr>\n",
       "        <th>Lowpass</th>\n",
       "        <td>2500.00 Hz</td>\n",
       "    </tr>\n",
       "\n",
       "    <tr>\n",
       "        <th>Filenames</th>\n",
       "        <td>letty_subj_6.eeg</td>\n",
       "    </tr>\n",
       "    <tr>\n",
       "        <th>Duration</th>\n",
       "        <td>00:30:42 (HH:MM:SS)</td>\n",
       "    </tr>\n",
       "</table>\n"
      ],
      "text/plain": [
       "<RawBrainVision | letty_subj_6.eeg, 65 x 9212750 (1842.5 s), ~4.46 GB, data loaded>"
      ]
     },
     "execution_count": 4,
     "metadata": {},
     "output_type": "execute_result"
    }
   ],
   "source": [
    "raw_mapped = raw\n",
    "raw_mapped.rename_channels(mapping_dict)\n",
    "raw_mapped.add_reference_channels(ref_channels = ['Cz'])"
   ]
  },
  {
   "cell_type": "code",
   "execution_count": 9,
   "id": "e76a2898",
   "metadata": {},
   "outputs": [
    {
     "name": "stdout",
     "output_type": "stream",
     "text": [
      "EEG channel type selected for re-referencing\n",
      "Creating RawArray with float64 data, n_channels=1, n_times=9212750\n",
      "    Range : 0 ... 9212749 =      0.000 ...  1842.550 secs\n",
      "Ready.\n",
      "Added the following bipolar channels:\n",
      "eog1\n",
      "EEG channel type selected for re-referencing\n",
      "Creating RawArray with float64 data, n_channels=1, n_times=9212750\n",
      "    Range : 0 ... 9212749 =      0.000 ...  1842.550 secs\n",
      "Ready.\n",
      "Added the following bipolar channels:\n",
      "eog2\n"
     ]
    },
    {
     "data": {
      "text/html": [
       "\n",
       "\n",
       "<table class=\"table table-hover table-striped table-sm table-responsive small\">\n",
       "    <tr>\n",
       "        <th>Measurement date</th>\n",
       "        <td>March 07, 2022  15:37:22 GMT</td>\n",
       "        \n",
       "    </tr>\n",
       "    <tr>\n",
       "        <th>Experimenter</th>\n",
       "<td>Unknown</td>\n",
       "    </tr>\n",
       "        <th>Participant</th>\n",
       "<td>Unknown</td>\n",
       "    </tr>\n",
       "    <tr>\n",
       "        <th>Digitized points</th>\n",
       "        <td>65 points</td>\n",
       "    </tr>\n",
       "    <tr>\n",
       "        <th>Good channels</th>\n",
       "        <td>62 EEG, 4 EOG, 1 Stimulus</td>\n",
       "    </tr>\n",
       "    <tr>\n",
       "        <th>Bad channels</th>\n",
       "        <td>None</td>\n",
       "    </tr>\n",
       "    <tr>\n",
       "        <th>EOG channels</th>\n",
       "        <td>AF7, AF8, eog1, eog2</td>\n",
       "    </tr>\n",
       "    <tr>\n",
       "        <th>ECG channels</th>\n",
       "        <td>Not available</td>\n",
       "    <tr>\n",
       "        <th>Sampling frequency</th>\n",
       "        <td>5000.00 Hz</td>\n",
       "    </tr>\n",
       "    <tr>\n",
       "        <th>Highpass</th>\n",
       "        <td>0.00 Hz</td>\n",
       "    </tr>\n",
       "    <tr>\n",
       "        <th>Lowpass</th>\n",
       "        <td>2500.00 Hz</td>\n",
       "    </tr>\n",
       "\n",
       "    <tr>\n",
       "        <th>Filenames</th>\n",
       "        <td>letty_subj_6.eeg</td>\n",
       "    </tr>\n",
       "    <tr>\n",
       "        <th>Duration</th>\n",
       "        <td>00:30:42 (HH:MM:SS)</td>\n",
       "    </tr>\n",
       "</table>\n"
      ],
      "text/plain": [
       "<RawBrainVision | letty_subj_6.eeg, 67 x 9212750 (1842.5 s), ~4.60 GB, data loaded>"
      ]
     },
     "execution_count": 9,
     "metadata": {},
     "output_type": "execute_result"
    }
   ],
   "source": [
    "raw_located = raw_mapped\n",
    "dig = mne.channels.read_dig_captrak('../data/captrak/subj_6.bvct')\n",
    "raw_located = mne.set_bipolar_reference(raw_located, anode = 'Fp1', cathode = 'AF7', ch_name = 'eog1', drop_refs = False)\n",
    "raw_located = mne.set_bipolar_reference(raw_located, anode = 'Fp2', cathode = 'AF8', ch_name = 'eog2', drop_refs = False)\n",
    "raw_located.set_channel_types({'eog1': 'eog', 'eog2': 'eog', 'AF7': 'eog', 'AF8': 'eog'})\n",
    "raw_located.set_montage(dig)"
   ]
  },
  {
   "cell_type": "code",
   "execution_count": null,
   "id": "2731c321",
   "metadata": {},
   "outputs": [],
   "source": [
    "# working condensed version\n",
    "fpath = '../data/raw/letty_subj_6.vhdr'\n",
    "raw = mne.io.read_raw_brainvision(fpath)\n",
    "raw.load_data()\n",
    "raw.set_channel_types({'Aux1': 'stim'})\n",
    "mapping = pd.read_csv('../data/captrak/pitch_tracking_NO_REF.csv')\n",
    "mapping_dict = {mapping.number[i]: mapping.name[i] for i in range(len(mapping))}\n",
    "raw_mapped = raw\n",
    "raw_mapped.rename_channels(mapping_dict)\n",
    "raw_mapped.add_reference_channels(ref_channels = ['Cz'])\n",
    "raw_located = raw_mapped\n",
    "dig = mne.channels.read_dig_captrak('../data/captrak/subj_6.bvct')\n",
    "raw_located = mne.set_bipolar_reference(raw_located, anode = 'Fp1', cathode = 'AF7', ch_name = 'eog1', drop_refs = False)\n",
    "raw_located = mne.set_bipolar_reference(raw_located, anode = 'Fp2', cathode = 'AF8', ch_name = 'eog2', drop_refs = False)\n",
    "raw_located.set_channel_types({'eog1': 'eog', 'eog2': 'eog', 'AF7': 'eog', 'AF8': 'eog'})\n",
    "raw_located.set_montage(dig)"
   ]
  },
  {
   "cell_type": "code",
   "execution_count": null,
   "id": "b3fc91d7",
   "metadata": {},
   "outputs": [],
   "source": [
    "# latest working version\n",
    "fpath = '../data/raw/letty_subj_6.vhdr'\n",
    "raw = mne.io.read_raw_brainvision(fpath)\n",
    "raw.load_data()\n",
    "raw.set_channel_types({'Aux1': 'stim'})\n",
    "raw.info['line_freq'] = 60 # the power line frequency in the building we collected in\n",
    "\n",
    "mapping = mapping_NO_REF if int(sub) in subs_NO_REF else mapping_REF\n",
    "raw.rename_channels(mapping)\n",
    "raw.add_reference_channels(ref_channels = ['Cz'])\n",
    "\n",
    "dig = mne.channels.read_dig_captrak('../data/captrak/subj_6.bvct')\n",
    "raw = mne.set_bipolar_reference(raw, anode = 'Fp1', cathode = 'AF7', ch_name = 'eog1', drop_refs = False)\n",
    "raw = mne.set_bipolar_reference(raw, anode = 'Fp2', cathode = 'AF8', ch_name = 'eog2', drop_refs = False)\n",
    "raw.set_channel_types({'eog1': 'eog', 'eog2': 'eog', 'AF7': 'eog', 'AF8': 'eog'})\n",
    "raw.set_montage(dig)"
   ]
  },
  {
   "cell_type": "code",
   "execution_count": 9,
   "id": "c4462b8f",
   "metadata": {},
   "outputs": [
    {
     "data": {
      "text/plain": [
       "{'Ch0': 'T7',\n",
       " 'Ch1': 'FC5',\n",
       " 'Ch2': 'C5',\n",
       " 'Ch3': 'CP5',\n",
       " 'Ch4': 'F7',\n",
       " 'Ch5': 'FT7',\n",
       " 'Ch6': 'TP7',\n",
       " 'Ch7': 'P7',\n",
       " 'Ch8': 'FT9',\n",
       " 'Ch9': 'TP9',\n",
       " 'Ch10': 'PO7',\n",
       " 'Ch11': 'P3',\n",
       " 'Ch12': 'P5',\n",
       " 'Ch13': 'C3',\n",
       " 'Ch14': 'CP3',\n",
       " 'Ch15': 'O1',\n",
       " 'Ch16': 'PO3',\n",
       " 'Ch17': 'Iz',\n",
       " 'Ch18': 'Oz',\n",
       " 'Ch19': 'POz',\n",
       " 'Ch20': 'O2',\n",
       " 'Ch21': 'PO4',\n",
       " 'Ch22': 'Pz',\n",
       " 'Ch23': 'P1',\n",
       " 'Ch24': 'P2',\n",
       " 'Ch25': 'CP2',\n",
       " 'Ch26': 'CPz',\n",
       " 'Ch27': 'CP1',\n",
       " 'Ch28': 'Cz',\n",
       " 'Ch29': 'C1',\n",
       " 'Ch30': 'FC1',\n",
       " 'Ch31': 'FC3',\n",
       " 'Ch32': 'Fz',\n",
       " 'Ch33': 'F3',\n",
       " 'Ch34': 'F1',\n",
       " 'Ch35': 'F5',\n",
       " 'Ch36': 'AF3',\n",
       " 'Ch37': 'Fp1',\n",
       " 'Ch38': 'AFz',\n",
       " 'Ch39': 'GND',\n",
       " 'Ch40': 'F2',\n",
       " 'Ch41': 'Fp2',\n",
       " 'Ch42': 'AF4',\n",
       " 'Ch43': 'F4',\n",
       " 'Ch44': 'F6',\n",
       " 'Ch45': 'F8',\n",
       " 'Ch46': 'FC2',\n",
       " 'Ch47': 'FC4',\n",
       " 'Ch48': 'FC6',\n",
       " 'Ch49': 'C2',\n",
       " 'Ch50': 'C4',\n",
       " 'Ch51': 'P4',\n",
       " 'Ch52': 'CP4',\n",
       " 'Ch53': 'P6',\n",
       " 'Ch54': 'P8',\n",
       " 'Ch55': 'PO8',\n",
       " 'Ch56': 'CP6',\n",
       " 'Ch57': 'TP10',\n",
       " 'Ch58': 'TP8',\n",
       " 'Ch59': 'FT10',\n",
       " 'Ch60': 'FT8',\n",
       " 'Ch61': 'T8',\n",
       " 'Ch62': 'C6'}"
      ]
     },
     "execution_count": 9,
     "metadata": {},
     "output_type": "execute_result"
    }
   ],
   "source": [
    "# dig = mne.channels.read_dig_captrak('../data/captrak/sub-5.bvct')\n",
    "# mapping = {'Ch%s'%i: dig.ch_names[i] for i in range(len(dig.ch_names))}\n",
    "# del mapping['']"
   ]
  },
  {
   "cell_type": "code",
   "execution_count": 4,
   "id": "d87d741a",
   "metadata": {},
   "outputs": [
    {
     "name": "stdout",
     "output_type": "stream",
     "text": [
      "Extracting parameters from ../data/raw/letty_subj_2.vhdr...\n",
      "Setting channel info structure...\n"
     ]
    },
    {
     "data": {
      "text/plain": [
       "['Ch1',\n",
       " 'Ch2',\n",
       " 'Ch3',\n",
       " 'Ch4',\n",
       " 'Ch5',\n",
       " 'Ch6',\n",
       " 'Ch7',\n",
       " 'Ch8',\n",
       " 'Ch9',\n",
       " 'Ch10',\n",
       " 'Ch11',\n",
       " 'Ch12',\n",
       " 'Ch13',\n",
       " 'Ch14',\n",
       " 'Ch15',\n",
       " 'Ch16',\n",
       " 'Ch17',\n",
       " 'Ch18',\n",
       " 'Ch19',\n",
       " 'Ch20',\n",
       " 'Ch21',\n",
       " 'Ch22',\n",
       " 'Ch23',\n",
       " 'Ch25',\n",
       " 'Ch26',\n",
       " 'Ch27',\n",
       " 'Ch28',\n",
       " 'Ch29',\n",
       " 'Ch30',\n",
       " 'Ch31',\n",
       " 'Ch32',\n",
       " 'Ch33',\n",
       " 'Ch34',\n",
       " 'Ch35',\n",
       " 'Ch36',\n",
       " 'Ch37',\n",
       " 'Ch38',\n",
       " 'Ch39',\n",
       " 'Ch40',\n",
       " 'Ch41',\n",
       " 'Ch42',\n",
       " 'Ch43',\n",
       " 'Ch44',\n",
       " 'Ch45',\n",
       " 'Ch46',\n",
       " 'Ch47',\n",
       " 'Ch48',\n",
       " 'Ch49',\n",
       " 'Ch50',\n",
       " 'Ch51',\n",
       " 'Ch52',\n",
       " 'Ch53',\n",
       " 'Ch54',\n",
       " 'Ch55',\n",
       " 'Ch56',\n",
       " 'Ch57',\n",
       " 'Ch58',\n",
       " 'Ch59',\n",
       " 'Ch60',\n",
       " 'Ch61',\n",
       " 'Ch62',\n",
       " 'Ch63',\n",
       " 'Ch64',\n",
       " 'Aux1']"
      ]
     },
     "execution_count": 4,
     "metadata": {},
     "output_type": "execute_result"
    }
   ],
   "source": [
    "# fpath = '../data/raw/letty_subj_2.vhdr'\n",
    "# raw = mne.io.read_raw_brainvision(fpath)\n",
    "# raw.ch_names"
   ]
  }
 ],
 "metadata": {
  "kernelspec": {
   "display_name": "Python 3 (ipykernel)",
   "language": "python",
   "name": "python3"
  },
  "language_info": {
   "codemirror_mode": {
    "name": "ipython",
    "version": 3
   },
   "file_extension": ".py",
   "mimetype": "text/x-python",
   "name": "python",
   "nbconvert_exporter": "python",
   "pygments_lexer": "ipython3",
   "version": "3.10.4"
  }
 },
 "nbformat": 4,
 "nbformat_minor": 5
}
